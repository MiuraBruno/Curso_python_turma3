{
 "cells": [
  {
   "cell_type": "code",
   "execution_count": 3,
   "metadata": {},
   "outputs": [],
   "source": [
    "import pandas as pd\n",
    "import random\n",
    "from time import sleep\n",
    "from untils.my_functions import *\n",
    "from configparser import ConfigParser"
   ]
  },
  {
   "cell_type": "code",
   "execution_count": 4,
   "metadata": {},
   "outputs": [],
   "source": [
    "def main():\n",
    "    tb_codigos = config_default.get('DEFAULT','tb_cod_produtos')\n",
    "    tb_garcons = config_default.get('DEFAULT','tb_garcons')\n",
    "    codigos = pd.read_csv(tb_codigos)\n",
    "    garcons = pd.read_csv(tb_garcons,sep='|')\n",
    "    qtd_mesa = int(config_default.get('DEFAULT','mesas'))\n",
    "    #geradora de arquvos com os pedidos\n",
    "    for mesa in range(1,qtd_mesa + 1):\n",
    "        numero_pedidos = random.randint(1,10)\n",
    "        atendente = escolhe_opcao(garcons)[0]\n",
    "        pedido = gera_pedido(codigos)\n",
    "        pedido['atendente'] = atendente\n",
    "        df_pedido = pd.DataFrame(pedido,index=[0])\n",
    "        for i in range(numero_pedidos):\n",
    "            pedido = gera_pedido(codigos)\n",
    "            atendente = escolhe_opcao(garcons)[0]\n",
    "            pedido['atendente'] = atendente\n",
    "            df_pedido2 =  pd.DataFrame(pedido,index=[0])\n",
    "            df_pedido = pd.concat([df_pedido,df_pedido2])\n",
    "        df_pedido[['atendente','quantidade','produto']].to_csv('pedidos/mesa_' + str(mesa) + '.csv', sep='\\t',index=False,header=False)\n",
    "        sleep(2)"
   ]
  },
  {
   "cell_type": "code",
   "execution_count": 5,
   "metadata": {},
   "outputs": [
    {
     "ename": "KeyboardInterrupt",
     "evalue": "",
     "output_type": "error",
     "traceback": [
      "\u001b[1;31m---------------------------------------------------------------------------\u001b[0m",
      "\u001b[1;31mKeyboardInterrupt\u001b[0m                         Traceback (most recent call last)",
      "\u001b[1;32m<ipython-input-5-6bfe998f49bb>\u001b[0m in \u001b[0;36m<module>\u001b[1;34m\u001b[0m\n\u001b[0;32m      5\u001b[0m     \u001b[1;32mfor\u001b[0m \u001b[0mi\u001b[0m \u001b[1;32min\u001b[0m \u001b[0mrange\u001b[0m\u001b[1;33m(\u001b[0m\u001b[0mrodadas\u001b[0m \u001b[1;33m+\u001b[0m \u001b[1;36m1\u001b[0m\u001b[1;33m)\u001b[0m\u001b[1;33m:\u001b[0m\u001b[1;33m\u001b[0m\u001b[1;33m\u001b[0m\u001b[0m\n\u001b[0;32m      6\u001b[0m         \u001b[0mmain\u001b[0m\u001b[1;33m(\u001b[0m\u001b[1;33m)\u001b[0m\u001b[1;33m\u001b[0m\u001b[1;33m\u001b[0m\u001b[0m\n\u001b[1;32m----> 7\u001b[1;33m         \u001b[0msleep\u001b[0m\u001b[1;33m(\u001b[0m\u001b[1;36m10\u001b[0m\u001b[1;33m)\u001b[0m\u001b[1;33m\u001b[0m\u001b[1;33m\u001b[0m\u001b[0m\n\u001b[0m\u001b[0;32m      8\u001b[0m     \u001b[1;32mwith\u001b[0m \u001b[0mopen\u001b[0m\u001b[1;33m(\u001b[0m\u001b[1;34m'pedidos/fim.txt'\u001b[0m\u001b[1;33m,\u001b[0m\u001b[1;34m'w'\u001b[0m\u001b[1;33m)\u001b[0m \u001b[1;32mas\u001b[0m \u001b[0mf\u001b[0m\u001b[1;33m:\u001b[0m\u001b[1;33m\u001b[0m\u001b[1;33m\u001b[0m\u001b[0m\n\u001b[0;32m      9\u001b[0m         \u001b[0mf\u001b[0m\u001b[1;33m.\u001b[0m\u001b[0mwrite\u001b[0m\u001b[1;33m(\u001b[0m\u001b[1;34m'OK'\u001b[0m\u001b[1;33m)\u001b[0m\u001b[1;33m\u001b[0m\u001b[1;33m\u001b[0m\u001b[0m\n",
      "\u001b[1;31mKeyboardInterrupt\u001b[0m: "
     ]
    }
   ],
   "source": [
    "if __name__ == '__main__':\n",
    "    config_default = ConfigParser()\n",
    "    config_default.read('config/config.ini')\n",
    "    rodadas =int(config_default.get('DEFAULT','rodadas'))\n",
    "    for i in range(rodadas + 1):\n",
    "        main()\n",
    "        sleep(120)\n",
    "    with open('pedidos/fim.txt','w') as f:\n",
    "        f.write('OK')"
   ]
  },
  {
   "cell_type": "code",
   "execution_count": null,
   "metadata": {},
   "outputs": [],
   "source": []
  }
 ],
 "metadata": {
  "kernelspec": {
   "display_name": "Python 3",
   "language": "python",
   "name": "python3"
  },
  "language_info": {
   "codemirror_mode": {
    "name": "ipython",
    "version": 3
   },
   "file_extension": ".py",
   "mimetype": "text/x-python",
   "name": "python",
   "nbconvert_exporter": "python",
   "pygments_lexer": "ipython3",
   "version": "3.6.10"
  }
 },
 "nbformat": 4,
 "nbformat_minor": 4
}
