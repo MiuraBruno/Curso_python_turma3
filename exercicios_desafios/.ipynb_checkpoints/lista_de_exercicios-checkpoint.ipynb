{
 "cells": [
  {
   "cell_type": "code",
   "execution_count": 1,
   "metadata": {},
   "outputs": [],
   "source": [
    "#exercícios referente a todos os comandos passados até o momento"
   ]
  },
  {
   "cell_type": "code",
   "execution_count": 4,
   "metadata": {},
   "outputs": [
    {
     "data": {
      "text/plain": [
       "'\\nnme\\n    com seu nome completo\\nyo \\n    com sua idade(numero inteiro)\\nhobbi\\n    um lista com pelo menos 4 coisas que você gosta muito de fazer \\nskills\\n    um dicionario contendo 3 ferramentas que você sabe na chave com seus \\n    níveis(basico, medio, avançado) como valor\\n'"
      ]
     },
     "execution_count": 4,
     "metadata": {},
     "output_type": "execute_result"
    }
   ],
   "source": [
    "#crie 4 variáveis\n",
    "'''\n",
    "nme\n",
    "    com seu nome completo\n",
    "yo \n",
    "    com sua idade(numero inteiro)\n",
    "hobbi\n",
    "    um lista com pelo menos 4 coisas que você gosta muito de fazer \n",
    "skills\n",
    "    um dicionario contendo 3 ferramentas que você sabe na chave com seus \n",
    "    níveis(basico, medio, avançado) como valor\n",
    "'''"
   ]
  },
  {
   "cell_type": "code",
   "execution_count": 5,
   "metadata": {},
   "outputs": [
    {
     "data": {
      "text/plain": [
       "16"
      ]
     },
     "execution_count": 5,
     "metadata": {},
     "output_type": "execute_result"
    }
   ],
   "source": [
    "#o que deve ser escrito para realizar a operação 2 elevado a 4"
   ]
  },
  {
   "cell_type": "code",
   "execution_count": 6,
   "metadata": {},
   "outputs": [
    {
     "data": {
      "text/plain": [
       "True"
      ]
     },
     "execution_count": 6,
     "metadata": {},
     "output_type": "execute_result"
    }
   ],
   "source": [
    "#quero comparar o resto da divisão de 10 por 3 e verificar se é igual a 1\n",
    "#a resposta é um booleano True or false"
   ]
  },
  {
   "cell_type": "code",
   "execution_count": 9,
   "metadata": {},
   "outputs": [
    {
     "name": "stdout",
     "output_type": "stream",
     "text": [
      "sim\n"
     ]
    }
   ],
   "source": [
    "#a expressão a seguir tem um erro de sintaxe, pode corrigir?\n",
    "if 1 = 1:\n",
    "    print('sim')"
   ]
  },
  {
   "cell_type": "code",
   "execution_count": 11,
   "metadata": {},
   "outputs": [
    {
     "name": "stdout",
     "output_type": "stream",
     "text": [
      "números diferentes\n"
     ]
    }
   ],
   "source": [
    "#a expressão a seguir tem um erro de sintaxe, pode corrigir?\n",
    "if 1 <= 2:\n",
    "    print('números diferentes')\n",
    "else\n",
    "    print('impossivel')"
   ]
  },
  {
   "cell_type": "code",
   "execution_count": 13,
   "metadata": {},
   "outputs": [
    {
     "name": "stdout",
     "output_type": "stream",
     "text": [
      "['nome', 'id', 'endereço', 'status', 'dat_mov']\n"
     ]
    }
   ],
   "source": [
    "#eu tenho um cabeçalho de um CSV onde o delimitador é ;\n",
    "#como pegar essa string e transformar em uma lista onde cada elemento é uma coluna?\n",
    "cabecalho = 'nome;id;endereço;status;dat_mov'\n",
    "print(cabecalho)"
   ]
  },
  {
   "cell_type": "code",
   "execution_count": null,
   "metadata": {},
   "outputs": [],
   "source": [
    "#ler dois numeros guardar cada um em uma variável e exibir a sua soma dividida por 3\n",
    "#se tiver decimal mostrar apenas 3 casas apos a vírgula"
   ]
  },
  {
   "cell_type": "code",
   "execution_count": 19,
   "metadata": {},
   "outputs": [
    {
     "name": "stdout",
     "output_type": "stream",
     "text": [
      "73\n"
     ]
    }
   ],
   "source": [
    "#faça um laço (while ou for) que percorra uma lista até encontrar o elemento 73 e pare\n",
    "#printandoa qual é o indice da lista que está esse elemento\n",
    "#sugestão existe também uma função chama enumerate\n",
    "l = [3,5,18,90,45,73,88,75]"
   ]
  },
  {
   "cell_type": "code",
   "execution_count": 5,
   "metadata": {},
   "outputs": [
    {
     "data": {
      "text/plain": [
       "120"
      ]
     },
     "execution_count": 5,
     "metadata": {},
     "output_type": "execute_result"
    }
   ],
   "source": [
    "#faça uma função que receba um argumento n e retorne o valor do seu fatorial\n",
    "fat(5)"
   ]
  },
  {
   "cell_type": "code",
   "execution_count": 6,
   "metadata": {},
   "outputs": [
    {
     "name": "stdout",
     "output_type": "stream",
     "text": [
      "Erro no job\n"
     ]
    }
   ],
   "source": [
    "#faça uma função para exebir uma mensagem de erro no job\n",
    "erro()"
   ]
  },
  {
   "cell_type": "code",
   "execution_count": null,
   "metadata": {},
   "outputs": [],
   "source": [
    "#faça uma função que verifica se a senha informada está certa ou errada.\n",
    "#a senha deve ser 123456\n",
    "#o código principal deve permitir apenas 3 tentativas de senha errada exibindo a mensagem que não foi possível\n",
    "#acessar e encerrar o código ou exibir que foi possível\n",
    "senha = '123456'\n",
    "i = 0\n",
    "while i < 3:\n",
    "    tentativa = input()\n",
    "    senha(tentativa)\n",
    "    i = i + 1\n",
    "    .....\n",
    "    .....\n",
    "    \n",
    "#fica ai um trecho de sugestão"
   ]
  },
  {
   "cell_type": "code",
   "execution_count": 19,
   "metadata": {},
   "outputs": [
    {
     "name": "stdout",
     "output_type": "stream",
     "text": [
      "informe o número de alunos1\n",
      "nome do alunobruno\n",
      "notas do aluno separadas por espaço10 7 6\n"
     ]
    }
   ],
   "source": [
    "#a função abaixo calcula a média dos alunos\n",
    "#calcular média dos alunos e dizer se tá aprovado ou nõa\n",
    "#obs.: média é 7.0 aprovado\n",
    "#media entre 7 e 5 exame\n",
    "#media abaixo de 5 reprovado\n",
    "#input são 3 notas com peso\n",
    "#p1 = 2\n",
    "#p2 = 3\n",
    "#p3 = 5\n",
    "def media(**notas):\n",
    "    media = (2 * notas['p1'] + 3 * notas['p2'] + 5 * notas['p3']) /10.0\n",
    "    return media\n",
    "alunos_media = {}\n",
    "#complemente o código para que seja possível cadastrar um número n de aluno e guardar em um dicionario se nome e sua média\n",
    "n = int(input('informe o número de alunos\\n'))\n",
    "for i in range(n):\n",
    "    nome = input('nome do aluno\\n')\n",
    "    notas = input('notas do aluno separadas por espaço\\n').split()\n",
    "    #convertendo notas em float\n",
    "    aux = len(notas)    \n",
    "    for i in range(aux):\n",
    "        notas[i] = float(notas[i])\n",
    "    .....\n",
    "    .....\n",
    "#prossiga com o código para atender todos os requisitos(é apenas uma sugestão de lógica  mas sinta-se livre)"
   ]
  },
  {
   "cell_type": "code",
   "execution_count": null,
   "metadata": {},
   "outputs": [],
   "source": [
    "#apos o término do código acima faça um ranking das notas dos alunos baseado na média e exiba cada nome em uma linha\n",
    "#faça uma função que permita exibir tanto de forma crescente como decrescente\n",
    "#sugestão\n",
    "def ranking(dic_alunos_medias,ordem=-1):\n",
    "    if ordem == 0:\n",
    "        #crescente\n",
    "    elif ordem = -1:\n",
    "        #decrescente\n",
    "    else:\n",
    "        #não exibir nada\n"
   ]
  },
  {
   "cell_type": "code",
   "execution_count": 2,
   "metadata": {},
   "outputs": [
    {
     "data": {
      "text/plain": [
       "'olá'"
      ]
     },
     "execution_count": 2,
     "metadata": {},
     "output_type": "execute_result"
    }
   ],
   "source": [
    "#Dada a lista abaixo, use indexação para obter apenas a string \"ola\".\n",
    "lst = [1,2,[3,4],[5,[100,200,['olá']],23,11],1,7]"
   ]
  },
  {
   "cell_type": "code",
   "execution_count": 9,
   "metadata": {},
   "outputs": [
    {
     "data": {
      "text/plain": [
       "'olá'"
      ]
     },
     "execution_count": 9,
     "metadata": {},
     "output_type": "execute_result"
    }
   ],
   "source": [
    "#Dado o seguinte dicionário aninhado, extraia a palavra \"olá\"\n",
    "d = {'k1':[1,2,3,{'café':['banana','mulher','colher',{'alvo':[1,2,3,'olá']}]}]}\n"
   ]
  },
  {
   "cell_type": "code",
   "execution_count": null,
   "metadata": {},
   "outputs": [],
   "source": []
  }
 ],
 "metadata": {
  "kernelspec": {
   "display_name": "Python 3",
   "language": "python",
   "name": "python3"
  },
  "language_info": {
   "codemirror_mode": {
    "name": "ipython",
    "version": 3
   },
   "file_extension": ".py",
   "mimetype": "text/x-python",
   "name": "python",
   "nbconvert_exporter": "python",
   "pygments_lexer": "ipython3",
   "version": "3.6.10"
  }
 },
 "nbformat": 4,
 "nbformat_minor": 4
}
