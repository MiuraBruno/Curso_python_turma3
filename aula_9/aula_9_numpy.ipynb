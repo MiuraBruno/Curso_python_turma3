{
 "cells": [
  {
   "cell_type": "markdown",
   "metadata": {},
   "source": [
    "# NUMPY"
   ]
  },
  {
   "cell_type": "markdown",
   "metadata": {},
   "source": [
    "* grande quantidade de dados\n",
    "* se assemelha a lista mas tem mais \"poder\"\n",
    "* numpy é escrito em C"
   ]
  },
  {
   "cell_type": "code",
   "execution_count": 1,
   "metadata": {},
   "outputs": [],
   "source": [
    "#https://medium.com/ensina-ai/entendendo-a-biblioteca-numpy-4858fde63355"
   ]
  },
  {
   "cell_type": "markdown",
   "metadata": {},
   "source": [
    "### O NumPy é uma poderosa biblioteca Python que é usada principalmente para realizar cálculos em Arrays Multidimensionais. O NumPy fornece um grande conjunto de funções e operações de biblioteca que ajudam os programadores a executar facilmente cálculos numéricos. Esses tipos de cálculos numéricos são amplamente utilizados em tarefas como"
   ]
  },
  {
   "cell_type": "markdown",
   "metadata": {},
   "source": [
    "## Modelos de Machine Learning\n",
    "## Processamento de Imagem e Computação Gráfica\n",
    "## Tarefas matemáticas"
   ]
  },
  {
   "cell_type": "markdown",
   "metadata": {},
   "source": [
    "** Instalar a biblioteca caso não tennha\n",
    "** py -m pip install numpy"
   ]
  },
  {
   "cell_type": "code",
   "execution_count": 2,
   "metadata": {},
   "outputs": [],
   "source": [
    "import numpy as np"
   ]
  },
  {
   "cell_type": "code",
   "execution_count": 16,
   "metadata": {},
   "outputs": [],
   "source": [
    "v  = [1111,22222,33333,44444]"
   ]
  },
  {
   "cell_type": "code",
   "execution_count": 4,
   "metadata": {},
   "outputs": [
    {
     "data": {
      "text/plain": [
       "list"
      ]
     },
     "execution_count": 4,
     "metadata": {},
     "output_type": "execute_result"
    }
   ],
   "source": [
    "type(v)"
   ]
  },
  {
   "cell_type": "code",
   "execution_count": 17,
   "metadata": {},
   "outputs": [],
   "source": [
    "arr = np.array(v)"
   ]
  },
  {
   "cell_type": "code",
   "execution_count": 6,
   "metadata": {},
   "outputs": [
    {
     "data": {
      "text/plain": [
       "numpy.ndarray"
      ]
     },
     "execution_count": 6,
     "metadata": {},
     "output_type": "execute_result"
    }
   ],
   "source": [
    "type(arr)"
   ]
  },
  {
   "cell_type": "code",
   "execution_count": 7,
   "metadata": {},
   "outputs": [
    {
     "data": {
      "text/plain": [
       "['ALLOW_THREADS',\n",
       " 'AxisError',\n",
       " 'BUFSIZE',\n",
       " 'CLIP',\n",
       " 'ComplexWarning',\n",
       " 'DataSource',\n",
       " 'ERR_CALL',\n",
       " 'ERR_DEFAULT',\n",
       " 'ERR_IGNORE',\n",
       " 'ERR_LOG',\n",
       " 'ERR_PRINT',\n",
       " 'ERR_RAISE',\n",
       " 'ERR_WARN',\n",
       " 'FLOATING_POINT_SUPPORT',\n",
       " 'FPE_DIVIDEBYZERO',\n",
       " 'FPE_INVALID',\n",
       " 'FPE_OVERFLOW',\n",
       " 'FPE_UNDERFLOW',\n",
       " 'False_',\n",
       " 'Inf',\n",
       " 'Infinity',\n",
       " 'MAXDIMS',\n",
       " 'MAY_SHARE_BOUNDS',\n",
       " 'MAY_SHARE_EXACT',\n",
       " 'MachAr',\n",
       " 'ModuleDeprecationWarning',\n",
       " 'NAN',\n",
       " 'NINF',\n",
       " 'NZERO',\n",
       " 'NaN',\n",
       " 'PINF',\n",
       " 'PZERO',\n",
       " 'PackageLoader',\n",
       " 'RAISE',\n",
       " 'RankWarning',\n",
       " 'SHIFT_DIVIDEBYZERO',\n",
       " 'SHIFT_INVALID',\n",
       " 'SHIFT_OVERFLOW',\n",
       " 'SHIFT_UNDERFLOW',\n",
       " 'ScalarType',\n",
       " 'Tester',\n",
       " 'TooHardError',\n",
       " 'True_',\n",
       " 'UFUNC_BUFSIZE_DEFAULT',\n",
       " 'UFUNC_PYVALS_NAME',\n",
       " 'VisibleDeprecationWarning',\n",
       " 'WRAP',\n",
       " '_NoValue',\n",
       " '__NUMPY_SETUP__',\n",
       " '__all__',\n",
       " '__builtins__',\n",
       " '__config__',\n",
       " '__doc__',\n",
       " '__file__',\n",
       " '__git_revision__',\n",
       " '__mkl_version__',\n",
       " '__name__',\n",
       " '__package__',\n",
       " '__path__',\n",
       " '__version__',\n",
       " '_distributor_init',\n",
       " '_globals',\n",
       " '_import_tools',\n",
       " '_mat',\n",
       " '_numpy_tester',\n",
       " 'abs',\n",
       " 'absolute',\n",
       " 'absolute_import',\n",
       " 'add',\n",
       " 'add_docstring',\n",
       " 'add_newdoc',\n",
       " 'add_newdoc_ufunc',\n",
       " 'add_newdocs',\n",
       " 'alen',\n",
       " 'all',\n",
       " 'allclose',\n",
       " 'alltrue',\n",
       " 'amax',\n",
       " 'amin',\n",
       " 'angle',\n",
       " 'any',\n",
       " 'append',\n",
       " 'apply_along_axis',\n",
       " 'apply_over_axes',\n",
       " 'arange',\n",
       " 'arccos',\n",
       " 'arccosh',\n",
       " 'arcsin',\n",
       " 'arcsinh',\n",
       " 'arctan',\n",
       " 'arctan2',\n",
       " 'arctanh',\n",
       " 'argmax',\n",
       " 'argmin',\n",
       " 'argpartition',\n",
       " 'argsort',\n",
       " 'argwhere',\n",
       " 'around',\n",
       " 'array',\n",
       " 'array2string',\n",
       " 'array_equal',\n",
       " 'array_equiv',\n",
       " 'array_repr',\n",
       " 'array_split',\n",
       " 'array_str',\n",
       " 'asanyarray',\n",
       " 'asarray',\n",
       " 'asarray_chkfinite',\n",
       " 'ascontiguousarray',\n",
       " 'asfarray',\n",
       " 'asfortranarray',\n",
       " 'asmatrix',\n",
       " 'asscalar',\n",
       " 'atleast_1d',\n",
       " 'atleast_2d',\n",
       " 'atleast_3d',\n",
       " 'average',\n",
       " 'bartlett',\n",
       " 'base_repr',\n",
       " 'bench',\n",
       " 'binary_repr',\n",
       " 'bincount',\n",
       " 'bitwise_and',\n",
       " 'bitwise_not',\n",
       " 'bitwise_or',\n",
       " 'bitwise_xor',\n",
       " 'blackman',\n",
       " 'block',\n",
       " 'bmat',\n",
       " 'bool',\n",
       " 'bool8',\n",
       " 'bool_',\n",
       " 'broadcast',\n",
       " 'broadcast_arrays',\n",
       " 'broadcast_to',\n",
       " 'busday_count',\n",
       " 'busday_offset',\n",
       " 'busdaycalendar',\n",
       " 'byte',\n",
       " 'byte_bounds',\n",
       " 'bytes_',\n",
       " 'c_',\n",
       " 'can_cast',\n",
       " 'cast',\n",
       " 'cbrt',\n",
       " 'cdouble',\n",
       " 'ceil',\n",
       " 'cfloat',\n",
       " 'char',\n",
       " 'character',\n",
       " 'chararray',\n",
       " 'choose',\n",
       " 'clip',\n",
       " 'clongdouble',\n",
       " 'clongfloat',\n",
       " 'column_stack',\n",
       " 'common_type',\n",
       " 'compare_chararrays',\n",
       " 'compat',\n",
       " 'complex',\n",
       " 'complex128',\n",
       " 'complex64',\n",
       " 'complex_',\n",
       " 'complexfloating',\n",
       " 'compress',\n",
       " 'concatenate',\n",
       " 'conj',\n",
       " 'conjugate',\n",
       " 'convolve',\n",
       " 'copy',\n",
       " 'copysign',\n",
       " 'copyto',\n",
       " 'core',\n",
       " 'corrcoef',\n",
       " 'correlate',\n",
       " 'cos',\n",
       " 'cosh',\n",
       " 'count_nonzero',\n",
       " 'cov',\n",
       " 'cross',\n",
       " 'csingle',\n",
       " 'ctypeslib',\n",
       " 'cumprod',\n",
       " 'cumproduct',\n",
       " 'cumsum',\n",
       " 'datetime64',\n",
       " 'datetime_as_string',\n",
       " 'datetime_data',\n",
       " 'deg2rad',\n",
       " 'degrees',\n",
       " 'delete',\n",
       " 'deprecate',\n",
       " 'deprecate_with_doc',\n",
       " 'diag',\n",
       " 'diag_indices',\n",
       " 'diag_indices_from',\n",
       " 'diagflat',\n",
       " 'diagonal',\n",
       " 'diff',\n",
       " 'digitize',\n",
       " 'disp',\n",
       " 'divide',\n",
       " 'division',\n",
       " 'divmod',\n",
       " 'dot',\n",
       " 'double',\n",
       " 'dsplit',\n",
       " 'dstack',\n",
       " 'dtype',\n",
       " 'e',\n",
       " 'ediff1d',\n",
       " 'einsum',\n",
       " 'einsum_path',\n",
       " 'emath',\n",
       " 'empty',\n",
       " 'empty_like',\n",
       " 'equal',\n",
       " 'errstate',\n",
       " 'euler_gamma',\n",
       " 'exp',\n",
       " 'exp2',\n",
       " 'expand_dims',\n",
       " 'expm1',\n",
       " 'extract',\n",
       " 'eye',\n",
       " 'fabs',\n",
       " 'fastCopyAndTranspose',\n",
       " 'fft',\n",
       " 'fill_diagonal',\n",
       " 'find_common_type',\n",
       " 'finfo',\n",
       " 'fix',\n",
       " 'flatiter',\n",
       " 'flatnonzero',\n",
       " 'flexible',\n",
       " 'flip',\n",
       " 'fliplr',\n",
       " 'flipud',\n",
       " 'float',\n",
       " 'float16',\n",
       " 'float32',\n",
       " 'float64',\n",
       " 'float_',\n",
       " 'float_power',\n",
       " 'floating',\n",
       " 'floor',\n",
       " 'floor_divide',\n",
       " 'fmax',\n",
       " 'fmin',\n",
       " 'fmod',\n",
       " 'format_float_positional',\n",
       " 'format_float_scientific',\n",
       " 'format_parser',\n",
       " 'frexp',\n",
       " 'frombuffer',\n",
       " 'fromfile',\n",
       " 'fromfunction',\n",
       " 'fromiter',\n",
       " 'frompyfunc',\n",
       " 'fromregex',\n",
       " 'fromstring',\n",
       " 'full',\n",
       " 'full_like',\n",
       " 'fv',\n",
       " 'generic',\n",
       " 'genfromtxt',\n",
       " 'geomspace',\n",
       " 'get_array_wrap',\n",
       " 'get_include',\n",
       " 'get_printoptions',\n",
       " 'getbuffer',\n",
       " 'getbufsize',\n",
       " 'geterr',\n",
       " 'geterrcall',\n",
       " 'geterrobj',\n",
       " 'gradient',\n",
       " 'greater',\n",
       " 'greater_equal',\n",
       " 'half',\n",
       " 'hamming',\n",
       " 'hanning',\n",
       " 'heaviside',\n",
       " 'histogram',\n",
       " 'histogram2d',\n",
       " 'histogramdd',\n",
       " 'hsplit',\n",
       " 'hstack',\n",
       " 'hypot',\n",
       " 'i0',\n",
       " 'identity',\n",
       " 'iinfo',\n",
       " 'imag',\n",
       " 'in1d',\n",
       " 'index_exp',\n",
       " 'indices',\n",
       " 'inexact',\n",
       " 'inf',\n",
       " 'info',\n",
       " 'infty',\n",
       " 'inner',\n",
       " 'insert',\n",
       " 'int',\n",
       " 'int0',\n",
       " 'int16',\n",
       " 'int32',\n",
       " 'int64',\n",
       " 'int8',\n",
       " 'int_',\n",
       " 'int_asbuffer',\n",
       " 'intc',\n",
       " 'integer',\n",
       " 'interp',\n",
       " 'intersect1d',\n",
       " 'intp',\n",
       " 'invert',\n",
       " 'ipmt',\n",
       " 'irr',\n",
       " 'is_busday',\n",
       " 'isclose',\n",
       " 'iscomplex',\n",
       " 'iscomplexobj',\n",
       " 'isfinite',\n",
       " 'isfortran',\n",
       " 'isin',\n",
       " 'isinf',\n",
       " 'isnan',\n",
       " 'isnat',\n",
       " 'isneginf',\n",
       " 'isposinf',\n",
       " 'isreal',\n",
       " 'isrealobj',\n",
       " 'isscalar',\n",
       " 'issctype',\n",
       " 'issubclass_',\n",
       " 'issubdtype',\n",
       " 'issubsctype',\n",
       " 'iterable',\n",
       " 'ix_',\n",
       " 'kaiser',\n",
       " 'kron',\n",
       " 'ldexp',\n",
       " 'left_shift',\n",
       " 'less',\n",
       " 'less_equal',\n",
       " 'lexsort',\n",
       " 'lib',\n",
       " 'linalg',\n",
       " 'linspace',\n",
       " 'little_endian',\n",
       " 'load',\n",
       " 'loads',\n",
       " 'loadtxt',\n",
       " 'log',\n",
       " 'log10',\n",
       " 'log1p',\n",
       " 'log2',\n",
       " 'logaddexp',\n",
       " 'logaddexp2',\n",
       " 'logical_and',\n",
       " 'logical_not',\n",
       " 'logical_or',\n",
       " 'logical_xor',\n",
       " 'logspace',\n",
       " 'long',\n",
       " 'longcomplex',\n",
       " 'longdouble',\n",
       " 'longfloat',\n",
       " 'longlong',\n",
       " 'lookfor',\n",
       " 'ma',\n",
       " 'mafromtxt',\n",
       " 'mask_indices',\n",
       " 'mat',\n",
       " 'math',\n",
       " 'matmul',\n",
       " 'matrix',\n",
       " 'matrixlib',\n",
       " 'max',\n",
       " 'maximum',\n",
       " 'maximum_sctype',\n",
       " 'may_share_memory',\n",
       " 'mean',\n",
       " 'median',\n",
       " 'memmap',\n",
       " 'meshgrid',\n",
       " 'mgrid',\n",
       " 'min',\n",
       " 'min_scalar_type',\n",
       " 'minimum',\n",
       " 'mintypecode',\n",
       " 'mirr',\n",
       " 'mod',\n",
       " 'modf',\n",
       " 'moveaxis',\n",
       " 'msort',\n",
       " 'multiply',\n",
       " 'nan',\n",
       " 'nan_to_num',\n",
       " 'nanargmax',\n",
       " 'nanargmin',\n",
       " 'nancumprod',\n",
       " 'nancumsum',\n",
       " 'nanmax',\n",
       " 'nanmean',\n",
       " 'nanmedian',\n",
       " 'nanmin',\n",
       " 'nanpercentile',\n",
       " 'nanprod',\n",
       " 'nanstd',\n",
       " 'nansum',\n",
       " 'nanvar',\n",
       " 'nbytes',\n",
       " 'ndarray',\n",
       " 'ndenumerate',\n",
       " 'ndfromtxt',\n",
       " 'ndim',\n",
       " 'ndindex',\n",
       " 'nditer',\n",
       " 'negative',\n",
       " 'nested_iters',\n",
       " 'newaxis',\n",
       " 'newbuffer',\n",
       " 'nextafter',\n",
       " 'nonzero',\n",
       " 'not_equal',\n",
       " 'nper',\n",
       " 'npv',\n",
       " 'numarray',\n",
       " 'number',\n",
       " 'obj2sctype',\n",
       " 'object',\n",
       " 'object0',\n",
       " 'object_',\n",
       " 'ogrid',\n",
       " 'oldnumeric',\n",
       " 'ones',\n",
       " 'ones_like',\n",
       " 'outer',\n",
       " 'packbits',\n",
       " 'pad',\n",
       " 'partition',\n",
       " 'percentile',\n",
       " 'pi',\n",
       " 'piecewise',\n",
       " 'pkgload',\n",
       " 'place',\n",
       " 'pmt',\n",
       " 'poly',\n",
       " 'poly1d',\n",
       " 'polyadd',\n",
       " 'polyder',\n",
       " 'polydiv',\n",
       " 'polyfit',\n",
       " 'polyint',\n",
       " 'polymul',\n",
       " 'polynomial',\n",
       " 'polysub',\n",
       " 'polyval',\n",
       " 'positive',\n",
       " 'power',\n",
       " 'ppmt',\n",
       " 'print_function',\n",
       " 'prod',\n",
       " 'product',\n",
       " 'promote_types',\n",
       " 'ptp',\n",
       " 'put',\n",
       " 'putmask',\n",
       " 'pv',\n",
       " 'r_',\n",
       " 'rad2deg',\n",
       " 'radians',\n",
       " 'random',\n",
       " 'rank',\n",
       " 'rate',\n",
       " 'ravel',\n",
       " 'ravel_multi_index',\n",
       " 'real',\n",
       " 'real_if_close',\n",
       " 'rec',\n",
       " 'recarray',\n",
       " 'recfromcsv',\n",
       " 'recfromtxt',\n",
       " 'reciprocal',\n",
       " 'record',\n",
       " 'remainder',\n",
       " 'repeat',\n",
       " 'require',\n",
       " 'reshape',\n",
       " 'resize',\n",
       " 'result_type',\n",
       " 'right_shift',\n",
       " 'rint',\n",
       " 'roll',\n",
       " 'rollaxis',\n",
       " 'roots',\n",
       " 'rot90',\n",
       " 'round',\n",
       " 'round_',\n",
       " 'row_stack',\n",
       " 's_',\n",
       " 'safe_eval',\n",
       " 'save',\n",
       " 'savetxt',\n",
       " 'savez',\n",
       " 'savez_compressed',\n",
       " 'sctype2char',\n",
       " 'sctypeDict',\n",
       " 'sctypeNA',\n",
       " 'sctypes',\n",
       " 'searchsorted',\n",
       " 'select',\n",
       " 'set_numeric_ops',\n",
       " 'set_printoptions',\n",
       " 'set_string_function',\n",
       " 'setbufsize',\n",
       " 'setdiff1d',\n",
       " 'seterr',\n",
       " 'seterrcall',\n",
       " 'seterrobj',\n",
       " 'setxor1d',\n",
       " 'shape',\n",
       " 'shares_memory',\n",
       " 'short',\n",
       " 'show_config',\n",
       " 'sign',\n",
       " 'signbit',\n",
       " 'signedinteger',\n",
       " 'sin',\n",
       " 'sinc',\n",
       " 'single',\n",
       " 'singlecomplex',\n",
       " 'sinh',\n",
       " 'size',\n",
       " 'sometrue',\n",
       " 'sort',\n",
       " 'sort_complex',\n",
       " 'source',\n",
       " 'spacing',\n",
       " 'split',\n",
       " 'sqrt',\n",
       " 'square',\n",
       " 'squeeze',\n",
       " 'stack',\n",
       " 'std',\n",
       " 'str',\n",
       " 'str_',\n",
       " 'string0',\n",
       " 'string_',\n",
       " 'subtract',\n",
       " 'sum',\n",
       " 'swapaxes',\n",
       " 'sys',\n",
       " 'take',\n",
       " 'tan',\n",
       " 'tanh',\n",
       " 'tensordot',\n",
       " 'test',\n",
       " 'testing',\n",
       " 'tile',\n",
       " 'timedelta64',\n",
       " 'trace',\n",
       " 'tracemalloc_domain',\n",
       " 'transpose',\n",
       " 'trapz',\n",
       " 'tri',\n",
       " 'tril',\n",
       " 'tril_indices',\n",
       " 'tril_indices_from',\n",
       " 'trim_zeros',\n",
       " 'triu',\n",
       " 'triu_indices',\n",
       " 'triu_indices_from',\n",
       " 'true_divide',\n",
       " 'trunc',\n",
       " 'typeDict',\n",
       " 'typeNA',\n",
       " 'typecodes',\n",
       " 'typename',\n",
       " 'ubyte',\n",
       " 'ufunc',\n",
       " 'uint',\n",
       " 'uint0',\n",
       " 'uint16',\n",
       " 'uint32',\n",
       " 'uint64',\n",
       " 'uint8',\n",
       " 'uintc',\n",
       " 'uintp',\n",
       " 'ulonglong',\n",
       " 'unicode',\n",
       " 'unicode0',\n",
       " 'unicode_',\n",
       " 'union1d',\n",
       " 'unique',\n",
       " 'unpackbits',\n",
       " 'unravel_index',\n",
       " 'unsignedinteger',\n",
       " 'unwrap',\n",
       " 'ushort',\n",
       " 'vander',\n",
       " 'var',\n",
       " 'vdot',\n",
       " 'vectorize',\n",
       " 'version',\n",
       " 'void',\n",
       " 'void0',\n",
       " 'vsplit',\n",
       " 'vstack',\n",
       " 'warnings',\n",
       " 'where',\n",
       " 'who',\n",
       " 'zeros',\n",
       " 'zeros_like']"
      ]
     },
     "execution_count": 7,
     "metadata": {},
     "output_type": "execute_result"
    }
   ],
   "source": [
    "dir(np)"
   ]
  },
  {
   "cell_type": "code",
   "execution_count": 11,
   "metadata": {},
   "outputs": [
    {
     "data": {
      "text/plain": [
       "array([2, 3])"
      ]
     },
     "execution_count": 11,
     "metadata": {},
     "output_type": "execute_result"
    }
   ],
   "source": [
    "arr[1:3]"
   ]
  },
  {
   "cell_type": "code",
   "execution_count": 12,
   "metadata": {},
   "outputs": [
    {
     "data": {
      "text/plain": [
       "array([1, 2, 3, 4])"
      ]
     },
     "execution_count": 12,
     "metadata": {},
     "output_type": "execute_result"
    }
   ],
   "source": [
    "arr"
   ]
  },
  {
   "cell_type": "code",
   "execution_count": 18,
   "metadata": {},
   "outputs": [
    {
     "name": "stdout",
     "output_type": "stream",
     "text": [
      "[ 1111 22222 33333 44444]\n"
     ]
    }
   ],
   "source": [
    "print(arr)"
   ]
  },
  {
   "cell_type": "code",
   "execution_count": 14,
   "metadata": {},
   "outputs": [
    {
     "name": "stdout",
     "output_type": "stream",
     "text": [
      "[1, 2, 3, 4]\n"
     ]
    }
   ],
   "source": [
    "print(v)"
   ]
  },
  {
   "cell_type": "code",
   "execution_count": 19,
   "metadata": {},
   "outputs": [
    {
     "name": "stdout",
     "output_type": "stream",
     "text": [
      "1111\n",
      "22222\n",
      "33333\n",
      "44444\n"
     ]
    }
   ],
   "source": [
    "for i in arr:\n",
    "    print(i)"
   ]
  },
  {
   "cell_type": "code",
   "execution_count": 21,
   "metadata": {},
   "outputs": [
    {
     "name": "stdout",
     "output_type": "stream",
     "text": [
      "indice 0\n",
      "valor 1111\n",
      "------------------------------\n",
      "indice 1\n",
      "valor 22222\n",
      "------------------------------\n",
      "indice 2\n",
      "valor 33333\n",
      "------------------------------\n",
      "indice 3\n",
      "valor 44444\n",
      "------------------------------\n"
     ]
    }
   ],
   "source": [
    "for i,j in enumerate(arr):\n",
    "    print('indice %d' %(i))\n",
    "    print('valor %d' %(j))\n",
    "    print('-' * 30)"
   ]
  },
  {
   "cell_type": "code",
   "execution_count": 22,
   "metadata": {},
   "outputs": [],
   "source": [
    "lista_lista = [[1,2,3],[4,5,6],[7,8,9]]"
   ]
  },
  {
   "cell_type": "code",
   "execution_count": 23,
   "metadata": {},
   "outputs": [
    {
     "data": {
      "text/plain": [
       "[[1, 2, 3], [4, 5, 6], [7, 8, 9]]"
      ]
     },
     "execution_count": 23,
     "metadata": {},
     "output_type": "execute_result"
    }
   ],
   "source": [
    "lista_lista"
   ]
  },
  {
   "cell_type": "code",
   "execution_count": 24,
   "metadata": {},
   "outputs": [],
   "source": [
    "m_numpy = np.array(lista_lista)"
   ]
  },
  {
   "cell_type": "code",
   "execution_count": 25,
   "metadata": {},
   "outputs": [
    {
     "data": {
      "text/plain": [
       "1"
      ]
     },
     "execution_count": 25,
     "metadata": {},
     "output_type": "execute_result"
    }
   ],
   "source": [
    "m_numpy[0][0]"
   ]
  },
  {
   "cell_type": "code",
   "execution_count": 26,
   "metadata": {},
   "outputs": [
    {
     "data": {
      "text/plain": [
       "5"
      ]
     },
     "execution_count": 26,
     "metadata": {},
     "output_type": "execute_result"
    }
   ],
   "source": [
    "m_numpy[1][1]"
   ]
  },
  {
   "cell_type": "code",
   "execution_count": 27,
   "metadata": {},
   "outputs": [
    {
     "data": {
      "text/plain": [
       "array([4, 5, 6])"
      ]
     },
     "execution_count": 27,
     "metadata": {},
     "output_type": "execute_result"
    }
   ],
   "source": [
    "m_numpy[1]"
   ]
  },
  {
   "cell_type": "code",
   "execution_count": 31,
   "metadata": {},
   "outputs": [
    {
     "data": {
      "text/plain": [
       "array([[1, 2, 3],\n",
       "       [4, 5, 6]])"
      ]
     },
     "execution_count": 31,
     "metadata": {},
     "output_type": "execute_result"
    }
   ],
   "source": [
    "m_numpy[:2]"
   ]
  },
  {
   "cell_type": "code",
   "execution_count": 32,
   "metadata": {},
   "outputs": [],
   "source": [
    "v = list(range(10))"
   ]
  },
  {
   "cell_type": "code",
   "execution_count": 33,
   "metadata": {},
   "outputs": [
    {
     "data": {
      "text/plain": [
       "[0, 1, 2, 3, 4, 5, 6, 7, 8, 9]"
      ]
     },
     "execution_count": 33,
     "metadata": {},
     "output_type": "execute_result"
    }
   ],
   "source": [
    "v"
   ]
  },
  {
   "cell_type": "code",
   "execution_count": 34,
   "metadata": {},
   "outputs": [],
   "source": [
    "arr = np.arange(10)"
   ]
  },
  {
   "cell_type": "code",
   "execution_count": 35,
   "metadata": {},
   "outputs": [
    {
     "data": {
      "text/plain": [
       "array([0, 1, 2, 3, 4, 5, 6, 7, 8, 9])"
      ]
     },
     "execution_count": 35,
     "metadata": {},
     "output_type": "execute_result"
    }
   ],
   "source": [
    "arr"
   ]
  },
  {
   "cell_type": "code",
   "execution_count": 38,
   "metadata": {},
   "outputs": [
    {
     "data": {
      "text/plain": [
       "array([13, 14, 15, 16, 17, 18, 19, 20, 21, 22, 23, 24, 25, 26])"
      ]
     },
     "execution_count": 38,
     "metadata": {},
     "output_type": "execute_result"
    }
   ],
   "source": [
    "np.arange(13,27)"
   ]
  },
  {
   "cell_type": "code",
   "execution_count": null,
   "metadata": {},
   "outputs": [],
   "source": [
    "#como ver a ordem da matriz(linha,coluna)"
   ]
  },
  {
   "cell_type": "code",
   "execution_count": 39,
   "metadata": {},
   "outputs": [
    {
     "data": {
      "text/plain": [
       "(10L,)"
      ]
     },
     "execution_count": 39,
     "metadata": {},
     "output_type": "execute_result"
    }
   ],
   "source": [
    "arr.shape"
   ]
  },
  {
   "cell_type": "code",
   "execution_count": 42,
   "metadata": {},
   "outputs": [
    {
     "data": {
      "text/plain": [
       "(3L, 3L)"
      ]
     },
     "execution_count": 42,
     "metadata": {},
     "output_type": "execute_result"
    }
   ],
   "source": [
    "m_numpy.shape"
   ]
  },
  {
   "cell_type": "code",
   "execution_count": 43,
   "metadata": {},
   "outputs": [
    {
     "data": {
      "text/plain": [
       "array([[0., 0., 0., 0., 0.],\n",
       "       [0., 0., 0., 0., 0.],\n",
       "       [0., 0., 0., 0., 0.],\n",
       "       [0., 0., 0., 0., 0.],\n",
       "       [0., 0., 0., 0., 0.]])"
      ]
     },
     "execution_count": 43,
     "metadata": {},
     "output_type": "execute_result"
    }
   ],
   "source": [
    "#passar uma tupla como argumento\n",
    "np.zeros((5,5))"
   ]
  },
  {
   "cell_type": "code",
   "execution_count": 44,
   "metadata": {},
   "outputs": [],
   "source": [
    "arr_3  = np.zeros((3,3,3))"
   ]
  },
  {
   "cell_type": "code",
   "execution_count": 45,
   "metadata": {},
   "outputs": [
    {
     "data": {
      "text/plain": [
       "array([[[0., 0., 0.],\n",
       "        [0., 0., 0.],\n",
       "        [0., 0., 0.]],\n",
       "\n",
       "       [[0., 0., 0.],\n",
       "        [0., 0., 0.],\n",
       "        [0., 0., 0.]],\n",
       "\n",
       "       [[0., 0., 0.],\n",
       "        [0., 0., 0.],\n",
       "        [0., 0., 0.]]])"
      ]
     },
     "execution_count": 45,
     "metadata": {},
     "output_type": "execute_result"
    }
   ],
   "source": [
    "arr_3"
   ]
  },
  {
   "cell_type": "code",
   "execution_count": 46,
   "metadata": {},
   "outputs": [],
   "source": [
    "arr_4 = np.zeros((1,2,3,4,5))"
   ]
  },
  {
   "cell_type": "code",
   "execution_count": 48,
   "metadata": {},
   "outputs": [
    {
     "data": {
      "text/plain": [
       "array([[[[[0., 0., 0., 0., 0.],\n",
       "          [0., 0., 0., 0., 0.],\n",
       "          [0., 0., 0., 0., 0.],\n",
       "          [0., 0., 0., 0., 0.]],\n",
       "\n",
       "         [[0., 0., 0., 0., 0.],\n",
       "          [0., 0., 0., 0., 0.],\n",
       "          [0., 0., 0., 0., 0.],\n",
       "          [0., 0., 0., 0., 0.]],\n",
       "\n",
       "         [[0., 0., 0., 0., 0.],\n",
       "          [0., 0., 0., 0., 0.],\n",
       "          [0., 0., 0., 0., 0.],\n",
       "          [0., 0., 0., 0., 0.]]],\n",
       "\n",
       "\n",
       "        [[[0., 0., 0., 0., 0.],\n",
       "          [0., 0., 0., 0., 0.],\n",
       "          [0., 0., 0., 0., 0.],\n",
       "          [0., 0., 0., 0., 0.]],\n",
       "\n",
       "         [[0., 0., 0., 0., 0.],\n",
       "          [0., 0., 0., 0., 0.],\n",
       "          [0., 0., 0., 0., 0.],\n",
       "          [0., 0., 0., 0., 0.]],\n",
       "\n",
       "         [[0., 0., 0., 0., 0.],\n",
       "          [0., 0., 0., 0., 0.],\n",
       "          [0., 0., 0., 0., 0.],\n",
       "          [0., 0., 0., 0., 0.]]]]])"
      ]
     },
     "execution_count": 48,
     "metadata": {},
     "output_type": "execute_result"
    }
   ],
   "source": [
    "arr_4"
   ]
  },
  {
   "cell_type": "code",
   "execution_count": 49,
   "metadata": {},
   "outputs": [
    {
     "data": {
      "text/plain": [
       "(3L, 3L, 3L)"
      ]
     },
     "execution_count": 49,
     "metadata": {},
     "output_type": "execute_result"
    }
   ],
   "source": [
    "arr_3.shape"
   ]
  },
  {
   "cell_type": "code",
   "execution_count": 50,
   "metadata": {},
   "outputs": [],
   "source": [
    "arr_x = np.zeros((2,3,4))"
   ]
  },
  {
   "cell_type": "code",
   "execution_count": 51,
   "metadata": {},
   "outputs": [
    {
     "data": {
      "text/plain": [
       "array([[[0., 0., 0., 0.],\n",
       "        [0., 0., 0., 0.],\n",
       "        [0., 0., 0., 0.]],\n",
       "\n",
       "       [[0., 0., 0., 0.],\n",
       "        [0., 0., 0., 0.],\n",
       "        [0., 0., 0., 0.]]])"
      ]
     },
     "execution_count": 51,
     "metadata": {},
     "output_type": "execute_result"
    }
   ],
   "source": [
    "arr_x"
   ]
  },
  {
   "cell_type": "code",
   "execution_count": 52,
   "metadata": {},
   "outputs": [],
   "source": [
    "arr = np.zeros((2,3,4,5,6,7))"
   ]
  },
  {
   "cell_type": "code",
   "execution_count": 53,
   "metadata": {},
   "outputs": [
    {
     "data": {
      "text/plain": [
       "array([[[[[[0., 0., 0., ..., 0., 0., 0.],\n",
       "           [0., 0., 0., ..., 0., 0., 0.],\n",
       "           [0., 0., 0., ..., 0., 0., 0.],\n",
       "           [0., 0., 0., ..., 0., 0., 0.],\n",
       "           [0., 0., 0., ..., 0., 0., 0.],\n",
       "           [0., 0., 0., ..., 0., 0., 0.]],\n",
       "\n",
       "          [[0., 0., 0., ..., 0., 0., 0.],\n",
       "           [0., 0., 0., ..., 0., 0., 0.],\n",
       "           [0., 0., 0., ..., 0., 0., 0.],\n",
       "           [0., 0., 0., ..., 0., 0., 0.],\n",
       "           [0., 0., 0., ..., 0., 0., 0.],\n",
       "           [0., 0., 0., ..., 0., 0., 0.]],\n",
       "\n",
       "          [[0., 0., 0., ..., 0., 0., 0.],\n",
       "           [0., 0., 0., ..., 0., 0., 0.],\n",
       "           [0., 0., 0., ..., 0., 0., 0.],\n",
       "           [0., 0., 0., ..., 0., 0., 0.],\n",
       "           [0., 0., 0., ..., 0., 0., 0.],\n",
       "           [0., 0., 0., ..., 0., 0., 0.]],\n",
       "\n",
       "          [[0., 0., 0., ..., 0., 0., 0.],\n",
       "           [0., 0., 0., ..., 0., 0., 0.],\n",
       "           [0., 0., 0., ..., 0., 0., 0.],\n",
       "           [0., 0., 0., ..., 0., 0., 0.],\n",
       "           [0., 0., 0., ..., 0., 0., 0.],\n",
       "           [0., 0., 0., ..., 0., 0., 0.]],\n",
       "\n",
       "          [[0., 0., 0., ..., 0., 0., 0.],\n",
       "           [0., 0., 0., ..., 0., 0., 0.],\n",
       "           [0., 0., 0., ..., 0., 0., 0.],\n",
       "           [0., 0., 0., ..., 0., 0., 0.],\n",
       "           [0., 0., 0., ..., 0., 0., 0.],\n",
       "           [0., 0., 0., ..., 0., 0., 0.]]],\n",
       "\n",
       "\n",
       "         [[[0., 0., 0., ..., 0., 0., 0.],\n",
       "           [0., 0., 0., ..., 0., 0., 0.],\n",
       "           [0., 0., 0., ..., 0., 0., 0.],\n",
       "           [0., 0., 0., ..., 0., 0., 0.],\n",
       "           [0., 0., 0., ..., 0., 0., 0.],\n",
       "           [0., 0., 0., ..., 0., 0., 0.]],\n",
       "\n",
       "          [[0., 0., 0., ..., 0., 0., 0.],\n",
       "           [0., 0., 0., ..., 0., 0., 0.],\n",
       "           [0., 0., 0., ..., 0., 0., 0.],\n",
       "           [0., 0., 0., ..., 0., 0., 0.],\n",
       "           [0., 0., 0., ..., 0., 0., 0.],\n",
       "           [0., 0., 0., ..., 0., 0., 0.]],\n",
       "\n",
       "          [[0., 0., 0., ..., 0., 0., 0.],\n",
       "           [0., 0., 0., ..., 0., 0., 0.],\n",
       "           [0., 0., 0., ..., 0., 0., 0.],\n",
       "           [0., 0., 0., ..., 0., 0., 0.],\n",
       "           [0., 0., 0., ..., 0., 0., 0.],\n",
       "           [0., 0., 0., ..., 0., 0., 0.]],\n",
       "\n",
       "          [[0., 0., 0., ..., 0., 0., 0.],\n",
       "           [0., 0., 0., ..., 0., 0., 0.],\n",
       "           [0., 0., 0., ..., 0., 0., 0.],\n",
       "           [0., 0., 0., ..., 0., 0., 0.],\n",
       "           [0., 0., 0., ..., 0., 0., 0.],\n",
       "           [0., 0., 0., ..., 0., 0., 0.]],\n",
       "\n",
       "          [[0., 0., 0., ..., 0., 0., 0.],\n",
       "           [0., 0., 0., ..., 0., 0., 0.],\n",
       "           [0., 0., 0., ..., 0., 0., 0.],\n",
       "           [0., 0., 0., ..., 0., 0., 0.],\n",
       "           [0., 0., 0., ..., 0., 0., 0.],\n",
       "           [0., 0., 0., ..., 0., 0., 0.]]],\n",
       "\n",
       "\n",
       "         [[[0., 0., 0., ..., 0., 0., 0.],\n",
       "           [0., 0., 0., ..., 0., 0., 0.],\n",
       "           [0., 0., 0., ..., 0., 0., 0.],\n",
       "           [0., 0., 0., ..., 0., 0., 0.],\n",
       "           [0., 0., 0., ..., 0., 0., 0.],\n",
       "           [0., 0., 0., ..., 0., 0., 0.]],\n",
       "\n",
       "          [[0., 0., 0., ..., 0., 0., 0.],\n",
       "           [0., 0., 0., ..., 0., 0., 0.],\n",
       "           [0., 0., 0., ..., 0., 0., 0.],\n",
       "           [0., 0., 0., ..., 0., 0., 0.],\n",
       "           [0., 0., 0., ..., 0., 0., 0.],\n",
       "           [0., 0., 0., ..., 0., 0., 0.]],\n",
       "\n",
       "          [[0., 0., 0., ..., 0., 0., 0.],\n",
       "           [0., 0., 0., ..., 0., 0., 0.],\n",
       "           [0., 0., 0., ..., 0., 0., 0.],\n",
       "           [0., 0., 0., ..., 0., 0., 0.],\n",
       "           [0., 0., 0., ..., 0., 0., 0.],\n",
       "           [0., 0., 0., ..., 0., 0., 0.]],\n",
       "\n",
       "          [[0., 0., 0., ..., 0., 0., 0.],\n",
       "           [0., 0., 0., ..., 0., 0., 0.],\n",
       "           [0., 0., 0., ..., 0., 0., 0.],\n",
       "           [0., 0., 0., ..., 0., 0., 0.],\n",
       "           [0., 0., 0., ..., 0., 0., 0.],\n",
       "           [0., 0., 0., ..., 0., 0., 0.]],\n",
       "\n",
       "          [[0., 0., 0., ..., 0., 0., 0.],\n",
       "           [0., 0., 0., ..., 0., 0., 0.],\n",
       "           [0., 0., 0., ..., 0., 0., 0.],\n",
       "           [0., 0., 0., ..., 0., 0., 0.],\n",
       "           [0., 0., 0., ..., 0., 0., 0.],\n",
       "           [0., 0., 0., ..., 0., 0., 0.]]],\n",
       "\n",
       "\n",
       "         [[[0., 0., 0., ..., 0., 0., 0.],\n",
       "           [0., 0., 0., ..., 0., 0., 0.],\n",
       "           [0., 0., 0., ..., 0., 0., 0.],\n",
       "           [0., 0., 0., ..., 0., 0., 0.],\n",
       "           [0., 0., 0., ..., 0., 0., 0.],\n",
       "           [0., 0., 0., ..., 0., 0., 0.]],\n",
       "\n",
       "          [[0., 0., 0., ..., 0., 0., 0.],\n",
       "           [0., 0., 0., ..., 0., 0., 0.],\n",
       "           [0., 0., 0., ..., 0., 0., 0.],\n",
       "           [0., 0., 0., ..., 0., 0., 0.],\n",
       "           [0., 0., 0., ..., 0., 0., 0.],\n",
       "           [0., 0., 0., ..., 0., 0., 0.]],\n",
       "\n",
       "          [[0., 0., 0., ..., 0., 0., 0.],\n",
       "           [0., 0., 0., ..., 0., 0., 0.],\n",
       "           [0., 0., 0., ..., 0., 0., 0.],\n",
       "           [0., 0., 0., ..., 0., 0., 0.],\n",
       "           [0., 0., 0., ..., 0., 0., 0.],\n",
       "           [0., 0., 0., ..., 0., 0., 0.]],\n",
       "\n",
       "          [[0., 0., 0., ..., 0., 0., 0.],\n",
       "           [0., 0., 0., ..., 0., 0., 0.],\n",
       "           [0., 0., 0., ..., 0., 0., 0.],\n",
       "           [0., 0., 0., ..., 0., 0., 0.],\n",
       "           [0., 0., 0., ..., 0., 0., 0.],\n",
       "           [0., 0., 0., ..., 0., 0., 0.]],\n",
       "\n",
       "          [[0., 0., 0., ..., 0., 0., 0.],\n",
       "           [0., 0., 0., ..., 0., 0., 0.],\n",
       "           [0., 0., 0., ..., 0., 0., 0.],\n",
       "           [0., 0., 0., ..., 0., 0., 0.],\n",
       "           [0., 0., 0., ..., 0., 0., 0.],\n",
       "           [0., 0., 0., ..., 0., 0., 0.]]]],\n",
       "\n",
       "\n",
       "\n",
       "        [[[[0., 0., 0., ..., 0., 0., 0.],\n",
       "           [0., 0., 0., ..., 0., 0., 0.],\n",
       "           [0., 0., 0., ..., 0., 0., 0.],\n",
       "           [0., 0., 0., ..., 0., 0., 0.],\n",
       "           [0., 0., 0., ..., 0., 0., 0.],\n",
       "           [0., 0., 0., ..., 0., 0., 0.]],\n",
       "\n",
       "          [[0., 0., 0., ..., 0., 0., 0.],\n",
       "           [0., 0., 0., ..., 0., 0., 0.],\n",
       "           [0., 0., 0., ..., 0., 0., 0.],\n",
       "           [0., 0., 0., ..., 0., 0., 0.],\n",
       "           [0., 0., 0., ..., 0., 0., 0.],\n",
       "           [0., 0., 0., ..., 0., 0., 0.]],\n",
       "\n",
       "          [[0., 0., 0., ..., 0., 0., 0.],\n",
       "           [0., 0., 0., ..., 0., 0., 0.],\n",
       "           [0., 0., 0., ..., 0., 0., 0.],\n",
       "           [0., 0., 0., ..., 0., 0., 0.],\n",
       "           [0., 0., 0., ..., 0., 0., 0.],\n",
       "           [0., 0., 0., ..., 0., 0., 0.]],\n",
       "\n",
       "          [[0., 0., 0., ..., 0., 0., 0.],\n",
       "           [0., 0., 0., ..., 0., 0., 0.],\n",
       "           [0., 0., 0., ..., 0., 0., 0.],\n",
       "           [0., 0., 0., ..., 0., 0., 0.],\n",
       "           [0., 0., 0., ..., 0., 0., 0.],\n",
       "           [0., 0., 0., ..., 0., 0., 0.]],\n",
       "\n",
       "          [[0., 0., 0., ..., 0., 0., 0.],\n",
       "           [0., 0., 0., ..., 0., 0., 0.],\n",
       "           [0., 0., 0., ..., 0., 0., 0.],\n",
       "           [0., 0., 0., ..., 0., 0., 0.],\n",
       "           [0., 0., 0., ..., 0., 0., 0.],\n",
       "           [0., 0., 0., ..., 0., 0., 0.]]],\n",
       "\n",
       "\n",
       "         [[[0., 0., 0., ..., 0., 0., 0.],\n",
       "           [0., 0., 0., ..., 0., 0., 0.],\n",
       "           [0., 0., 0., ..., 0., 0., 0.],\n",
       "           [0., 0., 0., ..., 0., 0., 0.],\n",
       "           [0., 0., 0., ..., 0., 0., 0.],\n",
       "           [0., 0., 0., ..., 0., 0., 0.]],\n",
       "\n",
       "          [[0., 0., 0., ..., 0., 0., 0.],\n",
       "           [0., 0., 0., ..., 0., 0., 0.],\n",
       "           [0., 0., 0., ..., 0., 0., 0.],\n",
       "           [0., 0., 0., ..., 0., 0., 0.],\n",
       "           [0., 0., 0., ..., 0., 0., 0.],\n",
       "           [0., 0., 0., ..., 0., 0., 0.]],\n",
       "\n",
       "          [[0., 0., 0., ..., 0., 0., 0.],\n",
       "           [0., 0., 0., ..., 0., 0., 0.],\n",
       "           [0., 0., 0., ..., 0., 0., 0.],\n",
       "           [0., 0., 0., ..., 0., 0., 0.],\n",
       "           [0., 0., 0., ..., 0., 0., 0.],\n",
       "           [0., 0., 0., ..., 0., 0., 0.]],\n",
       "\n",
       "          [[0., 0., 0., ..., 0., 0., 0.],\n",
       "           [0., 0., 0., ..., 0., 0., 0.],\n",
       "           [0., 0., 0., ..., 0., 0., 0.],\n",
       "           [0., 0., 0., ..., 0., 0., 0.],\n",
       "           [0., 0., 0., ..., 0., 0., 0.],\n",
       "           [0., 0., 0., ..., 0., 0., 0.]],\n",
       "\n",
       "          [[0., 0., 0., ..., 0., 0., 0.],\n",
       "           [0., 0., 0., ..., 0., 0., 0.],\n",
       "           [0., 0., 0., ..., 0., 0., 0.],\n",
       "           [0., 0., 0., ..., 0., 0., 0.],\n",
       "           [0., 0., 0., ..., 0., 0., 0.],\n",
       "           [0., 0., 0., ..., 0., 0., 0.]]],\n",
       "\n",
       "\n",
       "         [[[0., 0., 0., ..., 0., 0., 0.],\n",
       "           [0., 0., 0., ..., 0., 0., 0.],\n",
       "           [0., 0., 0., ..., 0., 0., 0.],\n",
       "           [0., 0., 0., ..., 0., 0., 0.],\n",
       "           [0., 0., 0., ..., 0., 0., 0.],\n",
       "           [0., 0., 0., ..., 0., 0., 0.]],\n",
       "\n",
       "          [[0., 0., 0., ..., 0., 0., 0.],\n",
       "           [0., 0., 0., ..., 0., 0., 0.],\n",
       "           [0., 0., 0., ..., 0., 0., 0.],\n",
       "           [0., 0., 0., ..., 0., 0., 0.],\n",
       "           [0., 0., 0., ..., 0., 0., 0.],\n",
       "           [0., 0., 0., ..., 0., 0., 0.]],\n",
       "\n",
       "          [[0., 0., 0., ..., 0., 0., 0.],\n",
       "           [0., 0., 0., ..., 0., 0., 0.],\n",
       "           [0., 0., 0., ..., 0., 0., 0.],\n",
       "           [0., 0., 0., ..., 0., 0., 0.],\n",
       "           [0., 0., 0., ..., 0., 0., 0.],\n",
       "           [0., 0., 0., ..., 0., 0., 0.]],\n",
       "\n",
       "          [[0., 0., 0., ..., 0., 0., 0.],\n",
       "           [0., 0., 0., ..., 0., 0., 0.],\n",
       "           [0., 0., 0., ..., 0., 0., 0.],\n",
       "           [0., 0., 0., ..., 0., 0., 0.],\n",
       "           [0., 0., 0., ..., 0., 0., 0.],\n",
       "           [0., 0., 0., ..., 0., 0., 0.]],\n",
       "\n",
       "          [[0., 0., 0., ..., 0., 0., 0.],\n",
       "           [0., 0., 0., ..., 0., 0., 0.],\n",
       "           [0., 0., 0., ..., 0., 0., 0.],\n",
       "           [0., 0., 0., ..., 0., 0., 0.],\n",
       "           [0., 0., 0., ..., 0., 0., 0.],\n",
       "           [0., 0., 0., ..., 0., 0., 0.]]],\n",
       "\n",
       "\n",
       "         [[[0., 0., 0., ..., 0., 0., 0.],\n",
       "           [0., 0., 0., ..., 0., 0., 0.],\n",
       "           [0., 0., 0., ..., 0., 0., 0.],\n",
       "           [0., 0., 0., ..., 0., 0., 0.],\n",
       "           [0., 0., 0., ..., 0., 0., 0.],\n",
       "           [0., 0., 0., ..., 0., 0., 0.]],\n",
       "\n",
       "          [[0., 0., 0., ..., 0., 0., 0.],\n",
       "           [0., 0., 0., ..., 0., 0., 0.],\n",
       "           [0., 0., 0., ..., 0., 0., 0.],\n",
       "           [0., 0., 0., ..., 0., 0., 0.],\n",
       "           [0., 0., 0., ..., 0., 0., 0.],\n",
       "           [0., 0., 0., ..., 0., 0., 0.]],\n",
       "\n",
       "          [[0., 0., 0., ..., 0., 0., 0.],\n",
       "           [0., 0., 0., ..., 0., 0., 0.],\n",
       "           [0., 0., 0., ..., 0., 0., 0.],\n",
       "           [0., 0., 0., ..., 0., 0., 0.],\n",
       "           [0., 0., 0., ..., 0., 0., 0.],\n",
       "           [0., 0., 0., ..., 0., 0., 0.]],\n",
       "\n",
       "          [[0., 0., 0., ..., 0., 0., 0.],\n",
       "           [0., 0., 0., ..., 0., 0., 0.],\n",
       "           [0., 0., 0., ..., 0., 0., 0.],\n",
       "           [0., 0., 0., ..., 0., 0., 0.],\n",
       "           [0., 0., 0., ..., 0., 0., 0.],\n",
       "           [0., 0., 0., ..., 0., 0., 0.]],\n",
       "\n",
       "          [[0., 0., 0., ..., 0., 0., 0.],\n",
       "           [0., 0., 0., ..., 0., 0., 0.],\n",
       "           [0., 0., 0., ..., 0., 0., 0.],\n",
       "           [0., 0., 0., ..., 0., 0., 0.],\n",
       "           [0., 0., 0., ..., 0., 0., 0.],\n",
       "           [0., 0., 0., ..., 0., 0., 0.]]]],\n",
       "\n",
       "\n",
       "\n",
       "        [[[[0., 0., 0., ..., 0., 0., 0.],\n",
       "           [0., 0., 0., ..., 0., 0., 0.],\n",
       "           [0., 0., 0., ..., 0., 0., 0.],\n",
       "           [0., 0., 0., ..., 0., 0., 0.],\n",
       "           [0., 0., 0., ..., 0., 0., 0.],\n",
       "           [0., 0., 0., ..., 0., 0., 0.]],\n",
       "\n",
       "          [[0., 0., 0., ..., 0., 0., 0.],\n",
       "           [0., 0., 0., ..., 0., 0., 0.],\n",
       "           [0., 0., 0., ..., 0., 0., 0.],\n",
       "           [0., 0., 0., ..., 0., 0., 0.],\n",
       "           [0., 0., 0., ..., 0., 0., 0.],\n",
       "           [0., 0., 0., ..., 0., 0., 0.]],\n",
       "\n",
       "          [[0., 0., 0., ..., 0., 0., 0.],\n",
       "           [0., 0., 0., ..., 0., 0., 0.],\n",
       "           [0., 0., 0., ..., 0., 0., 0.],\n",
       "           [0., 0., 0., ..., 0., 0., 0.],\n",
       "           [0., 0., 0., ..., 0., 0., 0.],\n",
       "           [0., 0., 0., ..., 0., 0., 0.]],\n",
       "\n",
       "          [[0., 0., 0., ..., 0., 0., 0.],\n",
       "           [0., 0., 0., ..., 0., 0., 0.],\n",
       "           [0., 0., 0., ..., 0., 0., 0.],\n",
       "           [0., 0., 0., ..., 0., 0., 0.],\n",
       "           [0., 0., 0., ..., 0., 0., 0.],\n",
       "           [0., 0., 0., ..., 0., 0., 0.]],\n",
       "\n",
       "          [[0., 0., 0., ..., 0., 0., 0.],\n",
       "           [0., 0., 0., ..., 0., 0., 0.],\n",
       "           [0., 0., 0., ..., 0., 0., 0.],\n",
       "           [0., 0., 0., ..., 0., 0., 0.],\n",
       "           [0., 0., 0., ..., 0., 0., 0.],\n",
       "           [0., 0., 0., ..., 0., 0., 0.]]],\n",
       "\n",
       "\n",
       "         [[[0., 0., 0., ..., 0., 0., 0.],\n",
       "           [0., 0., 0., ..., 0., 0., 0.],\n",
       "           [0., 0., 0., ..., 0., 0., 0.],\n",
       "           [0., 0., 0., ..., 0., 0., 0.],\n",
       "           [0., 0., 0., ..., 0., 0., 0.],\n",
       "           [0., 0., 0., ..., 0., 0., 0.]],\n",
       "\n",
       "          [[0., 0., 0., ..., 0., 0., 0.],\n",
       "           [0., 0., 0., ..., 0., 0., 0.],\n",
       "           [0., 0., 0., ..., 0., 0., 0.],\n",
       "           [0., 0., 0., ..., 0., 0., 0.],\n",
       "           [0., 0., 0., ..., 0., 0., 0.],\n",
       "           [0., 0., 0., ..., 0., 0., 0.]],\n",
       "\n",
       "          [[0., 0., 0., ..., 0., 0., 0.],\n",
       "           [0., 0., 0., ..., 0., 0., 0.],\n",
       "           [0., 0., 0., ..., 0., 0., 0.],\n",
       "           [0., 0., 0., ..., 0., 0., 0.],\n",
       "           [0., 0., 0., ..., 0., 0., 0.],\n",
       "           [0., 0., 0., ..., 0., 0., 0.]],\n",
       "\n",
       "          [[0., 0., 0., ..., 0., 0., 0.],\n",
       "           [0., 0., 0., ..., 0., 0., 0.],\n",
       "           [0., 0., 0., ..., 0., 0., 0.],\n",
       "           [0., 0., 0., ..., 0., 0., 0.],\n",
       "           [0., 0., 0., ..., 0., 0., 0.],\n",
       "           [0., 0., 0., ..., 0., 0., 0.]],\n",
       "\n",
       "          [[0., 0., 0., ..., 0., 0., 0.],\n",
       "           [0., 0., 0., ..., 0., 0., 0.],\n",
       "           [0., 0., 0., ..., 0., 0., 0.],\n",
       "           [0., 0., 0., ..., 0., 0., 0.],\n",
       "           [0., 0., 0., ..., 0., 0., 0.],\n",
       "           [0., 0., 0., ..., 0., 0., 0.]]],\n",
       "\n",
       "\n",
       "         [[[0., 0., 0., ..., 0., 0., 0.],\n",
       "           [0., 0., 0., ..., 0., 0., 0.],\n",
       "           [0., 0., 0., ..., 0., 0., 0.],\n",
       "           [0., 0., 0., ..., 0., 0., 0.],\n",
       "           [0., 0., 0., ..., 0., 0., 0.],\n",
       "           [0., 0., 0., ..., 0., 0., 0.]],\n",
       "\n",
       "          [[0., 0., 0., ..., 0., 0., 0.],\n",
       "           [0., 0., 0., ..., 0., 0., 0.],\n",
       "           [0., 0., 0., ..., 0., 0., 0.],\n",
       "           [0., 0., 0., ..., 0., 0., 0.],\n",
       "           [0., 0., 0., ..., 0., 0., 0.],\n",
       "           [0., 0., 0., ..., 0., 0., 0.]],\n",
       "\n",
       "          [[0., 0., 0., ..., 0., 0., 0.],\n",
       "           [0., 0., 0., ..., 0., 0., 0.],\n",
       "           [0., 0., 0., ..., 0., 0., 0.],\n",
       "           [0., 0., 0., ..., 0., 0., 0.],\n",
       "           [0., 0., 0., ..., 0., 0., 0.],\n",
       "           [0., 0., 0., ..., 0., 0., 0.]],\n",
       "\n",
       "          [[0., 0., 0., ..., 0., 0., 0.],\n",
       "           [0., 0., 0., ..., 0., 0., 0.],\n",
       "           [0., 0., 0., ..., 0., 0., 0.],\n",
       "           [0., 0., 0., ..., 0., 0., 0.],\n",
       "           [0., 0., 0., ..., 0., 0., 0.],\n",
       "           [0., 0., 0., ..., 0., 0., 0.]],\n",
       "\n",
       "          [[0., 0., 0., ..., 0., 0., 0.],\n",
       "           [0., 0., 0., ..., 0., 0., 0.],\n",
       "           [0., 0., 0., ..., 0., 0., 0.],\n",
       "           [0., 0., 0., ..., 0., 0., 0.],\n",
       "           [0., 0., 0., ..., 0., 0., 0.],\n",
       "           [0., 0., 0., ..., 0., 0., 0.]]],\n",
       "\n",
       "\n",
       "         [[[0., 0., 0., ..., 0., 0., 0.],\n",
       "           [0., 0., 0., ..., 0., 0., 0.],\n",
       "           [0., 0., 0., ..., 0., 0., 0.],\n",
       "           [0., 0., 0., ..., 0., 0., 0.],\n",
       "           [0., 0., 0., ..., 0., 0., 0.],\n",
       "           [0., 0., 0., ..., 0., 0., 0.]],\n",
       "\n",
       "          [[0., 0., 0., ..., 0., 0., 0.],\n",
       "           [0., 0., 0., ..., 0., 0., 0.],\n",
       "           [0., 0., 0., ..., 0., 0., 0.],\n",
       "           [0., 0., 0., ..., 0., 0., 0.],\n",
       "           [0., 0., 0., ..., 0., 0., 0.],\n",
       "           [0., 0., 0., ..., 0., 0., 0.]],\n",
       "\n",
       "          [[0., 0., 0., ..., 0., 0., 0.],\n",
       "           [0., 0., 0., ..., 0., 0., 0.],\n",
       "           [0., 0., 0., ..., 0., 0., 0.],\n",
       "           [0., 0., 0., ..., 0., 0., 0.],\n",
       "           [0., 0., 0., ..., 0., 0., 0.],\n",
       "           [0., 0., 0., ..., 0., 0., 0.]],\n",
       "\n",
       "          [[0., 0., 0., ..., 0., 0., 0.],\n",
       "           [0., 0., 0., ..., 0., 0., 0.],\n",
       "           [0., 0., 0., ..., 0., 0., 0.],\n",
       "           [0., 0., 0., ..., 0., 0., 0.],\n",
       "           [0., 0., 0., ..., 0., 0., 0.],\n",
       "           [0., 0., 0., ..., 0., 0., 0.]],\n",
       "\n",
       "          [[0., 0., 0., ..., 0., 0., 0.],\n",
       "           [0., 0., 0., ..., 0., 0., 0.],\n",
       "           [0., 0., 0., ..., 0., 0., 0.],\n",
       "           [0., 0., 0., ..., 0., 0., 0.],\n",
       "           [0., 0., 0., ..., 0., 0., 0.],\n",
       "           [0., 0., 0., ..., 0., 0., 0.]]]]],\n",
       "\n",
       "\n",
       "\n",
       "\n",
       "       [[[[[0., 0., 0., ..., 0., 0., 0.],\n",
       "           [0., 0., 0., ..., 0., 0., 0.],\n",
       "           [0., 0., 0., ..., 0., 0., 0.],\n",
       "           [0., 0., 0., ..., 0., 0., 0.],\n",
       "           [0., 0., 0., ..., 0., 0., 0.],\n",
       "           [0., 0., 0., ..., 0., 0., 0.]],\n",
       "\n",
       "          [[0., 0., 0., ..., 0., 0., 0.],\n",
       "           [0., 0., 0., ..., 0., 0., 0.],\n",
       "           [0., 0., 0., ..., 0., 0., 0.],\n",
       "           [0., 0., 0., ..., 0., 0., 0.],\n",
       "           [0., 0., 0., ..., 0., 0., 0.],\n",
       "           [0., 0., 0., ..., 0., 0., 0.]],\n",
       "\n",
       "          [[0., 0., 0., ..., 0., 0., 0.],\n",
       "           [0., 0., 0., ..., 0., 0., 0.],\n",
       "           [0., 0., 0., ..., 0., 0., 0.],\n",
       "           [0., 0., 0., ..., 0., 0., 0.],\n",
       "           [0., 0., 0., ..., 0., 0., 0.],\n",
       "           [0., 0., 0., ..., 0., 0., 0.]],\n",
       "\n",
       "          [[0., 0., 0., ..., 0., 0., 0.],\n",
       "           [0., 0., 0., ..., 0., 0., 0.],\n",
       "           [0., 0., 0., ..., 0., 0., 0.],\n",
       "           [0., 0., 0., ..., 0., 0., 0.],\n",
       "           [0., 0., 0., ..., 0., 0., 0.],\n",
       "           [0., 0., 0., ..., 0., 0., 0.]],\n",
       "\n",
       "          [[0., 0., 0., ..., 0., 0., 0.],\n",
       "           [0., 0., 0., ..., 0., 0., 0.],\n",
       "           [0., 0., 0., ..., 0., 0., 0.],\n",
       "           [0., 0., 0., ..., 0., 0., 0.],\n",
       "           [0., 0., 0., ..., 0., 0., 0.],\n",
       "           [0., 0., 0., ..., 0., 0., 0.]]],\n",
       "\n",
       "\n",
       "         [[[0., 0., 0., ..., 0., 0., 0.],\n",
       "           [0., 0., 0., ..., 0., 0., 0.],\n",
       "           [0., 0., 0., ..., 0., 0., 0.],\n",
       "           [0., 0., 0., ..., 0., 0., 0.],\n",
       "           [0., 0., 0., ..., 0., 0., 0.],\n",
       "           [0., 0., 0., ..., 0., 0., 0.]],\n",
       "\n",
       "          [[0., 0., 0., ..., 0., 0., 0.],\n",
       "           [0., 0., 0., ..., 0., 0., 0.],\n",
       "           [0., 0., 0., ..., 0., 0., 0.],\n",
       "           [0., 0., 0., ..., 0., 0., 0.],\n",
       "           [0., 0., 0., ..., 0., 0., 0.],\n",
       "           [0., 0., 0., ..., 0., 0., 0.]],\n",
       "\n",
       "          [[0., 0., 0., ..., 0., 0., 0.],\n",
       "           [0., 0., 0., ..., 0., 0., 0.],\n",
       "           [0., 0., 0., ..., 0., 0., 0.],\n",
       "           [0., 0., 0., ..., 0., 0., 0.],\n",
       "           [0., 0., 0., ..., 0., 0., 0.],\n",
       "           [0., 0., 0., ..., 0., 0., 0.]],\n",
       "\n",
       "          [[0., 0., 0., ..., 0., 0., 0.],\n",
       "           [0., 0., 0., ..., 0., 0., 0.],\n",
       "           [0., 0., 0., ..., 0., 0., 0.],\n",
       "           [0., 0., 0., ..., 0., 0., 0.],\n",
       "           [0., 0., 0., ..., 0., 0., 0.],\n",
       "           [0., 0., 0., ..., 0., 0., 0.]],\n",
       "\n",
       "          [[0., 0., 0., ..., 0., 0., 0.],\n",
       "           [0., 0., 0., ..., 0., 0., 0.],\n",
       "           [0., 0., 0., ..., 0., 0., 0.],\n",
       "           [0., 0., 0., ..., 0., 0., 0.],\n",
       "           [0., 0., 0., ..., 0., 0., 0.],\n",
       "           [0., 0., 0., ..., 0., 0., 0.]]],\n",
       "\n",
       "\n",
       "         [[[0., 0., 0., ..., 0., 0., 0.],\n",
       "           [0., 0., 0., ..., 0., 0., 0.],\n",
       "           [0., 0., 0., ..., 0., 0., 0.],\n",
       "           [0., 0., 0., ..., 0., 0., 0.],\n",
       "           [0., 0., 0., ..., 0., 0., 0.],\n",
       "           [0., 0., 0., ..., 0., 0., 0.]],\n",
       "\n",
       "          [[0., 0., 0., ..., 0., 0., 0.],\n",
       "           [0., 0., 0., ..., 0., 0., 0.],\n",
       "           [0., 0., 0., ..., 0., 0., 0.],\n",
       "           [0., 0., 0., ..., 0., 0., 0.],\n",
       "           [0., 0., 0., ..., 0., 0., 0.],\n",
       "           [0., 0., 0., ..., 0., 0., 0.]],\n",
       "\n",
       "          [[0., 0., 0., ..., 0., 0., 0.],\n",
       "           [0., 0., 0., ..., 0., 0., 0.],\n",
       "           [0., 0., 0., ..., 0., 0., 0.],\n",
       "           [0., 0., 0., ..., 0., 0., 0.],\n",
       "           [0., 0., 0., ..., 0., 0., 0.],\n",
       "           [0., 0., 0., ..., 0., 0., 0.]],\n",
       "\n",
       "          [[0., 0., 0., ..., 0., 0., 0.],\n",
       "           [0., 0., 0., ..., 0., 0., 0.],\n",
       "           [0., 0., 0., ..., 0., 0., 0.],\n",
       "           [0., 0., 0., ..., 0., 0., 0.],\n",
       "           [0., 0., 0., ..., 0., 0., 0.],\n",
       "           [0., 0., 0., ..., 0., 0., 0.]],\n",
       "\n",
       "          [[0., 0., 0., ..., 0., 0., 0.],\n",
       "           [0., 0., 0., ..., 0., 0., 0.],\n",
       "           [0., 0., 0., ..., 0., 0., 0.],\n",
       "           [0., 0., 0., ..., 0., 0., 0.],\n",
       "           [0., 0., 0., ..., 0., 0., 0.],\n",
       "           [0., 0., 0., ..., 0., 0., 0.]]],\n",
       "\n",
       "\n",
       "         [[[0., 0., 0., ..., 0., 0., 0.],\n",
       "           [0., 0., 0., ..., 0., 0., 0.],\n",
       "           [0., 0., 0., ..., 0., 0., 0.],\n",
       "           [0., 0., 0., ..., 0., 0., 0.],\n",
       "           [0., 0., 0., ..., 0., 0., 0.],\n",
       "           [0., 0., 0., ..., 0., 0., 0.]],\n",
       "\n",
       "          [[0., 0., 0., ..., 0., 0., 0.],\n",
       "           [0., 0., 0., ..., 0., 0., 0.],\n",
       "           [0., 0., 0., ..., 0., 0., 0.],\n",
       "           [0., 0., 0., ..., 0., 0., 0.],\n",
       "           [0., 0., 0., ..., 0., 0., 0.],\n",
       "           [0., 0., 0., ..., 0., 0., 0.]],\n",
       "\n",
       "          [[0., 0., 0., ..., 0., 0., 0.],\n",
       "           [0., 0., 0., ..., 0., 0., 0.],\n",
       "           [0., 0., 0., ..., 0., 0., 0.],\n",
       "           [0., 0., 0., ..., 0., 0., 0.],\n",
       "           [0., 0., 0., ..., 0., 0., 0.],\n",
       "           [0., 0., 0., ..., 0., 0., 0.]],\n",
       "\n",
       "          [[0., 0., 0., ..., 0., 0., 0.],\n",
       "           [0., 0., 0., ..., 0., 0., 0.],\n",
       "           [0., 0., 0., ..., 0., 0., 0.],\n",
       "           [0., 0., 0., ..., 0., 0., 0.],\n",
       "           [0., 0., 0., ..., 0., 0., 0.],\n",
       "           [0., 0., 0., ..., 0., 0., 0.]],\n",
       "\n",
       "          [[0., 0., 0., ..., 0., 0., 0.],\n",
       "           [0., 0., 0., ..., 0., 0., 0.],\n",
       "           [0., 0., 0., ..., 0., 0., 0.],\n",
       "           [0., 0., 0., ..., 0., 0., 0.],\n",
       "           [0., 0., 0., ..., 0., 0., 0.],\n",
       "           [0., 0., 0., ..., 0., 0., 0.]]]],\n",
       "\n",
       "\n",
       "\n",
       "        [[[[0., 0., 0., ..., 0., 0., 0.],\n",
       "           [0., 0., 0., ..., 0., 0., 0.],\n",
       "           [0., 0., 0., ..., 0., 0., 0.],\n",
       "           [0., 0., 0., ..., 0., 0., 0.],\n",
       "           [0., 0., 0., ..., 0., 0., 0.],\n",
       "           [0., 0., 0., ..., 0., 0., 0.]],\n",
       "\n",
       "          [[0., 0., 0., ..., 0., 0., 0.],\n",
       "           [0., 0., 0., ..., 0., 0., 0.],\n",
       "           [0., 0., 0., ..., 0., 0., 0.],\n",
       "           [0., 0., 0., ..., 0., 0., 0.],\n",
       "           [0., 0., 0., ..., 0., 0., 0.],\n",
       "           [0., 0., 0., ..., 0., 0., 0.]],\n",
       "\n",
       "          [[0., 0., 0., ..., 0., 0., 0.],\n",
       "           [0., 0., 0., ..., 0., 0., 0.],\n",
       "           [0., 0., 0., ..., 0., 0., 0.],\n",
       "           [0., 0., 0., ..., 0., 0., 0.],\n",
       "           [0., 0., 0., ..., 0., 0., 0.],\n",
       "           [0., 0., 0., ..., 0., 0., 0.]],\n",
       "\n",
       "          [[0., 0., 0., ..., 0., 0., 0.],\n",
       "           [0., 0., 0., ..., 0., 0., 0.],\n",
       "           [0., 0., 0., ..., 0., 0., 0.],\n",
       "           [0., 0., 0., ..., 0., 0., 0.],\n",
       "           [0., 0., 0., ..., 0., 0., 0.],\n",
       "           [0., 0., 0., ..., 0., 0., 0.]],\n",
       "\n",
       "          [[0., 0., 0., ..., 0., 0., 0.],\n",
       "           [0., 0., 0., ..., 0., 0., 0.],\n",
       "           [0., 0., 0., ..., 0., 0., 0.],\n",
       "           [0., 0., 0., ..., 0., 0., 0.],\n",
       "           [0., 0., 0., ..., 0., 0., 0.],\n",
       "           [0., 0., 0., ..., 0., 0., 0.]]],\n",
       "\n",
       "\n",
       "         [[[0., 0., 0., ..., 0., 0., 0.],\n",
       "           [0., 0., 0., ..., 0., 0., 0.],\n",
       "           [0., 0., 0., ..., 0., 0., 0.],\n",
       "           [0., 0., 0., ..., 0., 0., 0.],\n",
       "           [0., 0., 0., ..., 0., 0., 0.],\n",
       "           [0., 0., 0., ..., 0., 0., 0.]],\n",
       "\n",
       "          [[0., 0., 0., ..., 0., 0., 0.],\n",
       "           [0., 0., 0., ..., 0., 0., 0.],\n",
       "           [0., 0., 0., ..., 0., 0., 0.],\n",
       "           [0., 0., 0., ..., 0., 0., 0.],\n",
       "           [0., 0., 0., ..., 0., 0., 0.],\n",
       "           [0., 0., 0., ..., 0., 0., 0.]],\n",
       "\n",
       "          [[0., 0., 0., ..., 0., 0., 0.],\n",
       "           [0., 0., 0., ..., 0., 0., 0.],\n",
       "           [0., 0., 0., ..., 0., 0., 0.],\n",
       "           [0., 0., 0., ..., 0., 0., 0.],\n",
       "           [0., 0., 0., ..., 0., 0., 0.],\n",
       "           [0., 0., 0., ..., 0., 0., 0.]],\n",
       "\n",
       "          [[0., 0., 0., ..., 0., 0., 0.],\n",
       "           [0., 0., 0., ..., 0., 0., 0.],\n",
       "           [0., 0., 0., ..., 0., 0., 0.],\n",
       "           [0., 0., 0., ..., 0., 0., 0.],\n",
       "           [0., 0., 0., ..., 0., 0., 0.],\n",
       "           [0., 0., 0., ..., 0., 0., 0.]],\n",
       "\n",
       "          [[0., 0., 0., ..., 0., 0., 0.],\n",
       "           [0., 0., 0., ..., 0., 0., 0.],\n",
       "           [0., 0., 0., ..., 0., 0., 0.],\n",
       "           [0., 0., 0., ..., 0., 0., 0.],\n",
       "           [0., 0., 0., ..., 0., 0., 0.],\n",
       "           [0., 0., 0., ..., 0., 0., 0.]]],\n",
       "\n",
       "\n",
       "         [[[0., 0., 0., ..., 0., 0., 0.],\n",
       "           [0., 0., 0., ..., 0., 0., 0.],\n",
       "           [0., 0., 0., ..., 0., 0., 0.],\n",
       "           [0., 0., 0., ..., 0., 0., 0.],\n",
       "           [0., 0., 0., ..., 0., 0., 0.],\n",
       "           [0., 0., 0., ..., 0., 0., 0.]],\n",
       "\n",
       "          [[0., 0., 0., ..., 0., 0., 0.],\n",
       "           [0., 0., 0., ..., 0., 0., 0.],\n",
       "           [0., 0., 0., ..., 0., 0., 0.],\n",
       "           [0., 0., 0., ..., 0., 0., 0.],\n",
       "           [0., 0., 0., ..., 0., 0., 0.],\n",
       "           [0., 0., 0., ..., 0., 0., 0.]],\n",
       "\n",
       "          [[0., 0., 0., ..., 0., 0., 0.],\n",
       "           [0., 0., 0., ..., 0., 0., 0.],\n",
       "           [0., 0., 0., ..., 0., 0., 0.],\n",
       "           [0., 0., 0., ..., 0., 0., 0.],\n",
       "           [0., 0., 0., ..., 0., 0., 0.],\n",
       "           [0., 0., 0., ..., 0., 0., 0.]],\n",
       "\n",
       "          [[0., 0., 0., ..., 0., 0., 0.],\n",
       "           [0., 0., 0., ..., 0., 0., 0.],\n",
       "           [0., 0., 0., ..., 0., 0., 0.],\n",
       "           [0., 0., 0., ..., 0., 0., 0.],\n",
       "           [0., 0., 0., ..., 0., 0., 0.],\n",
       "           [0., 0., 0., ..., 0., 0., 0.]],\n",
       "\n",
       "          [[0., 0., 0., ..., 0., 0., 0.],\n",
       "           [0., 0., 0., ..., 0., 0., 0.],\n",
       "           [0., 0., 0., ..., 0., 0., 0.],\n",
       "           [0., 0., 0., ..., 0., 0., 0.],\n",
       "           [0., 0., 0., ..., 0., 0., 0.],\n",
       "           [0., 0., 0., ..., 0., 0., 0.]]],\n",
       "\n",
       "\n",
       "         [[[0., 0., 0., ..., 0., 0., 0.],\n",
       "           [0., 0., 0., ..., 0., 0., 0.],\n",
       "           [0., 0., 0., ..., 0., 0., 0.],\n",
       "           [0., 0., 0., ..., 0., 0., 0.],\n",
       "           [0., 0., 0., ..., 0., 0., 0.],\n",
       "           [0., 0., 0., ..., 0., 0., 0.]],\n",
       "\n",
       "          [[0., 0., 0., ..., 0., 0., 0.],\n",
       "           [0., 0., 0., ..., 0., 0., 0.],\n",
       "           [0., 0., 0., ..., 0., 0., 0.],\n",
       "           [0., 0., 0., ..., 0., 0., 0.],\n",
       "           [0., 0., 0., ..., 0., 0., 0.],\n",
       "           [0., 0., 0., ..., 0., 0., 0.]],\n",
       "\n",
       "          [[0., 0., 0., ..., 0., 0., 0.],\n",
       "           [0., 0., 0., ..., 0., 0., 0.],\n",
       "           [0., 0., 0., ..., 0., 0., 0.],\n",
       "           [0., 0., 0., ..., 0., 0., 0.],\n",
       "           [0., 0., 0., ..., 0., 0., 0.],\n",
       "           [0., 0., 0., ..., 0., 0., 0.]],\n",
       "\n",
       "          [[0., 0., 0., ..., 0., 0., 0.],\n",
       "           [0., 0., 0., ..., 0., 0., 0.],\n",
       "           [0., 0., 0., ..., 0., 0., 0.],\n",
       "           [0., 0., 0., ..., 0., 0., 0.],\n",
       "           [0., 0., 0., ..., 0., 0., 0.],\n",
       "           [0., 0., 0., ..., 0., 0., 0.]],\n",
       "\n",
       "          [[0., 0., 0., ..., 0., 0., 0.],\n",
       "           [0., 0., 0., ..., 0., 0., 0.],\n",
       "           [0., 0., 0., ..., 0., 0., 0.],\n",
       "           [0., 0., 0., ..., 0., 0., 0.],\n",
       "           [0., 0., 0., ..., 0., 0., 0.],\n",
       "           [0., 0., 0., ..., 0., 0., 0.]]]],\n",
       "\n",
       "\n",
       "\n",
       "        [[[[0., 0., 0., ..., 0., 0., 0.],\n",
       "           [0., 0., 0., ..., 0., 0., 0.],\n",
       "           [0., 0., 0., ..., 0., 0., 0.],\n",
       "           [0., 0., 0., ..., 0., 0., 0.],\n",
       "           [0., 0., 0., ..., 0., 0., 0.],\n",
       "           [0., 0., 0., ..., 0., 0., 0.]],\n",
       "\n",
       "          [[0., 0., 0., ..., 0., 0., 0.],\n",
       "           [0., 0., 0., ..., 0., 0., 0.],\n",
       "           [0., 0., 0., ..., 0., 0., 0.],\n",
       "           [0., 0., 0., ..., 0., 0., 0.],\n",
       "           [0., 0., 0., ..., 0., 0., 0.],\n",
       "           [0., 0., 0., ..., 0., 0., 0.]],\n",
       "\n",
       "          [[0., 0., 0., ..., 0., 0., 0.],\n",
       "           [0., 0., 0., ..., 0., 0., 0.],\n",
       "           [0., 0., 0., ..., 0., 0., 0.],\n",
       "           [0., 0., 0., ..., 0., 0., 0.],\n",
       "           [0., 0., 0., ..., 0., 0., 0.],\n",
       "           [0., 0., 0., ..., 0., 0., 0.]],\n",
       "\n",
       "          [[0., 0., 0., ..., 0., 0., 0.],\n",
       "           [0., 0., 0., ..., 0., 0., 0.],\n",
       "           [0., 0., 0., ..., 0., 0., 0.],\n",
       "           [0., 0., 0., ..., 0., 0., 0.],\n",
       "           [0., 0., 0., ..., 0., 0., 0.],\n",
       "           [0., 0., 0., ..., 0., 0., 0.]],\n",
       "\n",
       "          [[0., 0., 0., ..., 0., 0., 0.],\n",
       "           [0., 0., 0., ..., 0., 0., 0.],\n",
       "           [0., 0., 0., ..., 0., 0., 0.],\n",
       "           [0., 0., 0., ..., 0., 0., 0.],\n",
       "           [0., 0., 0., ..., 0., 0., 0.],\n",
       "           [0., 0., 0., ..., 0., 0., 0.]]],\n",
       "\n",
       "\n",
       "         [[[0., 0., 0., ..., 0., 0., 0.],\n",
       "           [0., 0., 0., ..., 0., 0., 0.],\n",
       "           [0., 0., 0., ..., 0., 0., 0.],\n",
       "           [0., 0., 0., ..., 0., 0., 0.],\n",
       "           [0., 0., 0., ..., 0., 0., 0.],\n",
       "           [0., 0., 0., ..., 0., 0., 0.]],\n",
       "\n",
       "          [[0., 0., 0., ..., 0., 0., 0.],\n",
       "           [0., 0., 0., ..., 0., 0., 0.],\n",
       "           [0., 0., 0., ..., 0., 0., 0.],\n",
       "           [0., 0., 0., ..., 0., 0., 0.],\n",
       "           [0., 0., 0., ..., 0., 0., 0.],\n",
       "           [0., 0., 0., ..., 0., 0., 0.]],\n",
       "\n",
       "          [[0., 0., 0., ..., 0., 0., 0.],\n",
       "           [0., 0., 0., ..., 0., 0., 0.],\n",
       "           [0., 0., 0., ..., 0., 0., 0.],\n",
       "           [0., 0., 0., ..., 0., 0., 0.],\n",
       "           [0., 0., 0., ..., 0., 0., 0.],\n",
       "           [0., 0., 0., ..., 0., 0., 0.]],\n",
       "\n",
       "          [[0., 0., 0., ..., 0., 0., 0.],\n",
       "           [0., 0., 0., ..., 0., 0., 0.],\n",
       "           [0., 0., 0., ..., 0., 0., 0.],\n",
       "           [0., 0., 0., ..., 0., 0., 0.],\n",
       "           [0., 0., 0., ..., 0., 0., 0.],\n",
       "           [0., 0., 0., ..., 0., 0., 0.]],\n",
       "\n",
       "          [[0., 0., 0., ..., 0., 0., 0.],\n",
       "           [0., 0., 0., ..., 0., 0., 0.],\n",
       "           [0., 0., 0., ..., 0., 0., 0.],\n",
       "           [0., 0., 0., ..., 0., 0., 0.],\n",
       "           [0., 0., 0., ..., 0., 0., 0.],\n",
       "           [0., 0., 0., ..., 0., 0., 0.]]],\n",
       "\n",
       "\n",
       "         [[[0., 0., 0., ..., 0., 0., 0.],\n",
       "           [0., 0., 0., ..., 0., 0., 0.],\n",
       "           [0., 0., 0., ..., 0., 0., 0.],\n",
       "           [0., 0., 0., ..., 0., 0., 0.],\n",
       "           [0., 0., 0., ..., 0., 0., 0.],\n",
       "           [0., 0., 0., ..., 0., 0., 0.]],\n",
       "\n",
       "          [[0., 0., 0., ..., 0., 0., 0.],\n",
       "           [0., 0., 0., ..., 0., 0., 0.],\n",
       "           [0., 0., 0., ..., 0., 0., 0.],\n",
       "           [0., 0., 0., ..., 0., 0., 0.],\n",
       "           [0., 0., 0., ..., 0., 0., 0.],\n",
       "           [0., 0., 0., ..., 0., 0., 0.]],\n",
       "\n",
       "          [[0., 0., 0., ..., 0., 0., 0.],\n",
       "           [0., 0., 0., ..., 0., 0., 0.],\n",
       "           [0., 0., 0., ..., 0., 0., 0.],\n",
       "           [0., 0., 0., ..., 0., 0., 0.],\n",
       "           [0., 0., 0., ..., 0., 0., 0.],\n",
       "           [0., 0., 0., ..., 0., 0., 0.]],\n",
       "\n",
       "          [[0., 0., 0., ..., 0., 0., 0.],\n",
       "           [0., 0., 0., ..., 0., 0., 0.],\n",
       "           [0., 0., 0., ..., 0., 0., 0.],\n",
       "           [0., 0., 0., ..., 0., 0., 0.],\n",
       "           [0., 0., 0., ..., 0., 0., 0.],\n",
       "           [0., 0., 0., ..., 0., 0., 0.]],\n",
       "\n",
       "          [[0., 0., 0., ..., 0., 0., 0.],\n",
       "           [0., 0., 0., ..., 0., 0., 0.],\n",
       "           [0., 0., 0., ..., 0., 0., 0.],\n",
       "           [0., 0., 0., ..., 0., 0., 0.],\n",
       "           [0., 0., 0., ..., 0., 0., 0.],\n",
       "           [0., 0., 0., ..., 0., 0., 0.]]],\n",
       "\n",
       "\n",
       "         [[[0., 0., 0., ..., 0., 0., 0.],\n",
       "           [0., 0., 0., ..., 0., 0., 0.],\n",
       "           [0., 0., 0., ..., 0., 0., 0.],\n",
       "           [0., 0., 0., ..., 0., 0., 0.],\n",
       "           [0., 0., 0., ..., 0., 0., 0.],\n",
       "           [0., 0., 0., ..., 0., 0., 0.]],\n",
       "\n",
       "          [[0., 0., 0., ..., 0., 0., 0.],\n",
       "           [0., 0., 0., ..., 0., 0., 0.],\n",
       "           [0., 0., 0., ..., 0., 0., 0.],\n",
       "           [0., 0., 0., ..., 0., 0., 0.],\n",
       "           [0., 0., 0., ..., 0., 0., 0.],\n",
       "           [0., 0., 0., ..., 0., 0., 0.]],\n",
       "\n",
       "          [[0., 0., 0., ..., 0., 0., 0.],\n",
       "           [0., 0., 0., ..., 0., 0., 0.],\n",
       "           [0., 0., 0., ..., 0., 0., 0.],\n",
       "           [0., 0., 0., ..., 0., 0., 0.],\n",
       "           [0., 0., 0., ..., 0., 0., 0.],\n",
       "           [0., 0., 0., ..., 0., 0., 0.]],\n",
       "\n",
       "          [[0., 0., 0., ..., 0., 0., 0.],\n",
       "           [0., 0., 0., ..., 0., 0., 0.],\n",
       "           [0., 0., 0., ..., 0., 0., 0.],\n",
       "           [0., 0., 0., ..., 0., 0., 0.],\n",
       "           [0., 0., 0., ..., 0., 0., 0.],\n",
       "           [0., 0., 0., ..., 0., 0., 0.]],\n",
       "\n",
       "          [[0., 0., 0., ..., 0., 0., 0.],\n",
       "           [0., 0., 0., ..., 0., 0., 0.],\n",
       "           [0., 0., 0., ..., 0., 0., 0.],\n",
       "           [0., 0., 0., ..., 0., 0., 0.],\n",
       "           [0., 0., 0., ..., 0., 0., 0.],\n",
       "           [0., 0., 0., ..., 0., 0., 0.]]]]]])"
      ]
     },
     "execution_count": 53,
     "metadata": {},
     "output_type": "execute_result"
    }
   ],
   "source": [
    "arr"
   ]
  },
  {
   "cell_type": "code",
   "execution_count": 54,
   "metadata": {},
   "outputs": [
    {
     "data": {
      "text/plain": [
       "array([1., 1., 1.])"
      ]
     },
     "execution_count": 54,
     "metadata": {},
     "output_type": "execute_result"
    }
   ],
   "source": [
    "np.ones(3)"
   ]
  },
  {
   "cell_type": "code",
   "execution_count": 55,
   "metadata": {},
   "outputs": [
    {
     "data": {
      "text/plain": [
       "array([[1., 1.],\n",
       "       [1., 1.]])"
      ]
     },
     "execution_count": 55,
     "metadata": {},
     "output_type": "execute_result"
    }
   ],
   "source": [
    "np.ones((2,2))"
   ]
  },
  {
   "cell_type": "code",
   "execution_count": 56,
   "metadata": {},
   "outputs": [
    {
     "data": {
      "text/plain": [
       "array([[1., 0., 0., 0., 0., 0., 0., 0., 0., 0.],\n",
       "       [0., 1., 0., 0., 0., 0., 0., 0., 0., 0.],\n",
       "       [0., 0., 1., 0., 0., 0., 0., 0., 0., 0.],\n",
       "       [0., 0., 0., 1., 0., 0., 0., 0., 0., 0.],\n",
       "       [0., 0., 0., 0., 1., 0., 0., 0., 0., 0.],\n",
       "       [0., 0., 0., 0., 0., 1., 0., 0., 0., 0.],\n",
       "       [0., 0., 0., 0., 0., 0., 1., 0., 0., 0.],\n",
       "       [0., 0., 0., 0., 0., 0., 0., 1., 0., 0.],\n",
       "       [0., 0., 0., 0., 0., 0., 0., 0., 1., 0.],\n",
       "       [0., 0., 0., 0., 0., 0., 0., 0., 0., 1.]])"
      ]
     },
     "execution_count": 56,
     "metadata": {},
     "output_type": "execute_result"
    }
   ],
   "source": [
    "np.eye(10)"
   ]
  },
  {
   "cell_type": "code",
   "execution_count": null,
   "metadata": {},
   "outputs": [],
   "source": [
    "#setando valores em uma matriz já criada"
   ]
  },
  {
   "cell_type": "code",
   "execution_count": 57,
   "metadata": {},
   "outputs": [],
   "source": [
    "arr = np.eye(3)"
   ]
  },
  {
   "cell_type": "code",
   "execution_count": 58,
   "metadata": {},
   "outputs": [
    {
     "data": {
      "text/plain": [
       "array([[1., 0., 0.],\n",
       "       [0., 1., 0.],\n",
       "       [0., 0., 1.]])"
      ]
     },
     "execution_count": 58,
     "metadata": {},
     "output_type": "execute_result"
    }
   ],
   "source": [
    "arr"
   ]
  },
  {
   "cell_type": "code",
   "execution_count": 59,
   "metadata": {},
   "outputs": [],
   "source": [
    "arr[0][2] = 3"
   ]
  },
  {
   "cell_type": "code",
   "execution_count": 60,
   "metadata": {},
   "outputs": [
    {
     "data": {
      "text/plain": [
       "array([[1., 0., 3.],\n",
       "       [0., 1., 0.],\n",
       "       [0., 0., 1.]])"
      ]
     },
     "execution_count": 60,
     "metadata": {},
     "output_type": "execute_result"
    }
   ],
   "source": [
    "arr"
   ]
  },
  {
   "cell_type": "code",
   "execution_count": 61,
   "metadata": {},
   "outputs": [],
   "source": [
    "arr[2][1] = 5"
   ]
  },
  {
   "cell_type": "code",
   "execution_count": 62,
   "metadata": {},
   "outputs": [
    {
     "data": {
      "text/plain": [
       "array([[1., 0., 3.],\n",
       "       [0., 1., 0.],\n",
       "       [0., 5., 1.]])"
      ]
     },
     "execution_count": 62,
     "metadata": {},
     "output_type": "execute_result"
    }
   ],
   "source": [
    "arr"
   ]
  },
  {
   "cell_type": "code",
   "execution_count": 63,
   "metadata": {},
   "outputs": [
    {
     "data": {
      "text/plain": [
       "array([ 0,  1,  2,  3,  4,  5,  6,  7,  8,  9, 10, 11, 12, 13, 14, 15, 16,\n",
       "       17, 18, 19])"
      ]
     },
     "execution_count": 63,
     "metadata": {},
     "output_type": "execute_result"
    }
   ],
   "source": [
    "np.arange(20)"
   ]
  },
  {
   "cell_type": "code",
   "execution_count": null,
   "metadata": {},
   "outputs": [],
   "source": [
    "#mudando a ordem da matriz"
   ]
  },
  {
   "cell_type": "code",
   "execution_count": 64,
   "metadata": {},
   "outputs": [
    {
     "data": {
      "text/plain": [
       "array([[ 0,  1,  2,  3,  4],\n",
       "       [ 5,  6,  7,  8,  9],\n",
       "       [10, 11, 12, 13, 14],\n",
       "       [15, 16, 17, 18, 19]])"
      ]
     },
     "execution_count": 64,
     "metadata": {},
     "output_type": "execute_result"
    }
   ],
   "source": [
    "np.arange(20).reshape(4,5)"
   ]
  },
  {
   "cell_type": "code",
   "execution_count": 68,
   "metadata": {},
   "outputs": [
    {
     "data": {
      "text/plain": [
       "array([[ 0,  1,  2,  3],\n",
       "       [ 4,  5,  6,  7],\n",
       "       [ 8,  9, 10, 11],\n",
       "       [12, 13, 14, 15],\n",
       "       [16, 17, 18, 19]])"
      ]
     },
     "execution_count": 68,
     "metadata": {},
     "output_type": "execute_result"
    }
   ],
   "source": [
    "np.arange(20).reshape(5,4)"
   ]
  },
  {
   "cell_type": "code",
   "execution_count": 66,
   "metadata": {},
   "outputs": [
    {
     "data": {
      "text/plain": [
       "array([[[0, 1],\n",
       "        [2, 3]],\n",
       "\n",
       "       [[4, 5],\n",
       "        [6, 7]]])"
      ]
     },
     "execution_count": 66,
     "metadata": {},
     "output_type": "execute_result"
    }
   ],
   "source": [
    "np.arange(8).reshape(2,2,2)"
   ]
  },
  {
   "cell_type": "code",
   "execution_count": null,
   "metadata": {},
   "outputs": [],
   "source": [
    "a = [1]"
   ]
  },
  {
   "cell_type": "code",
   "execution_count": null,
   "metadata": {},
   "outputs": [],
   "source": [
    "b = a.copy()"
   ]
  },
  {
   "cell_type": "code",
   "execution_count": null,
   "metadata": {},
   "outputs": [],
   "source": [
    "b[0] = b[0] + 1"
   ]
  },
  {
   "cell_type": "code",
   "execution_count": null,
   "metadata": {},
   "outputs": [],
   "source": [
    "a"
   ]
  },
  {
   "cell_type": "code",
   "execution_count": null,
   "metadata": {},
   "outputs": [],
   "source": [
    "b"
   ]
  },
  {
   "cell_type": "code",
   "execution_count": 70,
   "metadata": {},
   "outputs": [
    {
     "name": "stdout",
     "output_type": "stream",
     "text": [
      "Help on function transpose in module numpy.core.fromnumeric:\n",
      "\n",
      "transpose(a, axes=None)\n",
      "    Permute the dimensions of an array.\n",
      "    \n",
      "    Parameters\n",
      "    ----------\n",
      "    a : array_like\n",
      "        Input array.\n",
      "    axes : list of ints, optional\n",
      "        By default, reverse the dimensions, otherwise permute the axes\n",
      "        according to the values given.\n",
      "    \n",
      "    Returns\n",
      "    -------\n",
      "    p : ndarray\n",
      "        `a` with its axes permuted.  A view is returned whenever\n",
      "        possible.\n",
      "    \n",
      "    See Also\n",
      "    --------\n",
      "    moveaxis\n",
      "    argsort\n",
      "    \n",
      "    Notes\n",
      "    -----\n",
      "    Use `transpose(a, argsort(axes))` to invert the transposition of tensors\n",
      "    when using the `axes` keyword argument.\n",
      "    \n",
      "    Transposing a 1-D array returns an unchanged view of the original array.\n",
      "    \n",
      "    Examples\n",
      "    --------\n",
      "    >>> x = np.arange(4).reshape((2,2))\n",
      "    >>> x\n",
      "    array([[0, 1],\n",
      "           [2, 3]])\n",
      "    \n",
      "    >>> np.transpose(x)\n",
      "    array([[0, 2],\n",
      "           [1, 3]])\n",
      "    \n",
      "    >>> x = np.ones((1, 2, 3))\n",
      "    >>> np.transpose(x, (1, 0, 2)).shape\n",
      "    (2, 1, 3)\n",
      "\n"
     ]
    }
   ],
   "source": [
    "help(np.transpose)"
   ]
  },
  {
   "cell_type": "code",
   "execution_count": 84,
   "metadata": {},
   "outputs": [],
   "source": [
    "def test(v):\n",
    "    for i,j in enumerate(v):\n",
    "        v[i] = v[i] * 1000"
   ]
  },
  {
   "cell_type": "code",
   "execution_count": 85,
   "metadata": {},
   "outputs": [],
   "source": [
    "x = [1,2,3,4,5]"
   ]
  },
  {
   "cell_type": "code",
   "execution_count": 90,
   "metadata": {},
   "outputs": [
    {
     "data": {
      "text/plain": [
       "['__add__',\n",
       " '__class__',\n",
       " '__contains__',\n",
       " '__delattr__',\n",
       " '__delitem__',\n",
       " '__delslice__',\n",
       " '__doc__',\n",
       " '__eq__',\n",
       " '__format__',\n",
       " '__ge__',\n",
       " '__getattribute__',\n",
       " '__getitem__',\n",
       " '__getslice__',\n",
       " '__gt__',\n",
       " '__hash__',\n",
       " '__iadd__',\n",
       " '__imul__',\n",
       " '__init__',\n",
       " '__iter__',\n",
       " '__le__',\n",
       " '__len__',\n",
       " '__lt__',\n",
       " '__mul__',\n",
       " '__ne__',\n",
       " '__new__',\n",
       " '__reduce__',\n",
       " '__reduce_ex__',\n",
       " '__repr__',\n",
       " '__reversed__',\n",
       " '__rmul__',\n",
       " '__setattr__',\n",
       " '__setitem__',\n",
       " '__setslice__',\n",
       " '__sizeof__',\n",
       " '__str__',\n",
       " '__subclasshook__',\n",
       " 'append',\n",
       " 'count',\n",
       " 'extend',\n",
       " 'index',\n",
       " 'insert',\n",
       " 'pop',\n",
       " 'remove',\n",
       " 'reverse',\n",
       " 'sort']"
      ]
     },
     "execution_count": 90,
     "metadata": {},
     "output_type": "execute_result"
    }
   ],
   "source": [
    "dir(x)"
   ]
  },
  {
   "cell_type": "code",
   "execution_count": 87,
   "metadata": {},
   "outputs": [
    {
     "data": {
      "text/plain": [
       "[1, 2, 3, 4, 5]"
      ]
     },
     "execution_count": 87,
     "metadata": {},
     "output_type": "execute_result"
    }
   ],
   "source": [
    "x"
   ]
  },
  {
   "cell_type": "code",
   "execution_count": 75,
   "metadata": {},
   "outputs": [],
   "source": [
    "arr = np.arange(5)"
   ]
  },
  {
   "cell_type": "code",
   "execution_count": 76,
   "metadata": {},
   "outputs": [],
   "source": [
    "arr2 = arr.copy()"
   ]
  },
  {
   "cell_type": "code",
   "execution_count": 77,
   "metadata": {},
   "outputs": [],
   "source": [
    "arr2[0] = 112391829"
   ]
  },
  {
   "cell_type": "code",
   "execution_count": 78,
   "metadata": {},
   "outputs": [
    {
     "data": {
      "text/plain": [
       "array([112391829,         1,         2,         3,         4])"
      ]
     },
     "execution_count": 78,
     "metadata": {},
     "output_type": "execute_result"
    }
   ],
   "source": [
    "arr2"
   ]
  },
  {
   "cell_type": "code",
   "execution_count": 79,
   "metadata": {},
   "outputs": [
    {
     "data": {
      "text/plain": [
       "array([0, 1, 2, 3, 4])"
      ]
     },
     "execution_count": 79,
     "metadata": {},
     "output_type": "execute_result"
    }
   ],
   "source": [
    "arr"
   ]
  },
  {
   "cell_type": "code",
   "execution_count": 94,
   "metadata": {},
   "outputs": [],
   "source": [
    "arr = np.arange(20).reshape(5,4)"
   ]
  },
  {
   "cell_type": "code",
   "execution_count": 95,
   "metadata": {},
   "outputs": [
    {
     "data": {
      "text/plain": [
       "array([[ 0,  1,  2,  3],\n",
       "       [ 4,  5,  6,  7],\n",
       "       [ 8,  9, 10, 11],\n",
       "       [12, 13, 14, 15],\n",
       "       [16, 17, 18, 19]])"
      ]
     },
     "execution_count": 95,
     "metadata": {},
     "output_type": "execute_result"
    }
   ],
   "source": [
    "arr"
   ]
  },
  {
   "cell_type": "code",
   "execution_count": 96,
   "metadata": {},
   "outputs": [
    {
     "data": {
      "text/plain": [
       "array([[ 6,  7],\n",
       "       [10, 11]])"
      ]
     },
     "execution_count": 96,
     "metadata": {},
     "output_type": "execute_result"
    }
   ],
   "source": [
    "arr[1:3,2:4]"
   ]
  },
  {
   "cell_type": "code",
   "execution_count": 98,
   "metadata": {},
   "outputs": [
    {
     "data": {
      "text/plain": [
       "array([[12, 13, 14],\n",
       "       [16, 17, 18]])"
      ]
     },
     "execution_count": 98,
     "metadata": {},
     "output_type": "execute_result"
    }
   ],
   "source": [
    "arr[3:,0:3]"
   ]
  },
  {
   "cell_type": "code",
   "execution_count": 99,
   "metadata": {},
   "outputs": [
    {
     "data": {
      "text/plain": [
       "array([ 0,  4,  8, 12, 16])"
      ]
     },
     "execution_count": 99,
     "metadata": {},
     "output_type": "execute_result"
    }
   ],
   "source": [
    "arr[:,0]"
   ]
  },
  {
   "cell_type": "code",
   "execution_count": 100,
   "metadata": {},
   "outputs": [
    {
     "data": {
      "text/plain": [
       "array([[14, 15],\n",
       "       [18, 19]])"
      ]
     },
     "execution_count": 100,
     "metadata": {},
     "output_type": "execute_result"
    }
   ],
   "source": [
    "arr[3:,2:]"
   ]
  },
  {
   "cell_type": "code",
   "execution_count": 101,
   "metadata": {},
   "outputs": [
    {
     "data": {
      "text/plain": [
       "array([[ 0,  1,  2,  3],\n",
       "       [ 4,  5,  6,  7],\n",
       "       [ 8,  9, 10, 11],\n",
       "       [12, 13, 14, 15],\n",
       "       [16, 17, 18, 19]])"
      ]
     },
     "execution_count": 101,
     "metadata": {},
     "output_type": "execute_result"
    }
   ],
   "source": [
    "arr[:]"
   ]
  },
  {
   "cell_type": "code",
   "execution_count": 102,
   "metadata": {},
   "outputs": [],
   "source": [
    "v = [1,2,3,4]"
   ]
  },
  {
   "cell_type": "code",
   "execution_count": 103,
   "metadata": {},
   "outputs": [
    {
     "data": {
      "text/plain": [
       "True"
      ]
     },
     "execution_count": 103,
     "metadata": {},
     "output_type": "execute_result"
    }
   ],
   "source": [
    "2 in v"
   ]
  },
  {
   "cell_type": "code",
   "execution_count": 104,
   "metadata": {},
   "outputs": [
    {
     "data": {
      "text/plain": [
       "False"
      ]
     },
     "execution_count": 104,
     "metadata": {},
     "output_type": "execute_result"
    }
   ],
   "source": [
    "5 in v"
   ]
  },
  {
   "cell_type": "code",
   "execution_count": 109,
   "metadata": {},
   "outputs": [
    {
     "data": {
      "text/plain": [
       "False"
      ]
     },
     "execution_count": 109,
     "metadata": {},
     "output_type": "execute_result"
    }
   ],
   "source": [
    "9999 in arr"
   ]
  },
  {
   "cell_type": "code",
   "execution_count": 110,
   "metadata": {},
   "outputs": [
    {
     "data": {
      "text/plain": [
       "array([[ 0,  1,  2,  3],\n",
       "       [ 4,  5,  6,  7],\n",
       "       [ 8,  9, 10, 11],\n",
       "       [12, 13, 14, 15],\n",
       "       [16, 17, 18, 19]])"
      ]
     },
     "execution_count": 110,
     "metadata": {},
     "output_type": "execute_result"
    }
   ],
   "source": [
    "arr"
   ]
  },
  {
   "cell_type": "code",
   "execution_count": 111,
   "metadata": {},
   "outputs": [],
   "source": [
    "arr2 = np.arange(9).reshape(3,3)"
   ]
  },
  {
   "cell_type": "code",
   "execution_count": 112,
   "metadata": {},
   "outputs": [
    {
     "data": {
      "text/plain": [
       "array([[0, 1, 2],\n",
       "       [3, 4, 5],\n",
       "       [6, 7, 8]])"
      ]
     },
     "execution_count": 112,
     "metadata": {},
     "output_type": "execute_result"
    }
   ],
   "source": [
    "arr2"
   ]
  },
  {
   "cell_type": "code",
   "execution_count": 113,
   "metadata": {},
   "outputs": [
    {
     "data": {
      "text/plain": [
       "True"
      ]
     },
     "execution_count": 113,
     "metadata": {},
     "output_type": "execute_result"
    }
   ],
   "source": [
    "9 in arr"
   ]
  },
  {
   "cell_type": "code",
   "execution_count": 114,
   "metadata": {},
   "outputs": [
    {
     "data": {
      "text/plain": [
       "False"
      ]
     },
     "execution_count": 114,
     "metadata": {},
     "output_type": "execute_result"
    }
   ],
   "source": [
    "34 in arr"
   ]
  },
  {
   "cell_type": "code",
   "execution_count": 115,
   "metadata": {},
   "outputs": [],
   "source": [
    "arr = np.arange(4)"
   ]
  },
  {
   "cell_type": "code",
   "execution_count": 116,
   "metadata": {},
   "outputs": [
    {
     "data": {
      "text/plain": [
       "array([0, 1, 2, 3])"
      ]
     },
     "execution_count": 116,
     "metadata": {},
     "output_type": "execute_result"
    }
   ],
   "source": [
    "arr"
   ]
  },
  {
   "cell_type": "code",
   "execution_count": 124,
   "metadata": {},
   "outputs": [],
   "source": [
    "arr[1:3] = arr[1:3] + 4"
   ]
  },
  {
   "cell_type": "code",
   "execution_count": 125,
   "metadata": {},
   "outputs": [
    {
     "data": {
      "text/plain": [
       "array([0, 5, 6, 3])"
      ]
     },
     "execution_count": 125,
     "metadata": {},
     "output_type": "execute_result"
    }
   ],
   "source": [
    "arr"
   ]
  },
  {
   "cell_type": "code",
   "execution_count": 128,
   "metadata": {},
   "outputs": [],
   "source": [
    "arr2[2] = arr2[2] + 1000"
   ]
  },
  {
   "cell_type": "code",
   "execution_count": 129,
   "metadata": {},
   "outputs": [
    {
     "data": {
      "text/plain": [
       "array([[   0,    1,    2],\n",
       "       [   3,    4,    5],\n",
       "       [1006, 1007, 1008]])"
      ]
     },
     "execution_count": 129,
     "metadata": {},
     "output_type": "execute_result"
    }
   ],
   "source": [
    "arr2"
   ]
  },
  {
   "cell_type": "code",
   "execution_count": 119,
   "metadata": {},
   "outputs": [
    {
     "data": {
      "text/plain": [
       "array([[ 4,  5,  6],\n",
       "       [ 7,  8,  9],\n",
       "       [10, 11, 12]])"
      ]
     },
     "execution_count": 119,
     "metadata": {},
     "output_type": "execute_result"
    }
   ],
   "source": [
    "arr2 + 4"
   ]
  },
  {
   "cell_type": "code",
   "execution_count": 120,
   "metadata": {},
   "outputs": [
    {
     "data": {
      "text/plain": [
       "array([-10,  -9,  -8,  -7])"
      ]
     },
     "execution_count": 120,
     "metadata": {},
     "output_type": "execute_result"
    }
   ],
   "source": [
    "arr - 10"
   ]
  },
  {
   "cell_type": "code",
   "execution_count": 121,
   "metadata": {},
   "outputs": [
    {
     "data": {
      "text/plain": [
       "array([[-10,  -9,  -8],\n",
       "       [ -7,  -6,  -5],\n",
       "       [ -4,  -3,  -2]])"
      ]
     },
     "execution_count": 121,
     "metadata": {},
     "output_type": "execute_result"
    }
   ],
   "source": [
    "arr2 - 10"
   ]
  },
  {
   "cell_type": "code",
   "execution_count": 132,
   "metadata": {},
   "outputs": [
    {
     "data": {
      "text/plain": [
       "[0, 1, 2, 3, 0, 1, 2, 3]"
      ]
     },
     "execution_count": 132,
     "metadata": {},
     "output_type": "execute_result"
    }
   ],
   "source": [
    "[0,1,2,3] * 2"
   ]
  },
  {
   "cell_type": "code",
   "execution_count": 133,
   "metadata": {},
   "outputs": [
    {
     "data": {
      "text/plain": [
       "array([ 0, 10, 12,  6])"
      ]
     },
     "execution_count": 133,
     "metadata": {},
     "output_type": "execute_result"
    }
   ],
   "source": [
    "arr * 2"
   ]
  },
  {
   "cell_type": "code",
   "execution_count": 134,
   "metadata": {},
   "outputs": [
    {
     "data": {
      "text/plain": [
       "array([[   0,    2,    4],\n",
       "       [   6,    8,   10],\n",
       "       [2012, 2014, 2016]])"
      ]
     },
     "execution_count": 134,
     "metadata": {},
     "output_type": "execute_result"
    }
   ],
   "source": [
    "arr2 * 2"
   ]
  },
  {
   "cell_type": "code",
   "execution_count": 135,
   "metadata": {},
   "outputs": [
    {
     "data": {
      "text/plain": [
       "array([0, 2, 3, 1])"
      ]
     },
     "execution_count": 135,
     "metadata": {},
     "output_type": "execute_result"
    }
   ],
   "source": [
    "arr / 2"
   ]
  },
  {
   "cell_type": "code",
   "execution_count": 136,
   "metadata": {},
   "outputs": [
    {
     "data": {
      "text/plain": [
       "array([[  0,   0,   1],\n",
       "       [  1,   2,   2],\n",
       "       [503, 503, 504]])"
      ]
     },
     "execution_count": 136,
     "metadata": {},
     "output_type": "execute_result"
    }
   ],
   "source": [
    "arr2 / 2"
   ]
  },
  {
   "cell_type": "code",
   "execution_count": 137,
   "metadata": {},
   "outputs": [
    {
     "name": "stderr",
     "output_type": "stream",
     "text": [
      "C:\\Users\\Bruno.Miura\\AppData\\Local\\Continuum\\anaconda\\lib\\site-packages\\ipykernel_launcher.py:1: RuntimeWarning: divide by zero encountered in divide\n",
      "  \"\"\"Entry point for launching an IPython kernel.\n"
     ]
    },
    {
     "data": {
      "text/plain": [
       "array([0, 0, 0, 0])"
      ]
     },
     "execution_count": 137,
     "metadata": {},
     "output_type": "execute_result"
    }
   ],
   "source": [
    "arr / 0"
   ]
  },
  {
   "cell_type": "code",
   "execution_count": 138,
   "metadata": {},
   "outputs": [
    {
     "name": "stderr",
     "output_type": "stream",
     "text": [
      "C:\\Users\\Bruno.Miura\\AppData\\Local\\Continuum\\anaconda\\lib\\site-packages\\ipykernel_launcher.py:1: RuntimeWarning: divide by zero encountered in divide\n",
      "  \"\"\"Entry point for launching an IPython kernel.\n"
     ]
    },
    {
     "data": {
      "text/plain": [
       "array([[0, 0, 0],\n",
       "       [0, 0, 0],\n",
       "       [0, 0, 0]])"
      ]
     },
     "execution_count": 138,
     "metadata": {},
     "output_type": "execute_result"
    }
   ],
   "source": [
    "arr2 / 0"
   ]
  },
  {
   "cell_type": "code",
   "execution_count": 139,
   "metadata": {},
   "outputs": [
    {
     "data": {
      "text/plain": [
       "array([0.        , 2.23606798, 2.44948974, 1.73205081])"
      ]
     },
     "execution_count": 139,
     "metadata": {},
     "output_type": "execute_result"
    }
   ],
   "source": [
    "np.sqrt(arr)"
   ]
  },
  {
   "cell_type": "code",
   "execution_count": 140,
   "metadata": {},
   "outputs": [
    {
     "data": {
      "text/plain": [
       "array([[ 0.        ,  1.        ,  1.41421356],\n",
       "       [ 1.73205081,  2.        ,  2.23606798],\n",
       "       [31.71750305, 31.73326331, 31.74901573]])"
      ]
     },
     "execution_count": 140,
     "metadata": {},
     "output_type": "execute_result"
    }
   ],
   "source": [
    "np.sqrt(arr2)"
   ]
  },
  {
   "cell_type": "code",
   "execution_count": 141,
   "metadata": {},
   "outputs": [
    {
     "data": {
      "text/plain": [
       "array([0, 5, 6, 3])"
      ]
     },
     "execution_count": 141,
     "metadata": {},
     "output_type": "execute_result"
    }
   ],
   "source": [
    "arr"
   ]
  },
  {
   "cell_type": "code",
   "execution_count": 142,
   "metadata": {},
   "outputs": [
    {
     "data": {
      "text/plain": [
       "array([[   0,    1,    2],\n",
       "       [   3,    4,    5],\n",
       "       [1006, 1007, 1008]])"
      ]
     },
     "execution_count": 142,
     "metadata": {},
     "output_type": "execute_result"
    }
   ],
   "source": [
    "arr2"
   ]
  },
  {
   "cell_type": "code",
   "execution_count": 143,
   "metadata": {},
   "outputs": [
    {
     "data": {
      "text/plain": [
       "14"
      ]
     },
     "execution_count": 143,
     "metadata": {},
     "output_type": "execute_result"
    }
   ],
   "source": [
    "np.sum(arr)"
   ]
  },
  {
   "cell_type": "code",
   "execution_count": 144,
   "metadata": {},
   "outputs": [
    {
     "data": {
      "text/plain": [
       "3036"
      ]
     },
     "execution_count": 144,
     "metadata": {},
     "output_type": "execute_result"
    }
   ],
   "source": [
    "np.sum(arr2)"
   ]
  },
  {
   "cell_type": "code",
   "execution_count": 145,
   "metadata": {},
   "outputs": [
    {
     "data": {
      "text/plain": [
       "14"
      ]
     },
     "execution_count": 145,
     "metadata": {},
     "output_type": "execute_result"
    }
   ],
   "source": [
    "arr.sum()"
   ]
  },
  {
   "cell_type": "code",
   "execution_count": 146,
   "metadata": {},
   "outputs": [
    {
     "data": {
      "text/plain": [
       "3036"
      ]
     },
     "execution_count": 146,
     "metadata": {},
     "output_type": "execute_result"
    }
   ],
   "source": [
    "arr2.sum()"
   ]
  },
  {
   "cell_type": "code",
   "execution_count": 147,
   "metadata": {},
   "outputs": [
    {
     "data": {
      "text/plain": [
       "3.5"
      ]
     },
     "execution_count": 147,
     "metadata": {},
     "output_type": "execute_result"
    }
   ],
   "source": [
    "np.mean(arr)"
   ]
  },
  {
   "cell_type": "code",
   "execution_count": 148,
   "metadata": {},
   "outputs": [
    {
     "data": {
      "text/plain": [
       "337.3333333333333"
      ]
     },
     "execution_count": 148,
     "metadata": {},
     "output_type": "execute_result"
    }
   ],
   "source": [
    "np.mean(arr2)"
   ]
  },
  {
   "cell_type": "code",
   "execution_count": 149,
   "metadata": {},
   "outputs": [
    {
     "data": {
      "text/plain": [
       "2.29128784747792"
      ]
     },
     "execution_count": 149,
     "metadata": {},
     "output_type": "execute_result"
    }
   ],
   "source": [
    "np.std(arr)"
   ]
  },
  {
   "cell_type": "code",
   "execution_count": 150,
   "metadata": {},
   "outputs": [
    {
     "data": {
      "text/plain": [
       "473.52812893099485"
      ]
     },
     "execution_count": 150,
     "metadata": {},
     "output_type": "execute_result"
    }
   ],
   "source": [
    "np.std(arr2)"
   ]
  },
  {
   "cell_type": "code",
   "execution_count": null,
   "metadata": {},
   "outputs": [],
   "source": [
    "#operações com linha e coluna"
   ]
  },
  {
   "cell_type": "code",
   "execution_count": 151,
   "metadata": {},
   "outputs": [
    {
     "data": {
      "text/plain": [
       "array([[   0,    1,    2],\n",
       "       [   3,    4,    5],\n",
       "       [1006, 1007, 1008]])"
      ]
     },
     "execution_count": 151,
     "metadata": {},
     "output_type": "execute_result"
    }
   ],
   "source": [
    "arr2"
   ]
  },
  {
   "cell_type": "code",
   "execution_count": 152,
   "metadata": {},
   "outputs": [
    {
     "data": {
      "text/plain": [
       "array([1009, 1012, 1015])"
      ]
     },
     "execution_count": 152,
     "metadata": {},
     "output_type": "execute_result"
    }
   ],
   "source": [
    "#axis = 0 soma das colunas\n",
    "arr2.sum(axis=0)"
   ]
  },
  {
   "cell_type": "code",
   "execution_count": 153,
   "metadata": {},
   "outputs": [
    {
     "data": {
      "text/plain": [
       "array([   3,   12, 3021])"
      ]
     },
     "execution_count": 153,
     "metadata": {},
     "output_type": "execute_result"
    }
   ],
   "source": [
    "arr2.sum(axis=1)"
   ]
  },
  {
   "cell_type": "code",
   "execution_count": 154,
   "metadata": {},
   "outputs": [
    {
     "data": {
      "text/plain": [
       "array([1.000e+00, 4.000e+00, 1.007e+03])"
      ]
     },
     "execution_count": 154,
     "metadata": {},
     "output_type": "execute_result"
    }
   ],
   "source": [
    "arr2.mean(axis=1)"
   ]
  },
  {
   "cell_type": "code",
   "execution_count": 155,
   "metadata": {},
   "outputs": [
    {
     "data": {
      "text/plain": [
       "array([336.33333333, 337.33333333, 338.33333333])"
      ]
     },
     "execution_count": 155,
     "metadata": {},
     "output_type": "execute_result"
    }
   ],
   "source": [
    "arr2.mean(axis=0)"
   ]
  },
  {
   "cell_type": "code",
   "execution_count": null,
   "metadata": {},
   "outputs": [],
   "source": []
  }
 ],
 "metadata": {
  "kernelspec": {
   "display_name": "Python 2",
   "language": "python",
   "name": "python2"
  },
  "language_info": {
   "codemirror_mode": {
    "name": "ipython",
    "version": 2
   },
   "file_extension": ".py",
   "mimetype": "text/x-python",
   "name": "python",
   "nbconvert_exporter": "python",
   "pygments_lexer": "ipython2",
   "version": "2.7.14"
  }
 },
 "nbformat": 4,
 "nbformat_minor": 4
}
