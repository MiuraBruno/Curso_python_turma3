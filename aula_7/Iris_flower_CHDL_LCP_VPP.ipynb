{
 "cells": [
  {
   "cell_type": "code",
   "execution_count": 1,
   "metadata": {},
   "outputs": [],
   "source": [
    "# importar (se for criar diretorio)\n",
    "# ler, guardar, fechar\n",
    "# dividir pra conquistar -fonte: A Arte da Codação\n",
    "# calcular e salvar em 3 arquivos separados\n",
    "# ponto de duvida: revisar e nao dividir ao calcular e somente ao salvar?\n",
    "\n"
   ]
  },
  {
   "cell_type": "code",
   "execution_count": 2,
   "metadata": {},
   "outputs": [
    {
     "name": "stdout",
     "output_type": "stream",
     "text": [
      "STEP: arquivo carregado na variável: counteudo_iris\n"
     ]
    }
   ],
   "source": [
    "\n",
    "var_delimiter = ';'\n",
    "\n",
    "with open('dados/iris.csv', mode = 'r', encoding = 'UTF-8') as iris_tmp:\n",
    "    conteudo_iris  = iris_tmp.readlines()    \n",
    "print('STEP: arquivo carregado na variável: counteudo_iris')\n",
    "#print(conteudo_iris)"
   ]
  },
  {
   "cell_type": "code",
   "execution_count": 3,
   "metadata": {},
   "outputs": [
    {
     "name": "stdout",
     "output_type": "stream",
     "text": [
      "['Id;Comprimento_Sepala;Largura_Sepala;Comprimento_Petala;Largura_Petala;Especie\\n', '1;5.1;3.5;1.4;0.2;setosa\\n', '2;4.9;3.0;1.4;0.2;setosa\\n', '3;4.7;3.2;1.3;0.2;setosa\\n', '4;4.6;3.1;1.5;0.2;setosa\\n', '5;5.0;3.6;1.4;0.2;setosa\\n', '6;5.4;3.9;1.7;0.4;setosa\\n', '7;4.6;3.4;1.4;0.3;setosa\\n', '8;5.0;3.4;1.5;0.2;setosa\\n', '9;4.4;2.9;1.4;0.2;setosa\\n', '10;4.9;3.1;1.5;0.1;setosa\\n', '11;5.4;3.7;1.5;0.2;setosa\\n', '12;4.8;3.4;1.6;0.2;setosa\\n', '13;4.8;3.0;1.4;0.1;setosa\\n', '14;4.3;3.0;1.1;0.1;setosa\\n', '15;5.8;4.0;1.2;0.2;setosa\\n', '16;5.7;4.4;1.5;0.4;setosa\\n', '17;5.4;3.9;1.3;0.4;setosa\\n', '18;5.1;3.5;1.4;0.3;setosa\\n', '19;5.7;3.8;1.7;0.3;setosa\\n', '20;5.1;3.8;1.5;0.3;setosa\\n', '21;5.4;3.4;1.7;0.2;setosa\\n', '22;5.1;3.7;1.5;0.4;setosa\\n', '23;4.6;3.6;1.0;0.2;setosa\\n', '24;5.1;3.3;1.7;0.5;setosa\\n', '25;4.8;3.4;1.9;0.2;setosa\\n', '26;5.0;3.0;1.6;0.2;setosa\\n', '27;5.0;3.4;1.6;0.4;setosa\\n', '28;5.2;3.5;1.5;0.2;setosa\\n', '29;5.2;3.4;1.4;0.2;setosa\\n', '30;4.7;3.2;1.6;0.2;setosa\\n', '31;4.8;3.1;1.6;0.2;setosa\\n', '32;5.4;3.4;1.5;0.4;setosa\\n', '33;5.2;4.1;1.5;0.1;setosa\\n', '34;5.5;4.2;1.4;0.2;setosa\\n', '35;4.9;3.1;1.5;0.1;setosa\\n', '36;5.0;3.2;1.2;0.2;setosa\\n', '37;5.5;3.5;1.3;0.2;setosa\\n', '38;4.9;3.1;1.5;0.1;setosa\\n', '39;4.4;3.0;1.3;0.2;setosa\\n', '40;5.1;3.4;1.5;0.2;setosa\\n', '41;5.0;3.5;1.3;0.3;setosa\\n', '42;4.5;2.3;1.3;0.3;setosa\\n', '43;4.4;3.2;1.3;0.2;setosa\\n', '44;5.0;3.5;1.6;0.6;setosa\\n', '45;5.1;3.8;1.9;0.4;setosa\\n', '46;4.8;3.0;1.4;0.3;setosa\\n', '47;5.1;3.8;1.6;0.2;setosa\\n', '48;4.6;3.2;1.4;0.2;setosa\\n', '49;5.3;3.7;1.5;0.2;setosa\\n', '50;5.0;3.3;1.4;0.2;setosa\\n', '51;7.0;3.2;4.7;1.4;versicolor\\n', '52;6.4;3.2;4.5;1.5;versicolor\\n', '53;6.9;3.1;4.9;1.5;versicolor\\n', '54;5.5;2.3;4.0;1.3;versicolor\\n', '55;6.5;2.8;4.6;1.5;versicolor\\n', '56;5.7;2.8;4.5;1.3;versicolor\\n', '57;6.3;3.3;4.7;1.6;versicolor\\n', '58;4.9;2.4;3.3;1.0;versicolor\\n', '59;6.6;2.9;4.6;1.3;versicolor\\n', '60;5.2;2.7;3.9;1.4;versicolor\\n', '61;5.0;2.0;3.5;1.0;versicolor\\n', '62;5.9;3.0;4.2;1.5;versicolor\\n', '63;6.0;2.2;4.0;1.0;versicolor\\n', '64;6.1;2.9;4.7;1.4;versicolor\\n', '65;5.6;2.9;3.6;1.3;versicolor\\n', '66;6.7;3.1;4.4;1.4;versicolor\\n', '67;5.6;3.0;4.5;1.5;versicolor\\n', '68;5.8;2.7;4.1;1.0;versicolor\\n', '69;6.2;2.2;4.5;1.5;versicolor\\n', '70;5.6;2.5;3.9;1.1;versicolor\\n', '71;5.9;3.2;4.8;1.8;versicolor\\n', '72;6.1;2.8;4.0;1.3;versicolor\\n', '73;6.3;2.5;4.9;1.5;versicolor\\n', '74;6.1;2.8;4.7;1.2;versicolor\\n', '75;6.4;2.9;4.3;1.3;versicolor\\n', '76;6.6;3.0;4.4;1.4;versicolor\\n', '77;6.8;2.8;4.8;1.4;versicolor\\n', '78;6.7;3.0;5.0;1.7;versicolor\\n', '79;6.0;2.9;4.5;1.5;versicolor\\n', '80;5.7;2.6;3.5;1.0;versicolor\\n', '81;5.5;2.4;3.8;1.1;versicolor\\n', '82;5.5;2.4;3.7;1.0;versicolor\\n', '83;5.8;2.7;3.9;1.2;versicolor\\n', '84;6.0;2.7;5.1;1.6;versicolor\\n', '85;5.4;3.0;4.5;1.5;versicolor\\n', '86;6.0;3.4;4.5;1.6;versicolor\\n', '87;6.7;3.1;4.7;1.5;versicolor\\n', '88;6.3;2.3;4.4;1.3;versicolor\\n', '89;5.6;3.0;4.1;1.3;versicolor\\n', '90;5.5;2.5;4.0;1.3;versicolor\\n', '91;5.5;2.6;4.4;1.2;versicolor\\n', '92;6.1;3.0;4.6;1.4;versicolor\\n', '93;5.8;2.6;4.0;1.2;versicolor\\n', '94;5.0;2.3;3.3;1.0;versicolor\\n', '95;5.6;2.7;4.2;1.3;versicolor\\n', '96;5.7;3.0;4.2;1.2;versicolor\\n', '97;5.7;2.9;4.2;1.3;versicolor\\n', '98;6.2;2.9;4.3;1.3;versicolor\\n', '99;5.1;2.5;3.0;1.1;versicolor\\n', '100;5.7;2.8;4.1;1.3;versicolor\\n', '101;6.3;3.3;6.0;2.5;virginica\\n', '102;5.8;2.7;5.1;1.9;virginica\\n', '103;7.1;3.0;5.9;2.1;virginica\\n', '104;6.3;2.9;5.6;1.8;virginica\\n', '105;6.5;3.0;5.8;2.2;virginica\\n', '106;7.6;3.0;6.6;2.1;virginica\\n', '107;4.9;2.5;4.5;1.7;virginica\\n', '108;7.3;2.9;6.3;1.8;virginica\\n', '109;6.7;2.5;5.8;1.8;virginica\\n', '110;7.2;3.6;6.1;2.5;virginica\\n', '111;6.5;3.2;5.1;2.0;virginica\\n', '112;6.4;2.7;5.3;1.9;virginica\\n', '113;6.8;3.0;5.5;2.1;virginica\\n', '114;5.7;2.5;5.0;2.0;virginica\\n', '115;5.8;2.8;5.1;2.4;virginica\\n', '116;6.4;3.2;5.3;2.3;virginica\\n', '117;6.5;3.0;5.5;1.8;virginica\\n', '118;7.7;3.8;6.7;2.2;virginica\\n', '119;7.7;2.6;6.9;2.3;virginica\\n', '120;6.0;2.2;5.0;1.5;virginica\\n', '121;6.9;3.2;5.7;2.3;virginica\\n', '122;5.6;2.8;4.9;2.0;virginica\\n', '123;7.7;2.8;6.7;2.0;virginica\\n', '124;6.3;2.7;4.9;1.8;virginica\\n', '125;6.7;3.3;5.7;2.1;virginica\\n', '126;7.2;3.2;6.0;1.8;virginica\\n', '127;6.2;2.8;4.8;1.8;virginica\\n', '128;6.1;3.0;4.9;1.8;virginica\\n', '129;6.4;2.8;5.6;2.1;virginica\\n', '130;7.2;3.0;5.8;1.6;virginica\\n', '131;7.4;2.8;6.1;1.9;virginica\\n', '132;7.9;3.8;6.4;2.0;virginica\\n', '133;6.4;2.8;5.6;2.2;virginica\\n', '134;6.3;2.8;5.1;1.5;virginica\\n', '135;6.1;2.6;5.6;1.4;virginica\\n', '136;7.7;3.0;6.1;2.3;virginica\\n', '137;6.3;3.4;5.6;2.4;virginica\\n', '138;6.4;3.1;5.5;1.8;virginica\\n', '139;6.0;3.0;4.8;1.8;virginica\\n', '140;6.9;3.1;5.4;2.1;virginica\\n', '141;6.7;3.1;5.6;2.4;virginica\\n', '142;6.9;3.1;5.1;2.3;virginica\\n', '143;5.8;2.7;5.1;1.9;virginica\\n', '144;6.8;3.2;5.9;2.3;virginica\\n', '145;6.7;3.3;5.7;2.5;virginica\\n', '146;6.7;3.0;5.2;2.3;virginica\\n', '147;6.3;2.5;5.0;1.9;virginica\\n', '148;6.5;3.0;5.2;2.0;virginica\\n', '149;6.2;3.4;5.4;2.3;virginica\\n', '150;5.9;3.0;5.1;1.8;virginica\\n']\n"
     ]
    }
   ],
   "source": [
    "print(conteudo_iris)"
   ]
  },
  {
   "cell_type": "code",
   "execution_count": 4,
   "metadata": {},
   "outputs": [
    {
     "data": {
      "text/plain": [
       "'Id;Comprimento_Sepala;Largura_Sepala;Comprimento_Petala;Largura_Petala;Especie\\n'"
      ]
     },
     "execution_count": 4,
     "metadata": {},
     "output_type": "execute_result"
    }
   ],
   "source": [
    "# visualizar 1a. linha, eventual cabeçalho\n",
    "conteudo_iris[0]"
   ]
  },
  {
   "cell_type": "code",
   "execution_count": 5,
   "metadata": {},
   "outputs": [],
   "source": [
    "####conteudo_iris= conteudo_iris[:].replace('\\n','')"
   ]
  },
  {
   "cell_type": "code",
   "execution_count": 6,
   "metadata": {},
   "outputs": [
    {
     "name": "stdout",
     "output_type": "stream",
     "text": [
      "STEP: limpeza \\n efetuada\n"
     ]
    }
   ],
   "source": [
    "# efetuando limpeza de \\n \n",
    "i = 0\n",
    "while i < len(conteudo_iris):\n",
    "        #print (conteudo_iris[i])\n",
    "        conteudo_iris[i]= conteudo_iris[i].replace('\\n','')\n",
    "        i = i + 1\n",
    "print('STEP: limpeza \\\\n efetuada')"
   ]
  },
  {
   "cell_type": "code",
   "execution_count": 7,
   "metadata": {},
   "outputs": [
    {
     "name": "stdout",
     "output_type": "stream",
     "text": [
      "[['Id', 'Comprimento_Sepala', 'Largura_Sepala', 'Comprimento_Petala', 'Largura_Petala', 'Especie']]\n"
     ]
    }
   ],
   "source": [
    "#matrix\n",
    "#dir(append)\n",
    "\n",
    "list1             = conteudo_iris[:]\n",
    "matriz            = []\n",
    "matriz_setosa     = []\n",
    "matriz_versicolor = []\n",
    "matriz_virginica  = []\n",
    "i_row             = 0\n",
    "\n",
    "# defino o header de todas as listas:\n",
    "matriz_setosa.append(list1[0].split(var_delimiter))\n",
    "\n",
    "print(matriz_setosa)"
   ]
  },
  {
   "cell_type": "code",
   "execution_count": 8,
   "metadata": {},
   "outputs": [
    {
     "name": "stdout",
     "output_type": "stream",
     "text": [
      "0\n",
      "Especie matriz_Especie\n",
      "1\n",
      "setosa matriz_setosa\n",
      "2\n",
      "setosa matriz_setosa\n",
      "3\n",
      "setosa matriz_setosa\n",
      "4\n",
      "setosa matriz_setosa\n",
      "5\n",
      "setosa matriz_setosa\n",
      "6\n",
      "setosa matriz_setosa\n",
      "7\n",
      "setosa matriz_setosa\n",
      "8\n",
      "setosa matriz_setosa\n",
      "9\n",
      "setosa matriz_setosa\n",
      "10\n",
      "setosa matriz_setosa\n",
      "11\n",
      "setosa matriz_setosa\n",
      "12\n",
      "setosa matriz_setosa\n",
      "13\n",
      "setosa matriz_setosa\n",
      "14\n",
      "setosa matriz_setosa\n",
      "15\n",
      "setosa matriz_setosa\n",
      "16\n",
      "setosa matriz_setosa\n",
      "17\n",
      "setosa matriz_setosa\n",
      "18\n",
      "setosa matriz_setosa\n",
      "19\n",
      "setosa matriz_setosa\n",
      "20\n",
      "setosa matriz_setosa\n",
      "21\n",
      "setosa matriz_setosa\n",
      "22\n",
      "setosa matriz_setosa\n",
      "23\n",
      "setosa matriz_setosa\n",
      "24\n",
      "setosa matriz_setosa\n",
      "25\n",
      "setosa matriz_setosa\n",
      "26\n",
      "setosa matriz_setosa\n",
      "27\n",
      "setosa matriz_setosa\n",
      "28\n",
      "setosa matriz_setosa\n",
      "29\n",
      "setosa matriz_setosa\n",
      "30\n",
      "setosa matriz_setosa\n",
      "31\n",
      "setosa matriz_setosa\n",
      "32\n",
      "setosa matriz_setosa\n",
      "33\n",
      "setosa matriz_setosa\n",
      "34\n",
      "setosa matriz_setosa\n",
      "35\n",
      "setosa matriz_setosa\n",
      "36\n",
      "setosa matriz_setosa\n",
      "37\n",
      "setosa matriz_setosa\n",
      "38\n",
      "setosa matriz_setosa\n",
      "39\n",
      "setosa matriz_setosa\n",
      "40\n",
      "setosa matriz_setosa\n",
      "41\n",
      "setosa matriz_setosa\n",
      "42\n",
      "setosa matriz_setosa\n",
      "43\n",
      "setosa matriz_setosa\n",
      "44\n",
      "setosa matriz_setosa\n",
      "45\n",
      "setosa matriz_setosa\n",
      "46\n",
      "setosa matriz_setosa\n",
      "47\n",
      "setosa matriz_setosa\n",
      "48\n",
      "setosa matriz_setosa\n",
      "49\n",
      "setosa matriz_setosa\n",
      "50\n",
      "setosa matriz_setosa\n",
      "51\n",
      "versicolor matriz_versicolor\n",
      "52\n",
      "versicolor matriz_versicolor\n",
      "53\n",
      "versicolor matriz_versicolor\n",
      "54\n",
      "versicolor matriz_versicolor\n",
      "55\n",
      "versicolor matriz_versicolor\n",
      "56\n",
      "versicolor matriz_versicolor\n",
      "57\n",
      "versicolor matriz_versicolor\n",
      "58\n",
      "versicolor matriz_versicolor\n",
      "59\n",
      "versicolor matriz_versicolor\n",
      "60\n",
      "versicolor matriz_versicolor\n",
      "61\n",
      "versicolor matriz_versicolor\n",
      "62\n",
      "versicolor matriz_versicolor\n",
      "63\n",
      "versicolor matriz_versicolor\n",
      "64\n",
      "versicolor matriz_versicolor\n",
      "65\n",
      "versicolor matriz_versicolor\n",
      "66\n",
      "versicolor matriz_versicolor\n",
      "67\n",
      "versicolor matriz_versicolor\n",
      "68\n",
      "versicolor matriz_versicolor\n",
      "69\n",
      "versicolor matriz_versicolor\n",
      "70\n",
      "versicolor matriz_versicolor\n",
      "71\n",
      "versicolor matriz_versicolor\n",
      "72\n",
      "versicolor matriz_versicolor\n",
      "73\n",
      "versicolor matriz_versicolor\n",
      "74\n",
      "versicolor matriz_versicolor\n",
      "75\n",
      "versicolor matriz_versicolor\n",
      "76\n",
      "versicolor matriz_versicolor\n",
      "77\n",
      "versicolor matriz_versicolor\n",
      "78\n",
      "versicolor matriz_versicolor\n",
      "79\n",
      "versicolor matriz_versicolor\n",
      "80\n",
      "versicolor matriz_versicolor\n",
      "81\n",
      "versicolor matriz_versicolor\n",
      "82\n",
      "versicolor matriz_versicolor\n",
      "83\n",
      "versicolor matriz_versicolor\n",
      "84\n",
      "versicolor matriz_versicolor\n",
      "85\n",
      "versicolor matriz_versicolor\n",
      "86\n",
      "versicolor matriz_versicolor\n",
      "87\n",
      "versicolor matriz_versicolor\n",
      "88\n",
      "versicolor matriz_versicolor\n",
      "89\n",
      "versicolor matriz_versicolor\n",
      "90\n",
      "versicolor matriz_versicolor\n",
      "91\n",
      "versicolor matriz_versicolor\n",
      "92\n",
      "versicolor matriz_versicolor\n",
      "93\n",
      "versicolor matriz_versicolor\n",
      "94\n",
      "versicolor matriz_versicolor\n",
      "95\n",
      "versicolor matriz_versicolor\n",
      "96\n",
      "versicolor matriz_versicolor\n",
      "97\n",
      "versicolor matriz_versicolor\n",
      "98\n",
      "versicolor matriz_versicolor\n",
      "99\n",
      "versicolor matriz_versicolor\n",
      "100\n",
      "versicolor matriz_versicolor\n",
      "101\n",
      "virginica matriz_virginica\n",
      "102\n",
      "virginica matriz_virginica\n",
      "103\n",
      "virginica matriz_virginica\n",
      "104\n",
      "virginica matriz_virginica\n",
      "105\n",
      "virginica matriz_virginica\n",
      "106\n",
      "virginica matriz_virginica\n",
      "107\n",
      "virginica matriz_virginica\n",
      "108\n",
      "virginica matriz_virginica\n",
      "109\n",
      "virginica matriz_virginica\n",
      "110\n",
      "virginica matriz_virginica\n",
      "111\n",
      "virginica matriz_virginica\n",
      "112\n",
      "virginica matriz_virginica\n",
      "113\n",
      "virginica matriz_virginica\n",
      "114\n",
      "virginica matriz_virginica\n",
      "115\n",
      "virginica matriz_virginica\n",
      "116\n",
      "virginica matriz_virginica\n",
      "117\n",
      "virginica matriz_virginica\n",
      "118\n",
      "virginica matriz_virginica\n",
      "119\n",
      "virginica matriz_virginica\n",
      "120\n",
      "virginica matriz_virginica\n",
      "121\n",
      "virginica matriz_virginica\n",
      "122\n",
      "virginica matriz_virginica\n",
      "123\n",
      "virginica matriz_virginica\n",
      "124\n",
      "virginica matriz_virginica\n",
      "125\n",
      "virginica matriz_virginica\n",
      "126\n",
      "virginica matriz_virginica\n",
      "127\n",
      "virginica matriz_virginica\n",
      "128\n",
      "virginica matriz_virginica\n",
      "129\n",
      "virginica matriz_virginica\n",
      "130\n",
      "virginica matriz_virginica\n",
      "131\n",
      "virginica matriz_virginica\n",
      "132\n",
      "virginica matriz_virginica\n",
      "133\n",
      "virginica matriz_virginica\n",
      "134\n",
      "virginica matriz_virginica\n",
      "135\n",
      "virginica matriz_virginica\n",
      "136\n",
      "virginica matriz_virginica\n",
      "137\n",
      "virginica matriz_virginica\n",
      "138\n",
      "virginica matriz_virginica\n",
      "139\n",
      "virginica matriz_virginica\n",
      "140\n",
      "virginica matriz_virginica\n",
      "141\n",
      "virginica matriz_virginica\n",
      "142\n",
      "virginica matriz_virginica\n",
      "143\n",
      "virginica matriz_virginica\n",
      "144\n",
      "virginica matriz_virginica\n",
      "145\n",
      "virginica matriz_virginica\n",
      "146\n",
      "virginica matriz_virginica\n",
      "147\n",
      "virginica matriz_virginica\n",
      "148\n",
      "virginica matriz_virginica\n",
      "149\n",
      "virginica matriz_virginica\n",
      "150\n",
      "virginica matriz_virginica\n",
      "[['Id', 'Comprimento_Sepala', 'Largura_Sepala', 'Comprimento_Petala', 'Largura_Petala', 'Especie'], ['1', '5.1', '3.5', '1.4', '0.2', 'setosa'], ['2', '4.9', '3.0', '1.4', '0.2', 'setosa'], ['3', '4.7', '3.2', '1.3', '0.2', 'setosa'], ['4', '4.6', '3.1', '1.5', '0.2', 'setosa'], ['5', '5.0', '3.6', '1.4', '0.2', 'setosa'], ['6', '5.4', '3.9', '1.7', '0.4', 'setosa'], ['7', '4.6', '3.4', '1.4', '0.3', 'setosa'], ['8', '5.0', '3.4', '1.5', '0.2', 'setosa'], ['9', '4.4', '2.9', '1.4', '0.2', 'setosa'], ['10', '4.9', '3.1', '1.5', '0.1', 'setosa'], ['11', '5.4', '3.7', '1.5', '0.2', 'setosa'], ['12', '4.8', '3.4', '1.6', '0.2', 'setosa'], ['13', '4.8', '3.0', '1.4', '0.1', 'setosa'], ['14', '4.3', '3.0', '1.1', '0.1', 'setosa'], ['15', '5.8', '4.0', '1.2', '0.2', 'setosa'], ['16', '5.7', '4.4', '1.5', '0.4', 'setosa'], ['17', '5.4', '3.9', '1.3', '0.4', 'setosa'], ['18', '5.1', '3.5', '1.4', '0.3', 'setosa'], ['19', '5.7', '3.8', '1.7', '0.3', 'setosa'], ['20', '5.1', '3.8', '1.5', '0.3', 'setosa'], ['21', '5.4', '3.4', '1.7', '0.2', 'setosa'], ['22', '5.1', '3.7', '1.5', '0.4', 'setosa'], ['23', '4.6', '3.6', '1.0', '0.2', 'setosa'], ['24', '5.1', '3.3', '1.7', '0.5', 'setosa'], ['25', '4.8', '3.4', '1.9', '0.2', 'setosa'], ['26', '5.0', '3.0', '1.6', '0.2', 'setosa'], ['27', '5.0', '3.4', '1.6', '0.4', 'setosa'], ['28', '5.2', '3.5', '1.5', '0.2', 'setosa'], ['29', '5.2', '3.4', '1.4', '0.2', 'setosa'], ['30', '4.7', '3.2', '1.6', '0.2', 'setosa'], ['31', '4.8', '3.1', '1.6', '0.2', 'setosa'], ['32', '5.4', '3.4', '1.5', '0.4', 'setosa'], ['33', '5.2', '4.1', '1.5', '0.1', 'setosa'], ['34', '5.5', '4.2', '1.4', '0.2', 'setosa'], ['35', '4.9', '3.1', '1.5', '0.1', 'setosa'], ['36', '5.0', '3.2', '1.2', '0.2', 'setosa'], ['37', '5.5', '3.5', '1.3', '0.2', 'setosa'], ['38', '4.9', '3.1', '1.5', '0.1', 'setosa'], ['39', '4.4', '3.0', '1.3', '0.2', 'setosa'], ['40', '5.1', '3.4', '1.5', '0.2', 'setosa'], ['41', '5.0', '3.5', '1.3', '0.3', 'setosa'], ['42', '4.5', '2.3', '1.3', '0.3', 'setosa'], ['43', '4.4', '3.2', '1.3', '0.2', 'setosa'], ['44', '5.0', '3.5', '1.6', '0.6', 'setosa'], ['45', '5.1', '3.8', '1.9', '0.4', 'setosa'], ['46', '4.8', '3.0', '1.4', '0.3', 'setosa'], ['47', '5.1', '3.8', '1.6', '0.2', 'setosa'], ['48', '4.6', '3.2', '1.4', '0.2', 'setosa'], ['49', '5.3', '3.7', '1.5', '0.2', 'setosa'], ['50', '5.0', '3.3', '1.4', '0.2', 'setosa'], ['51', '7.0', '3.2', '4.7', '1.4', 'versicolor'], ['52', '6.4', '3.2', '4.5', '1.5', 'versicolor'], ['53', '6.9', '3.1', '4.9', '1.5', 'versicolor'], ['54', '5.5', '2.3', '4.0', '1.3', 'versicolor'], ['55', '6.5', '2.8', '4.6', '1.5', 'versicolor'], ['56', '5.7', '2.8', '4.5', '1.3', 'versicolor'], ['57', '6.3', '3.3', '4.7', '1.6', 'versicolor'], ['58', '4.9', '2.4', '3.3', '1.0', 'versicolor'], ['59', '6.6', '2.9', '4.6', '1.3', 'versicolor'], ['60', '5.2', '2.7', '3.9', '1.4', 'versicolor'], ['61', '5.0', '2.0', '3.5', '1.0', 'versicolor'], ['62', '5.9', '3.0', '4.2', '1.5', 'versicolor'], ['63', '6.0', '2.2', '4.0', '1.0', 'versicolor'], ['64', '6.1', '2.9', '4.7', '1.4', 'versicolor'], ['65', '5.6', '2.9', '3.6', '1.3', 'versicolor'], ['66', '6.7', '3.1', '4.4', '1.4', 'versicolor'], ['67', '5.6', '3.0', '4.5', '1.5', 'versicolor'], ['68', '5.8', '2.7', '4.1', '1.0', 'versicolor'], ['69', '6.2', '2.2', '4.5', '1.5', 'versicolor'], ['70', '5.6', '2.5', '3.9', '1.1', 'versicolor'], ['71', '5.9', '3.2', '4.8', '1.8', 'versicolor'], ['72', '6.1', '2.8', '4.0', '1.3', 'versicolor'], ['73', '6.3', '2.5', '4.9', '1.5', 'versicolor'], ['74', '6.1', '2.8', '4.7', '1.2', 'versicolor'], ['75', '6.4', '2.9', '4.3', '1.3', 'versicolor'], ['76', '6.6', '3.0', '4.4', '1.4', 'versicolor'], ['77', '6.8', '2.8', '4.8', '1.4', 'versicolor'], ['78', '6.7', '3.0', '5.0', '1.7', 'versicolor'], ['79', '6.0', '2.9', '4.5', '1.5', 'versicolor'], ['80', '5.7', '2.6', '3.5', '1.0', 'versicolor'], ['81', '5.5', '2.4', '3.8', '1.1', 'versicolor'], ['82', '5.5', '2.4', '3.7', '1.0', 'versicolor'], ['83', '5.8', '2.7', '3.9', '1.2', 'versicolor'], ['84', '6.0', '2.7', '5.1', '1.6', 'versicolor'], ['85', '5.4', '3.0', '4.5', '1.5', 'versicolor'], ['86', '6.0', '3.4', '4.5', '1.6', 'versicolor'], ['87', '6.7', '3.1', '4.7', '1.5', 'versicolor'], ['88', '6.3', '2.3', '4.4', '1.3', 'versicolor'], ['89', '5.6', '3.0', '4.1', '1.3', 'versicolor'], ['90', '5.5', '2.5', '4.0', '1.3', 'versicolor'], ['91', '5.5', '2.6', '4.4', '1.2', 'versicolor'], ['92', '6.1', '3.0', '4.6', '1.4', 'versicolor'], ['93', '5.8', '2.6', '4.0', '1.2', 'versicolor'], ['94', '5.0', '2.3', '3.3', '1.0', 'versicolor'], ['95', '5.6', '2.7', '4.2', '1.3', 'versicolor'], ['96', '5.7', '3.0', '4.2', '1.2', 'versicolor'], ['97', '5.7', '2.9', '4.2', '1.3', 'versicolor'], ['98', '6.2', '2.9', '4.3', '1.3', 'versicolor'], ['99', '5.1', '2.5', '3.0', '1.1', 'versicolor'], ['100', '5.7', '2.8', '4.1', '1.3', 'versicolor'], ['101', '6.3', '3.3', '6.0', '2.5', 'virginica'], ['102', '5.8', '2.7', '5.1', '1.9', 'virginica'], ['103', '7.1', '3.0', '5.9', '2.1', 'virginica'], ['104', '6.3', '2.9', '5.6', '1.8', 'virginica'], ['105', '6.5', '3.0', '5.8', '2.2', 'virginica'], ['106', '7.6', '3.0', '6.6', '2.1', 'virginica'], ['107', '4.9', '2.5', '4.5', '1.7', 'virginica'], ['108', '7.3', '2.9', '6.3', '1.8', 'virginica'], ['109', '6.7', '2.5', '5.8', '1.8', 'virginica'], ['110', '7.2', '3.6', '6.1', '2.5', 'virginica'], ['111', '6.5', '3.2', '5.1', '2.0', 'virginica'], ['112', '6.4', '2.7', '5.3', '1.9', 'virginica'], ['113', '6.8', '3.0', '5.5', '2.1', 'virginica'], ['114', '5.7', '2.5', '5.0', '2.0', 'virginica'], ['115', '5.8', '2.8', '5.1', '2.4', 'virginica'], ['116', '6.4', '3.2', '5.3', '2.3', 'virginica'], ['117', '6.5', '3.0', '5.5', '1.8', 'virginica'], ['118', '7.7', '3.8', '6.7', '2.2', 'virginica'], ['119', '7.7', '2.6', '6.9', '2.3', 'virginica'], ['120', '6.0', '2.2', '5.0', '1.5', 'virginica'], ['121', '6.9', '3.2', '5.7', '2.3', 'virginica'], ['122', '5.6', '2.8', '4.9', '2.0', 'virginica'], ['123', '7.7', '2.8', '6.7', '2.0', 'virginica'], ['124', '6.3', '2.7', '4.9', '1.8', 'virginica'], ['125', '6.7', '3.3', '5.7', '2.1', 'virginica'], ['126', '7.2', '3.2', '6.0', '1.8', 'virginica'], ['127', '6.2', '2.8', '4.8', '1.8', 'virginica'], ['128', '6.1', '3.0', '4.9', '1.8', 'virginica'], ['129', '6.4', '2.8', '5.6', '2.1', 'virginica'], ['130', '7.2', '3.0', '5.8', '1.6', 'virginica'], ['131', '7.4', '2.8', '6.1', '1.9', 'virginica'], ['132', '7.9', '3.8', '6.4', '2.0', 'virginica'], ['133', '6.4', '2.8', '5.6', '2.2', 'virginica'], ['134', '6.3', '2.8', '5.1', '1.5', 'virginica'], ['135', '6.1', '2.6', '5.6', '1.4', 'virginica'], ['136', '7.7', '3.0', '6.1', '2.3', 'virginica'], ['137', '6.3', '3.4', '5.6', '2.4', 'virginica'], ['138', '6.4', '3.1', '5.5', '1.8', 'virginica'], ['139', '6.0', '3.0', '4.8', '1.8', 'virginica'], ['140', '6.9', '3.1', '5.4', '2.1', 'virginica'], ['141', '6.7', '3.1', '5.6', '2.4', 'virginica'], ['142', '6.9', '3.1', '5.1', '2.3', 'virginica'], ['143', '5.8', '2.7', '5.1', '1.9', 'virginica'], ['144', '6.8', '3.2', '5.9', '2.3', 'virginica'], ['145', '6.7', '3.3', '5.7', '2.5', 'virginica'], ['146', '6.7', '3.0', '5.2', '2.3', 'virginica'], ['147', '6.3', '2.5', '5.0', '1.9', 'virginica'], ['148', '6.5', '3.0', '5.2', '2.0', 'virginica'], ['149', '6.2', '3.4', '5.4', '2.3', 'virginica'], ['150', '5.9', '3.0', '5.1', '1.8', 'virginica']]\n",
      "------------------------------\n",
      "[['Id', 'Comprimento_Sepala', 'Largura_Sepala', 'Comprimento_Petala', 'Largura_Petala', 'Especie'], ['1', '5.1', '3.5', '1.4', '0.2', 'setosa'], ['2', '4.9', '3.0', '1.4', '0.2', 'setosa'], ['3', '4.7', '3.2', '1.3', '0.2', 'setosa'], ['4', '4.6', '3.1', '1.5', '0.2', 'setosa'], ['5', '5.0', '3.6', '1.4', '0.2', 'setosa'], ['6', '5.4', '3.9', '1.7', '0.4', 'setosa'], ['7', '4.6', '3.4', '1.4', '0.3', 'setosa'], ['8', '5.0', '3.4', '1.5', '0.2', 'setosa'], ['9', '4.4', '2.9', '1.4', '0.2', 'setosa'], ['10', '4.9', '3.1', '1.5', '0.1', 'setosa'], ['11', '5.4', '3.7', '1.5', '0.2', 'setosa'], ['12', '4.8', '3.4', '1.6', '0.2', 'setosa'], ['13', '4.8', '3.0', '1.4', '0.1', 'setosa'], ['14', '4.3', '3.0', '1.1', '0.1', 'setosa'], ['15', '5.8', '4.0', '1.2', '0.2', 'setosa'], ['16', '5.7', '4.4', '1.5', '0.4', 'setosa'], ['17', '5.4', '3.9', '1.3', '0.4', 'setosa'], ['18', '5.1', '3.5', '1.4', '0.3', 'setosa'], ['19', '5.7', '3.8', '1.7', '0.3', 'setosa'], ['20', '5.1', '3.8', '1.5', '0.3', 'setosa'], ['21', '5.4', '3.4', '1.7', '0.2', 'setosa'], ['22', '5.1', '3.7', '1.5', '0.4', 'setosa'], ['23', '4.6', '3.6', '1.0', '0.2', 'setosa'], ['24', '5.1', '3.3', '1.7', '0.5', 'setosa'], ['25', '4.8', '3.4', '1.9', '0.2', 'setosa'], ['26', '5.0', '3.0', '1.6', '0.2', 'setosa'], ['27', '5.0', '3.4', '1.6', '0.4', 'setosa'], ['28', '5.2', '3.5', '1.5', '0.2', 'setosa'], ['29', '5.2', '3.4', '1.4', '0.2', 'setosa'], ['30', '4.7', '3.2', '1.6', '0.2', 'setosa'], ['31', '4.8', '3.1', '1.6', '0.2', 'setosa'], ['32', '5.4', '3.4', '1.5', '0.4', 'setosa'], ['33', '5.2', '4.1', '1.5', '0.1', 'setosa'], ['34', '5.5', '4.2', '1.4', '0.2', 'setosa'], ['35', '4.9', '3.1', '1.5', '0.1', 'setosa'], ['36', '5.0', '3.2', '1.2', '0.2', 'setosa'], ['37', '5.5', '3.5', '1.3', '0.2', 'setosa'], ['38', '4.9', '3.1', '1.5', '0.1', 'setosa'], ['39', '4.4', '3.0', '1.3', '0.2', 'setosa'], ['40', '5.1', '3.4', '1.5', '0.2', 'setosa'], ['41', '5.0', '3.5', '1.3', '0.3', 'setosa'], ['42', '4.5', '2.3', '1.3', '0.3', 'setosa'], ['43', '4.4', '3.2', '1.3', '0.2', 'setosa'], ['44', '5.0', '3.5', '1.6', '0.6', 'setosa'], ['45', '5.1', '3.8', '1.9', '0.4', 'setosa'], ['46', '4.8', '3.0', '1.4', '0.3', 'setosa'], ['47', '5.1', '3.8', '1.6', '0.2', 'setosa'], ['48', '4.6', '3.2', '1.4', '0.2', 'setosa'], ['49', '5.3', '3.7', '1.5', '0.2', 'setosa'], ['50', '5.0', '3.3', '1.4', '0.2', 'setosa']]\n",
      "------------------------------\n",
      "[['Id', 'Comprimento_Sepala', 'Largura_Sepala', 'Comprimento_Petala', 'Largura_Petala', 'Especie'], ['51', '7.0', '3.2', '4.7', '1.4', 'versicolor'], ['52', '6.4', '3.2', '4.5', '1.5', 'versicolor'], ['53', '6.9', '3.1', '4.9', '1.5', 'versicolor'], ['54', '5.5', '2.3', '4.0', '1.3', 'versicolor'], ['55', '6.5', '2.8', '4.6', '1.5', 'versicolor'], ['56', '5.7', '2.8', '4.5', '1.3', 'versicolor'], ['57', '6.3', '3.3', '4.7', '1.6', 'versicolor'], ['58', '4.9', '2.4', '3.3', '1.0', 'versicolor'], ['59', '6.6', '2.9', '4.6', '1.3', 'versicolor'], ['60', '5.2', '2.7', '3.9', '1.4', 'versicolor'], ['61', '5.0', '2.0', '3.5', '1.0', 'versicolor'], ['62', '5.9', '3.0', '4.2', '1.5', 'versicolor'], ['63', '6.0', '2.2', '4.0', '1.0', 'versicolor'], ['64', '6.1', '2.9', '4.7', '1.4', 'versicolor'], ['65', '5.6', '2.9', '3.6', '1.3', 'versicolor'], ['66', '6.7', '3.1', '4.4', '1.4', 'versicolor'], ['67', '5.6', '3.0', '4.5', '1.5', 'versicolor'], ['68', '5.8', '2.7', '4.1', '1.0', 'versicolor'], ['69', '6.2', '2.2', '4.5', '1.5', 'versicolor'], ['70', '5.6', '2.5', '3.9', '1.1', 'versicolor'], ['71', '5.9', '3.2', '4.8', '1.8', 'versicolor'], ['72', '6.1', '2.8', '4.0', '1.3', 'versicolor'], ['73', '6.3', '2.5', '4.9', '1.5', 'versicolor'], ['74', '6.1', '2.8', '4.7', '1.2', 'versicolor'], ['75', '6.4', '2.9', '4.3', '1.3', 'versicolor'], ['76', '6.6', '3.0', '4.4', '1.4', 'versicolor'], ['77', '6.8', '2.8', '4.8', '1.4', 'versicolor'], ['78', '6.7', '3.0', '5.0', '1.7', 'versicolor'], ['79', '6.0', '2.9', '4.5', '1.5', 'versicolor'], ['80', '5.7', '2.6', '3.5', '1.0', 'versicolor'], ['81', '5.5', '2.4', '3.8', '1.1', 'versicolor'], ['82', '5.5', '2.4', '3.7', '1.0', 'versicolor'], ['83', '5.8', '2.7', '3.9', '1.2', 'versicolor'], ['84', '6.0', '2.7', '5.1', '1.6', 'versicolor'], ['85', '5.4', '3.0', '4.5', '1.5', 'versicolor'], ['86', '6.0', '3.4', '4.5', '1.6', 'versicolor'], ['87', '6.7', '3.1', '4.7', '1.5', 'versicolor'], ['88', '6.3', '2.3', '4.4', '1.3', 'versicolor'], ['89', '5.6', '3.0', '4.1', '1.3', 'versicolor'], ['90', '5.5', '2.5', '4.0', '1.3', 'versicolor'], ['91', '5.5', '2.6', '4.4', '1.2', 'versicolor'], ['92', '6.1', '3.0', '4.6', '1.4', 'versicolor'], ['93', '5.8', '2.6', '4.0', '1.2', 'versicolor'], ['94', '5.0', '2.3', '3.3', '1.0', 'versicolor'], ['95', '5.6', '2.7', '4.2', '1.3', 'versicolor'], ['96', '5.7', '3.0', '4.2', '1.2', 'versicolor'], ['97', '5.7', '2.9', '4.2', '1.3', 'versicolor'], ['98', '6.2', '2.9', '4.3', '1.3', 'versicolor'], ['99', '5.1', '2.5', '3.0', '1.1', 'versicolor'], ['100', '5.7', '2.8', '4.1', '1.3', 'versicolor']]\n",
      "------------------------------\n",
      "[['Id', 'Comprimento_Sepala', 'Largura_Sepala', 'Comprimento_Petala', 'Largura_Petala', 'Especie'], ['101', '6.3', '3.3', '6.0', '2.5', 'virginica'], ['102', '5.8', '2.7', '5.1', '1.9', 'virginica'], ['103', '7.1', '3.0', '5.9', '2.1', 'virginica'], ['104', '6.3', '2.9', '5.6', '1.8', 'virginica'], ['105', '6.5', '3.0', '5.8', '2.2', 'virginica'], ['106', '7.6', '3.0', '6.6', '2.1', 'virginica'], ['107', '4.9', '2.5', '4.5', '1.7', 'virginica'], ['108', '7.3', '2.9', '6.3', '1.8', 'virginica'], ['109', '6.7', '2.5', '5.8', '1.8', 'virginica'], ['110', '7.2', '3.6', '6.1', '2.5', 'virginica'], ['111', '6.5', '3.2', '5.1', '2.0', 'virginica'], ['112', '6.4', '2.7', '5.3', '1.9', 'virginica'], ['113', '6.8', '3.0', '5.5', '2.1', 'virginica'], ['114', '5.7', '2.5', '5.0', '2.0', 'virginica'], ['115', '5.8', '2.8', '5.1', '2.4', 'virginica'], ['116', '6.4', '3.2', '5.3', '2.3', 'virginica'], ['117', '6.5', '3.0', '5.5', '1.8', 'virginica'], ['118', '7.7', '3.8', '6.7', '2.2', 'virginica'], ['119', '7.7', '2.6', '6.9', '2.3', 'virginica'], ['120', '6.0', '2.2', '5.0', '1.5', 'virginica'], ['121', '6.9', '3.2', '5.7', '2.3', 'virginica'], ['122', '5.6', '2.8', '4.9', '2.0', 'virginica'], ['123', '7.7', '2.8', '6.7', '2.0', 'virginica'], ['124', '6.3', '2.7', '4.9', '1.8', 'virginica'], ['125', '6.7', '3.3', '5.7', '2.1', 'virginica'], ['126', '7.2', '3.2', '6.0', '1.8', 'virginica'], ['127', '6.2', '2.8', '4.8', '1.8', 'virginica'], ['128', '6.1', '3.0', '4.9', '1.8', 'virginica'], ['129', '6.4', '2.8', '5.6', '2.1', 'virginica'], ['130', '7.2', '3.0', '5.8', '1.6', 'virginica'], ['131', '7.4', '2.8', '6.1', '1.9', 'virginica'], ['132', '7.9', '3.8', '6.4', '2.0', 'virginica'], ['133', '6.4', '2.8', '5.6', '2.2', 'virginica'], ['134', '6.3', '2.8', '5.1', '1.5', 'virginica'], ['135', '6.1', '2.6', '5.6', '1.4', 'virginica'], ['136', '7.7', '3.0', '6.1', '2.3', 'virginica'], ['137', '6.3', '3.4', '5.6', '2.4', 'virginica'], ['138', '6.4', '3.1', '5.5', '1.8', 'virginica'], ['139', '6.0', '3.0', '4.8', '1.8', 'virginica'], ['140', '6.9', '3.1', '5.4', '2.1', 'virginica'], ['141', '6.7', '3.1', '5.6', '2.4', 'virginica'], ['142', '6.9', '3.1', '5.1', '2.3', 'virginica'], ['143', '5.8', '2.7', '5.1', '1.9', 'virginica'], ['144', '6.8', '3.2', '5.9', '2.3', 'virginica'], ['145', '6.7', '3.3', '5.7', '2.5', 'virginica'], ['146', '6.7', '3.0', '5.2', '2.3', 'virginica'], ['147', '6.3', '2.5', '5.0', '1.9', 'virginica'], ['148', '6.5', '3.0', '5.2', '2.0', 'virginica'], ['149', '6.2', '3.4', '5.4', '2.3', 'virginica'], ['150', '5.9', '3.0', '5.1', '1.8', 'virginica']]\n",
      "------------------------------\n"
     ]
    }
   ],
   "source": [
    "list1 = conteudo_iris[:]\n",
    "matriz = []\n",
    "matriz_setosa = []\n",
    "matriz_versicolor = []\n",
    "matriz_virginica = []\n",
    "i_row = 0\n",
    "\n",
    "# defino o header de todas as listas particionadas (a lista full ja esta com cabeçalho):\n",
    "# como terei que fazer a somatoria p/ media\n",
    "matriz_setosa.append(list1[0].split(var_delimiter)) \n",
    "matriz_versicolor.append(list1[0].split(var_delimiter))\n",
    "matriz_virginica.append(list1[0].split(var_delimiter))\n",
    "\n",
    "for i in list1:\n",
    "    matriz.append(i.split(var_delimiter))\n",
    "    ##print(i)\n",
    "    print(i_row)\n",
    "    \n",
    "    # salvo o nome da especie da flor em iris_especie para usar no nome da matriz\n",
    "    iris_especie = matriz[i_row][-1]\n",
    "    matriz_target = 'matriz_'+iris_especie # perguntar se essa alternativa é possível e como fazer\n",
    "    print(iris_especie,matriz_target)\n",
    "\n",
    "    if matriz[i_row][-1] == 'setosa':\n",
    "        matriz_setosa.append(i.split(var_delimiter))\n",
    "        #print(\"1 - setosa\")\n",
    "        #print(matriz[i_row][-1])\n",
    "    elif matriz[i_row][-1] == 'versicolor':\n",
    "        matriz_versicolor.append(i.split(var_delimiter))\n",
    "        #print(\"2 - versicolor\")\n",
    "        #print(matriz[i_row][-1])\n",
    "    elif matriz[i_row][-1] == 'virginica':\n",
    "        matriz_virginica.append(i.split(var_delimiter))\n",
    "        #print(\"3 - virginica\")\n",
    "        #print( matriz[i_row][-1])\n",
    "    else:\n",
    "        pass    #comando que faz passar e nao executa nada\n",
    "        #header=1\n",
    "        #print(\"4 - Descarte\")\n",
    "        #print(matriz[i_row][-1])\n",
    "    i_row += 1\n",
    "\n",
    "#'''\n",
    "print(matriz)\n",
    "print('-'*30)\n",
    "print(matriz_setosa)\n",
    "print('-'*30)\n",
    "print(matriz_versicolor)\n",
    "print('-'*30)\n",
    "print(matriz_virginica)\n",
    "print('-'*30)\n",
    "#'''    \n",
    "#for j in matriz:\n",
    "#    print(j)"
   ]
  },
  {
   "cell_type": "code",
   "execution_count": 9,
   "metadata": {
    "scrolled": true
   },
   "outputs": [
    {
     "data": {
      "text/plain": [
       "'\\n    if matriz[i_row][-1] == \\'setosa\\':\\n        matriz_setosa.append(i.split(var_delimiter))\\n        #print(\"1 - setosa\")\\n        #print(matriz[i_row][-1])\\n    elif matriz[i_row][-1] == \\'versicolor\\':\\n        matriz_versicolor.append(i.split(var_delimiter))\\n        #print(\"2 - versicolor\")\\n        #print(matriz[i_row][-1])\\n    elif matriz[i_row][-1] == \\'virginica\\':\\n        matriz_virginica.append(i.split(var_delimiter))\\n        #print(\"3 - virginica\")\\n        #print( matriz[i_row][-1])\\n    else:\\n        header=1\\n        #print(\"4 - Descarte\")\\n        #print(matriz[i_row][-1])\\n    i_row += 1\\n'"
      ]
     },
     "execution_count": 9,
     "metadata": {},
     "output_type": "execute_result"
    }
   ],
   "source": [
    "# anotacao de desenvolviemnto do passo anterior:\n",
    "'''\n",
    "    if matriz[i_row][-1] == 'setosa':\n",
    "        matriz_setosa.append(i.split(var_delimiter))\n",
    "        #print(\"1 - setosa\")\n",
    "        #print(matriz[i_row][-1])\n",
    "    elif matriz[i_row][-1] == 'versicolor':\n",
    "        matriz_versicolor.append(i.split(var_delimiter))\n",
    "        #print(\"2 - versicolor\")\n",
    "        #print(matriz[i_row][-1])\n",
    "    elif matriz[i_row][-1] == 'virginica':\n",
    "        matriz_virginica.append(i.split(var_delimiter))\n",
    "        #print(\"3 - virginica\")\n",
    "        #print( matriz[i_row][-1])\n",
    "    else:\n",
    "        header=1\n",
    "        #print(\"4 - Descarte\")\n",
    "        #print(matriz[i_row][-1])\n",
    "    i_row += 1\n",
    "'''"
   ]
  },
  {
   "cell_type": "code",
   "execution_count": 10,
   "metadata": {},
   "outputs": [],
   "source": [
    "# Buscar pela ultima coluna e verificar qual grupo de especie é.\n",
    "#matriz[0][-1]\n",
    "#matriz[100][-1]"
   ]
  },
  {
   "cell_type": "code",
   "execution_count": 11,
   "metadata": {},
   "outputs": [
    {
     "name": "stdout",
     "output_type": "stream",
     "text": [
      "No.linhas:50,\n",
      "comp_sepala: 5.0,\n",
      "larg_sepala: 3.4,\n",
      "comp_petala: 1.5,\n",
      "larg_petala: 0.2\n",
      "[5.0, 3.4, 1.5, 0.2, 'setosa']\n"
     ]
    }
   ],
   "source": [
    "# faz a contagem e somatoria de cada matriz separada por flor:\n",
    "\n",
    "#matriz_setosa = []\n",
    "#matriz_versicolor = []\n",
    "#matriz_virginica = []\n",
    "# definindo valores iniciais\n",
    "comp_sepala = 0\n",
    "larg_sepala = 0\n",
    "comp_petala = 0\n",
    "larg_petala = 0\n",
    "m_row       = 0\n",
    "m_row_val   = len(matriz_setosa)-1\n",
    "\n",
    "for m in matriz_setosa:\n",
    "    if m_row != 0:   #skip para a 1a. linha pois ela é o titulo(texto)\n",
    "        #print(matriz_setosa[m_row][1])\n",
    "        comp_sepala = comp_sepala + float(matriz_setosa[m_row][1])   #Comprimento_Sepala\n",
    "        larg_sepala = larg_sepala + float(matriz_setosa[m_row][2])   #Largura_Sepala\n",
    "        comp_petala = comp_petala + float(matriz_setosa[m_row][3])   #Comprimento_Petala\n",
    "        larg_petala = larg_petala + float(matriz_setosa[m_row][4])   #Largura_Petala\n",
    "    m_row += 1\n",
    "comp_sepala_media = float(\"{0:.1f}\".format(comp_sepala/m_row_val))\n",
    "larg_sepala_media = float(\"{0:.1f}\".format(larg_sepala/m_row_val))\n",
    "comp_petala_media = float(\"{0:.1f}\".format(comp_petala/m_row_val))\n",
    "larg_petala_media = float(\"{0:.1f}\".format(larg_petala/m_row_val))\n",
    "print('No.linhas:'+str(m_row_val)+',\\ncomp_sepala: '+str(comp_sepala_media)+',\\nlarg_sepala: '+str(larg_sepala_media)+',\\ncomp_petala: '+str(comp_petala_media)+',\\nlarg_petala: '+str(larg_petala_media))\n",
    "\n",
    "l_setosa = [comp_sepala_media,larg_sepala_media,comp_petala_media,larg_petala_media,'setosa']\n",
    "print(l_setosa)"
   ]
  },
  {
   "cell_type": "code",
   "execution_count": null,
   "metadata": {},
   "outputs": [],
   "source": []
  },
  {
   "cell_type": "code",
   "execution_count": 12,
   "metadata": {},
   "outputs": [
    {
     "name": "stdout",
     "output_type": "stream",
     "text": [
      "No.linhas:50,\n",
      "comp_sepala: 5.9,\n",
      "larg_sepala: 2.8,\n",
      "comp_petala: 4.3,\n",
      "larg_petala: 1.3\n",
      "[5.9, 2.8, 4.3, 1.3, 'versicolor']\n"
     ]
    }
   ],
   "source": [
    "comp_sepala = 0\n",
    "larg_sepala = 0\n",
    "comp_petala = 0\n",
    "larg_petala = 0\n",
    "m_row       = 0\n",
    "m_row_val   = len(matriz_versicolor)-1\n",
    "\n",
    "for m in matriz_versicolor:\n",
    "    if m_row != 0:   #skip para a 1a. linha pois ela é o titulo(texto)\n",
    "        #print(matriz_versicolor[m_row][1])\n",
    "        comp_sepala = comp_sepala + float(matriz_versicolor[m_row][1])   #Comprimento_Sepala\n",
    "        larg_sepala = larg_sepala + float(matriz_versicolor[m_row][2])   #Largura_Sepala\n",
    "        comp_petala = comp_petala + float(matriz_versicolor[m_row][3])   #Comprimento_Petala\n",
    "        larg_petala = larg_petala + float(matriz_versicolor[m_row][4])   #Largura_Petala\n",
    "    m_row += 1\n",
    "comp_sepala_media = float(\"{0:.1f}\".format(comp_sepala/m_row_val))\n",
    "larg_sepala_media = float(\"{0:.1f}\".format(larg_sepala/m_row_val))\n",
    "comp_petala_media = float(\"{0:.1f}\".format(comp_petala/m_row_val))\n",
    "larg_petala_media = float(\"{0:.1f}\".format(larg_petala/m_row_val))\n",
    "print('No.linhas:'+str(m_row_val)+',\\ncomp_sepala: '+str(comp_sepala_media)+',\\nlarg_sepala: '+str(larg_sepala_media)+',\\ncomp_petala: '+str(comp_petala_media)+',\\nlarg_petala: '+str(larg_petala_media))\n",
    "\n",
    "l_versicolor = [comp_sepala_media,larg_sepala_media,comp_petala_media,larg_petala_media,'versicolor']\n",
    "print(l_versicolor)"
   ]
  },
  {
   "cell_type": "code",
   "execution_count": 13,
   "metadata": {},
   "outputs": [
    {
     "name": "stdout",
     "output_type": "stream",
     "text": [
      "['51', '7.0', '3.2', '4.7', '1.4', 'versicolor']\n"
     ]
    }
   ],
   "source": [
    "print(matriz_versicolor[1])"
   ]
  },
  {
   "cell_type": "code",
   "execution_count": 14,
   "metadata": {},
   "outputs": [
    {
     "name": "stdout",
     "output_type": "stream",
     "text": [
      "No.linhas:50,\n",
      "comp_sepala: 6.6,\n",
      "larg_sepala: 3.0,\n",
      "comp_petala: 5.6,\n",
      "larg_petala: 2.0\n",
      "[6.6, 3.0, 5.6, 2.0, 'virginica']\n"
     ]
    }
   ],
   "source": [
    "comp_sepala = 0\n",
    "larg_sepala = 0\n",
    "comp_petala = 0\n",
    "larg_petala = 0\n",
    "m_row       = 0\n",
    "m_row_val   = len(matriz_virginica)-1\n",
    "\n",
    "for m in matriz_virginica:\n",
    "    if m_row != 0:   #skip para a 1a. linha pois ela é o titulo(texto)\n",
    "        #print(matriz_virginica[m_row][1])\n",
    "        comp_sepala = comp_sepala + float(matriz_virginica[m_row][1])   #Comprimento_Sepala\n",
    "        larg_sepala = larg_sepala + float(matriz_virginica[m_row][2])   #Largura_Sepala\n",
    "        comp_petala = comp_petala + float(matriz_virginica[m_row][3])   #Comprimento_Petala\n",
    "        larg_petala = larg_petala + float(matriz_virginica[m_row][4])   #Largura_Petala\n",
    "    m_row += 1\n",
    "comp_sepala_media = float(\"{0:.1f}\".format(comp_sepala/m_row_val))\n",
    "larg_sepala_media = float(\"{0:.1f}\".format(larg_sepala/m_row_val))\n",
    "comp_petala_media = float(\"{0:.1f}\".format(comp_petala/m_row_val))\n",
    "larg_petala_media = float(\"{0:.1f}\".format(larg_petala/m_row_val))\n",
    "print('No.linhas:'+str(m_row_val)+',\\ncomp_sepala: '+str(comp_sepala_media)+',\\nlarg_sepala: '+str(larg_sepala_media)+',\\ncomp_petala: '+str(comp_petala_media)+',\\nlarg_petala: '+str(larg_petala_media))\n",
    "\n",
    "l_virginica = [comp_sepala_media,larg_sepala_media,comp_petala_media,larg_petala_media,'virginica']\n",
    "print(l_virginica)"
   ]
  },
  {
   "cell_type": "code",
   "execution_count": 15,
   "metadata": {},
   "outputs": [],
   "source": [
    "#     Duvida, qual melhor forma? Converter as variaveis em String e criar uma string concatenada por ';' e\n",
    "# apos isso gravar em arquivo?\n",
    "#    levantar duvida de automatizar a criação de arquivos conforme a coluna 'especie' por loop analisando \n",
    "# todas as ocorrências distintas de especies"
   ]
  },
  {
   "cell_type": "code",
   "execution_count": 16,
   "metadata": {
    "scrolled": true
   },
   "outputs": [
    {
     "name": "stdout",
     "output_type": "stream",
     "text": [
      "[5.9, 2.8, 4.3, 1.3, 'versicolor']\n",
      "[6.6, 3.0, 5.6, 2.0, 'virginica']\n",
      "[5.0, 3.4, 1.5, 0.2, 'setosa']\n"
     ]
    }
   ],
   "source": [
    "print(l_versicolor)\n",
    "print(l_virginica)\n",
    "print(l_setosa)\n"
   ]
  },
  {
   "cell_type": "code",
   "execution_count": null,
   "metadata": {},
   "outputs": [],
   "source": []
  },
  {
   "cell_type": "code",
   "execution_count": 17,
   "metadata": {},
   "outputs": [],
   "source": [
    "cabecalho = conteudo_iris[0].split(';')[1:-1]"
   ]
  },
  {
   "cell_type": "markdown",
   "metadata": {},
   "source": [
    "['MEDIA_Comprimento_Sepala',\n",
    " 'MEDIA_Largura_Sepala',\n",
    " 'MEDIA_Comprimento_Petala',\n",
    " 'MEDIA_Largura_Petala']"
   ]
  },
  {
   "cell_type": "code",
   "execution_count": 18,
   "metadata": {},
   "outputs": [],
   "source": [
    "contador = 0\n",
    "while contador < len(cabecalho):\n",
    "    cabecalho[contador] = 'MEDIA_'+cabecalho[contador]\n",
    "    contador = contador + 1"
   ]
  },
  {
   "cell_type": "code",
   "execution_count": 19,
   "metadata": {},
   "outputs": [
    {
     "name": "stdout",
     "output_type": "stream",
     "text": [
      "['MEDIA_Comprimento_Sepala', 'MEDIA_Largura_Sepala', 'MEDIA_Comprimento_Petala', 'MEDIA_Largura_Petala']\n"
     ]
    }
   ],
   "source": [
    "print(cabecalho)"
   ]
  },
  {
   "cell_type": "code",
   "execution_count": 47,
   "metadata": {},
   "outputs": [],
   "source": [
    "setosa = open('dados/setosa.csv', mode = 'a', encoding='UTF-8')\n",
    "versicolor = open('dados/versicolor.csv', mode = 'a', encoding='UTF-8')\n",
    "virginica = open('dados/virginica.csv', mode = 'a', encoding='UTF-8')"
   ]
  },
  {
   "cell_type": "code",
   "execution_count": null,
   "metadata": {},
   "outputs": [],
   "source": []
  },
  {
   "cell_type": "code",
   "execution_count": 28,
   "metadata": {},
   "outputs": [],
   "source": [
    "contador = 0\n",
    "while contador < len(l_setosa):\n",
    "    #l_setosa[contador] = 'MEDIA_'+l_setosa[contador]\n",
    "    l_setosa[contador] =  str(l_setosa[contador])\n",
    "    contador = contador + 1"
   ]
  },
  {
   "cell_type": "code",
   "execution_count": 29,
   "metadata": {},
   "outputs": [],
   "source": [
    "contador = 0\n",
    "while contador < len(l_versicolor):\n",
    "    #l_setosa[contador] = 'MEDIA_'+l_setosa[contador]\n",
    "    l_versicolor[contador] =  str(l_versicolor[contador])\n",
    "    contador = contador + 1"
   ]
  },
  {
   "cell_type": "code",
   "execution_count": 30,
   "metadata": {},
   "outputs": [],
   "source": [
    "contador = 0\n",
    "while contador < len(l_virginica):\n",
    "    #l_setosa[contador] = 'MEDIA_'+l_setosa[contador]\n",
    "    l_virginica[contador] =  str(l_virginica[contador])\n",
    "    contador = contador + 1"
   ]
  },
  {
   "cell_type": "code",
   "execution_count": 44,
   "metadata": {},
   "outputs": [
    {
     "data": {
      "text/plain": [
       "23"
      ]
     },
     "execution_count": 44,
     "metadata": {},
     "output_type": "execute_result"
    }
   ],
   "source": [
    "setosa.write('@'.join(cabecalho)+'\\n')\n",
    "setosa.write('@'.join(l_setosa)+'\\n')"
   ]
  },
  {
   "cell_type": "code",
   "execution_count": 48,
   "metadata": {},
   "outputs": [
    {
     "data": {
      "text/plain": [
       "26"
      ]
     },
     "execution_count": 48,
     "metadata": {},
     "output_type": "execute_result"
    }
   ],
   "source": [
    "virginica.write('@'.join(cabecalho)+'\\n')\n",
    "virginica.write('@'.join(l_virginica)+'\\n')"
   ]
  },
  {
   "cell_type": "code",
   "execution_count": 49,
   "metadata": {},
   "outputs": [
    {
     "data": {
      "text/plain": [
       "27"
      ]
     },
     "execution_count": 49,
     "metadata": {},
     "output_type": "execute_result"
    }
   ],
   "source": [
    "versicolor.write('@'.join(cabecalho)+'\\n')\n",
    "versicolor.write('@'.join(l_versicolor)+'\\n')"
   ]
  },
  {
   "cell_type": "code",
   "execution_count": 39,
   "metadata": {},
   "outputs": [
    {
     "name": "stdout",
     "output_type": "stream",
     "text": [
      "['MEDIA_Comprimento_Sepala', 'MEDIA_Largura_Sepala', 'MEDIA_Comprimento_Petala', 'MEDIA_Largura_Petala']\n"
     ]
    }
   ],
   "source": [
    "print(cabecalho)"
   ]
  },
  {
   "cell_type": "code",
   "execution_count": 33,
   "metadata": {},
   "outputs": [
    {
     "data": {
      "text/plain": [
       "'5.0@3.4@1.5@0.2@setosa'"
      ]
     },
     "execution_count": 33,
     "metadata": {},
     "output_type": "execute_result"
    }
   ],
   "source": [
    "'@'.join(l_setosa)"
   ]
  },
  {
   "cell_type": "code",
   "execution_count": null,
   "metadata": {},
   "outputs": [],
   "source": []
  },
  {
   "cell_type": "code",
   "execution_count": 36,
   "metadata": {},
   "outputs": [
    {
     "data": {
      "text/plain": [
       "22"
      ]
     },
     "execution_count": 36,
     "metadata": {},
     "output_type": "execute_result"
    }
   ],
   "source": [
    "#setosa.write('@'.join(l_setosa))"
   ]
  },
  {
   "cell_type": "code",
   "execution_count": 45,
   "metadata": {},
   "outputs": [],
   "source": [
    "setosa.close()\n",
    "versicolor.close()\n",
    "virginica.close()"
   ]
  },
  {
   "cell_type": "code",
   "execution_count": null,
   "metadata": {},
   "outputs": [],
   "source": []
  }
 ],
 "metadata": {
  "kernelspec": {
   "display_name": "Python 3",
   "language": "python",
   "name": "python3"
  },
  "language_info": {
   "codemirror_mode": {
    "name": "ipython",
    "version": 3
   },
   "file_extension": ".py",
   "mimetype": "text/x-python",
   "name": "python",
   "nbconvert_exporter": "python",
   "pygments_lexer": "ipython3",
   "version": "3.8.3"
  }
 },
 "nbformat": 4,
 "nbformat_minor": 4
}
