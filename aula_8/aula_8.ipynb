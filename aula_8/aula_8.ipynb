{
 "cells": [
  {
   "cell_type": "code",
   "execution_count": 1,
   "metadata": {},
   "outputs": [],
   "source": [
    "#arquivos de configuração"
   ]
  },
  {
   "cell_type": "code",
   "execution_count": 2,
   "metadata": {},
   "outputs": [],
   "source": [
    "#https://docs.python.org/3/library/configparser.html"
   ]
  },
  {
   "cell_type": "markdown",
   "metadata": {},
   "source": [
    "## Objetivo\n",
    "Removendo hard code dos códigos, tornando tudo mais limpo, organizando e auxiliando para schedular"
   ]
  },
  {
   "cell_type": "code",
   "execution_count": 1,
   "metadata": {},
   "outputs": [],
   "source": [
    "from configparser import ConfigParser"
   ]
  },
  {
   "cell_type": "code",
   "execution_count": 2,
   "metadata": {},
   "outputs": [],
   "source": [
    "sextou = ConfigParser()"
   ]
  },
  {
   "cell_type": "code",
   "execution_count": 3,
   "metadata": {},
   "outputs": [
    {
     "data": {
      "text/plain": [
       "configparser.ConfigParser"
      ]
     },
     "execution_count": 3,
     "metadata": {},
     "output_type": "execute_result"
    }
   ],
   "source": [
    "type(sextou)"
   ]
  },
  {
   "cell_type": "code",
   "execution_count": 4,
   "metadata": {},
   "outputs": [
    {
     "name": "stdout",
     "output_type": "stream",
     "text": [
      "<configparser.ConfigParser object at 0x000002261BCA6518>\n"
     ]
    }
   ],
   "source": [
    "print(sextou)"
   ]
  },
  {
   "cell_type": "code",
   "execution_count": 5,
   "metadata": {},
   "outputs": [
    {
     "data": {
      "text/plain": [
       "['BOOLEAN_STATES',\n",
       " 'NONSPACECRE',\n",
       " 'OPTCRE',\n",
       " 'OPTCRE_NV',\n",
       " 'SECTCRE',\n",
       " '_DEFAULT_INTERPOLATION',\n",
       " '_MutableMapping__marker',\n",
       " '_OPT_NV_TMPL',\n",
       " '_OPT_TMPL',\n",
       " '_SECT_TMPL',\n",
       " '__abstractmethods__',\n",
       " '__class__',\n",
       " '__contains__',\n",
       " '__delattr__',\n",
       " '__delitem__',\n",
       " '__dict__',\n",
       " '__dir__',\n",
       " '__doc__',\n",
       " '__eq__',\n",
       " '__format__',\n",
       " '__ge__',\n",
       " '__getattribute__',\n",
       " '__getitem__',\n",
       " '__gt__',\n",
       " '__hash__',\n",
       " '__init__',\n",
       " '__init_subclass__',\n",
       " '__iter__',\n",
       " '__le__',\n",
       " '__len__',\n",
       " '__lt__',\n",
       " '__module__',\n",
       " '__ne__',\n",
       " '__new__',\n",
       " '__reduce__',\n",
       " '__reduce_ex__',\n",
       " '__repr__',\n",
       " '__reversed__',\n",
       " '__setattr__',\n",
       " '__setitem__',\n",
       " '__sizeof__',\n",
       " '__slots__',\n",
       " '__str__',\n",
       " '__subclasshook__',\n",
       " '__weakref__',\n",
       " '_abc_cache',\n",
       " '_abc_negative_cache',\n",
       " '_abc_negative_cache_version',\n",
       " '_abc_registry',\n",
       " '_allow_no_value',\n",
       " '_comment_prefixes',\n",
       " '_convert_to_boolean',\n",
       " '_converters',\n",
       " '_defaults',\n",
       " '_delimiters',\n",
       " '_dict',\n",
       " '_empty_lines_in_values',\n",
       " '_get',\n",
       " '_get_conv',\n",
       " '_handle_error',\n",
       " '_inline_comment_prefixes',\n",
       " '_interpolation',\n",
       " '_join_multiline_values',\n",
       " '_optcre',\n",
       " '_proxies',\n",
       " '_read',\n",
       " '_sections',\n",
       " '_strict',\n",
       " '_unify_values',\n",
       " '_validate_value_types',\n",
       " '_write_section',\n",
       " 'add_section',\n",
       " 'clear',\n",
       " 'converters',\n",
       " 'default_section',\n",
       " 'defaults',\n",
       " 'get',\n",
       " 'getboolean',\n",
       " 'getfloat',\n",
       " 'getint',\n",
       " 'has_option',\n",
       " 'has_section',\n",
       " 'items',\n",
       " 'keys',\n",
       " 'options',\n",
       " 'optionxform',\n",
       " 'pop',\n",
       " 'popitem',\n",
       " 'read',\n",
       " 'read_dict',\n",
       " 'read_file',\n",
       " 'read_string',\n",
       " 'readfp',\n",
       " 'remove_option',\n",
       " 'remove_section',\n",
       " 'sections',\n",
       " 'set',\n",
       " 'setdefault',\n",
       " 'update',\n",
       " 'values',\n",
       " 'write']"
      ]
     },
     "execution_count": 5,
     "metadata": {},
     "output_type": "execute_result"
    }
   ],
   "source": [
    "dir(sextou)"
   ]
  },
  {
   "cell_type": "code",
   "execution_count": 6,
   "metadata": {},
   "outputs": [],
   "source": [
    "sextou['tarefas pos curso'] = {\n",
    "        'opcao_1': 'beber'\n",
    "        ,'opcao_2' : 'cuidar do bebe'\n",
    "        ,'opcao_3' : 'dormir'\n",
    "        ,'opcao_4' : 'comer'\n",
    "        ,'opcao_5' : 'netflix'\n",
    "        ,'opcao_6' : 'ver a seleção'\n",
    "    }"
   ]
  },
  {
   "cell_type": "code",
   "execution_count": 27,
   "metadata": {},
   "outputs": [],
   "source": [
    "sextou['test'] = {\n",
    "        'opcao_1': ('beber','#test comentario')\n",
    "}"
   ]
  },
  {
   "cell_type": "code",
   "execution_count": 9,
   "metadata": {},
   "outputs": [],
   "source": [
    "sextou['config sulamerica'] = {\n",
    "    'login_sql': 'admin'\n",
    "    ,'senha_sql': 'admin'\n",
    "    ,'database':'TESTE'\n",
    "}"
   ]
  },
  {
   "cell_type": "code",
   "execution_count": 28,
   "metadata": {},
   "outputs": [],
   "source": [
    "with open('cfg.ini','w') as f:\n",
    "    sextou.write(f)"
   ]
  },
  {
   "cell_type": "code",
   "execution_count": 13,
   "metadata": {},
   "outputs": [],
   "source": [
    "#lendo esse arquivo de parâmetros"
   ]
  },
  {
   "cell_type": "code",
   "execution_count": 22,
   "metadata": {},
   "outputs": [],
   "source": [
    "consumir = ConfigParser()"
   ]
  },
  {
   "cell_type": "code",
   "execution_count": 23,
   "metadata": {},
   "outputs": [
    {
     "data": {
      "text/plain": [
       "['cfg.ini']"
      ]
     },
     "execution_count": 23,
     "metadata": {},
     "output_type": "execute_result"
    }
   ],
   "source": [
    "consumir.read('cfg.ini')"
   ]
  },
  {
   "cell_type": "code",
   "execution_count": 24,
   "metadata": {},
   "outputs": [
    {
     "data": {
      "text/plain": [
       "['tarefas pos curso', 'config sulamerica']"
      ]
     },
     "execution_count": 24,
     "metadata": {},
     "output_type": "execute_result"
    }
   ],
   "source": [
    "consumir.sections()"
   ]
  },
  {
   "cell_type": "code",
   "execution_count": 25,
   "metadata": {},
   "outputs": [
    {
     "data": {
      "text/plain": [
       "['opcao_1', 'opcao_2', 'opcao_3', 'opcao_4', 'opcao_5', 'opcao_6']"
      ]
     },
     "execution_count": 25,
     "metadata": {},
     "output_type": "execute_result"
    }
   ],
   "source": [
    "consumir.options('tarefas pos curso')"
   ]
  },
  {
   "cell_type": "code",
   "execution_count": 26,
   "metadata": {},
   "outputs": [
    {
     "data": {
      "text/plain": [
       "'nada'"
      ]
     },
     "execution_count": 26,
     "metadata": {},
     "output_type": "execute_result"
    }
   ],
   "source": [
    "consumir.get('tarefas pos curso','opcao_2')"
   ]
  },
  {
   "cell_type": "code",
   "execution_count": 30,
   "metadata": {},
   "outputs": [
    {
     "name": "stdout",
     "output_type": "stream",
     "text": [
      "Help on method set in module configparser:\n",
      "\n",
      "set(section, option, value=None) method of configparser.ConfigParser instance\n",
      "    Set an option.  Extends RawConfigParser.set by validating type and\n",
      "    interpolation syntax on the value.\n",
      "\n"
     ]
    }
   ],
   "source": [
    "help(consumir.set)"
   ]
  },
  {
   "cell_type": "code",
   "execution_count": 31,
   "metadata": {},
   "outputs": [],
   "source": [
    "consumir.set('tarefas pos curso','opcao_2','xxxxxx')"
   ]
  },
  {
   "cell_type": "code",
   "execution_count": 32,
   "metadata": {},
   "outputs": [
    {
     "name": "stdout",
     "output_type": "stream",
     "text": [
      "Help on method write in module configparser:\n",
      "\n",
      "write(fp, space_around_delimiters=True) method of configparser.ConfigParser instance\n",
      "    Write an .ini-format representation of the configuration state.\n",
      "    \n",
      "    If `space_around_delimiters' is True (the default), delimiters\n",
      "    between keys and values are surrounded by spaces.\n",
      "\n"
     ]
    }
   ],
   "source": [
    "help(consumir.write)"
   ]
  },
  {
   "cell_type": "code",
   "execution_count": 34,
   "metadata": {},
   "outputs": [],
   "source": [
    "with open('cfg.ini','w') as f:\n",
    "    consumir.write(f)"
   ]
  },
  {
   "cell_type": "code",
   "execution_count": null,
   "metadata": {},
   "outputs": [],
   "source": []
  }
 ],
 "metadata": {
  "kernelspec": {
   "display_name": "Python 3",
   "language": "python",
   "name": "python3"
  },
  "language_info": {
   "codemirror_mode": {
    "name": "ipython",
    "version": 3
   },
   "file_extension": ".py",
   "mimetype": "text/x-python",
   "name": "python",
   "nbconvert_exporter": "python",
   "pygments_lexer": "ipython3",
   "version": "3.6.10"
  }
 },
 "nbformat": 4,
 "nbformat_minor": 4
}
